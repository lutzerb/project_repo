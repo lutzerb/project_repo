{
 "cells": [
  {
   "cell_type": "code",
   "execution_count": 2,
   "metadata": {},
   "outputs": [],
   "source": [
    "import plotly.express as px\n",
    "import plotly.graph_objects as go\n",
    "from sklearn.model_selection import train_test_split\n",
    "from sklearn.ensemble import RandomForestRegressor\n",
    "from sklearn.metrics import mean_squared_error\n",
    "import pickle"
   ]
  },
  {
   "cell_type": "code",
   "execution_count": null,
   "metadata": {},
   "outputs": [],
   "source": []
  },
  {
   "cell_type": "code",
   "execution_count": null,
   "metadata": {},
   "outputs": [],
   "source": []
  },
  {
   "cell_type": "code",
   "execution_count": null,
   "metadata": {},
   "outputs": [],
   "source": []
  },
  {
   "cell_type": "code",
   "execution_count": 3,
   "metadata": {},
   "outputs": [],
   "source": [
    "import pandas as pd"
   ]
  },
  {
   "cell_type": "code",
   "execution_count": null,
   "metadata": {},
   "outputs": [],
   "source": []
  },
  {
   "cell_type": "code",
   "execution_count": 5,
   "metadata": {},
   "outputs": [],
   "source": [
    "df_verkehr= pd.read_csv('../data/raw/verkehrsdaten_basel.csv', encoding = \"ISO-8859-1\", delimiter=\";\")"
   ]
  },
  {
   "cell_type": "code",
   "execution_count": 7,
   "metadata": {},
   "outputs": [
    {
     "data": {
      "text/plain": [
       "Index(['SiteCode', 'SiteName', 'DirectionName', 'LaneCode', 'LaneName', 'Date',\n",
       "       'TimeFrom', 'TimeTo', 'ValuesApproved', 'ValuesEdited', 'TrafficType',\n",
       "       'Total', 'MR', 'PW', 'PW+', 'Lief', 'Lief+', 'Lief+Aufl.', 'LW', 'LW+',\n",
       "       'Sattelzug', 'Bus', 'andere'],\n",
       "      dtype='object')"
      ]
     },
     "execution_count": 7,
     "metadata": {},
     "output_type": "execute_result"
    }
   ],
   "source": [
    "df_verkehr.columns"
   ]
  },
  {
   "cell_type": "code",
   "execution_count": 10,
   "metadata": {},
   "outputs": [
    {
     "name": "stdout",
     "output_type": "stream",
     "text": [
      "Hello\n"
     ]
    }
   ],
   "source": [
    "print(\"Hello\")"
   ]
  },
  {
   "cell_type": "code",
   "execution_count": 19,
   "metadata": {},
   "outputs": [
    {
     "data": {
      "text/plain": [
       "0          21.08.2014 01:00\n",
       "1          21.08.2014 02:00\n",
       "2          21.08.2014 03:00\n",
       "3          21.08.2014 04:00\n",
       "4          21.08.2014 05:00\n",
       "5          21.08.2014 06:00\n",
       "6          21.08.2014 07:00\n",
       "7          21.08.2014 08:00\n",
       "8          21.08.2014 09:00\n",
       "9          21.08.2014 10:00\n",
       "10         21.08.2014 11:00\n",
       "11         21.08.2014 12:00\n",
       "12         21.08.2014 13:00\n",
       "13         21.08.2014 14:00\n",
       "14         21.08.2014 15:00\n",
       "15         21.08.2014 16:00\n",
       "16         21.08.2014 17:00\n",
       "17         21.08.2014 18:00\n",
       "18         21.08.2014 19:00\n",
       "19         21.08.2014 20:00\n",
       "20         21.08.2014 21:00\n",
       "21         21.08.2014 22:00\n",
       "22         21.08.2014 23:00\n",
       "23         21.08.2014 00:00\n",
       "24         22.08.2014 01:00\n",
       "25         22.08.2014 02:00\n",
       "26         22.08.2014 03:00\n",
       "27         22.08.2014 04:00\n",
       "28         22.08.2014 05:00\n",
       "29         22.08.2014 06:00\n",
       "                 ...       \n",
       "3212730    03.05.2020 19:00\n",
       "3212731    03.05.2020 20:00\n",
       "3212732    03.05.2020 21:00\n",
       "3212733    03.05.2020 22:00\n",
       "3212734    03.05.2020 23:00\n",
       "3212735    03.05.2020 00:00\n",
       "3212736    04.05.2020 01:00\n",
       "3212737    04.05.2020 02:00\n",
       "3212738    04.05.2020 03:00\n",
       "3212739    04.05.2020 04:00\n",
       "3212740    04.05.2020 05:00\n",
       "3212741    04.05.2020 06:00\n",
       "3212742    04.05.2020 07:00\n",
       "3212743    04.05.2020 08:00\n",
       "3212744    04.05.2020 09:00\n",
       "3212745    04.05.2020 10:00\n",
       "3212746    04.05.2020 11:00\n",
       "3212747    04.05.2020 12:00\n",
       "3212748    04.05.2020 13:00\n",
       "3212749    04.05.2020 14:00\n",
       "3212750    04.05.2020 15:00\n",
       "3212751    04.05.2020 16:00\n",
       "3212752    04.05.2020 17:00\n",
       "3212753    04.05.2020 18:00\n",
       "3212754    04.05.2020 19:00\n",
       "3212755    04.05.2020 20:00\n",
       "3212756    04.05.2020 21:00\n",
       "3212757    04.05.2020 22:00\n",
       "3212758    04.05.2020 23:00\n",
       "3212759    04.05.2020 00:00\n",
       "Length: 3212760, dtype: object"
      ]
     },
     "execution_count": 19,
     "metadata": {},
     "output_type": "execute_result"
    }
   ],
   "source": [
    "df_verkehr.Date+\" \"+df_verkehr.TimeTo"
   ]
  },
  {
   "cell_type": "code",
   "execution_count": null,
   "metadata": {},
   "outputs": [],
   "source": [
    "df_verkehr['timestamp']= pd.to_datetime(df_verkehr.Date+\" \"+df_verkehr.TimeTo, dayfirst=True) "
   ]
  },
  {
   "cell_type": "code",
   "execution_count": null,
   "metadata": {},
   "outputs": [],
   "source": [
    "df_verkehr.timestamp"
   ]
  },
  {
   "cell_type": "code",
   "execution_count": null,
   "metadata": {},
   "outputs": [],
   "source": []
  }
 ],
 "metadata": {
  "kernelspec": {
   "display_name": "Python 3",
   "language": "python",
   "name": "python3"
  },
  "language_info": {
   "codemirror_mode": {
    "name": "ipython",
    "version": 3
   },
   "file_extension": ".py",
   "mimetype": "text/x-python",
   "name": "python",
   "nbconvert_exporter": "python",
   "pygments_lexer": "ipython3",
   "version": "3.7.5"
  }
 },
 "nbformat": 4,
 "nbformat_minor": 2
}
