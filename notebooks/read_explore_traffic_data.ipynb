{
 "cells": [
  {
   "cell_type": "code",
   "execution_count": 1,
   "metadata": {},
   "outputs": [],
   "source": [
    "import plotly.express as px\n",
    "import plotly.graph_objects as go\n",
    "from sklearn.model_selection import train_test_split\n",
    "from sklearn.ensemble import RandomForestRegressor\n",
    "from sklearn.metrics import mean_squared_error\n",
    "import pickle"
   ]
  },
  {
   "cell_type": "markdown",
   "metadata": {},
   "source": [
    "# Here we explore the traffic data for Basel. The file is rather large (~500 MiB)"
   ]
  },
  {
   "cell_type": "code",
   "execution_count": 2,
   "metadata": {},
   "outputs": [],
   "source": [
    "import pandas as pd"
   ]
  },
  {
   "cell_type": "code",
   "execution_count": 3,
   "metadata": {},
   "outputs": [],
   "source": [
    "df_verkehr= pd.read_csv('../data/raw/verkehrsdaten_basel.csv', encoding = \"ISO-8859-1\", delimiter=\";\")"
   ]
  },
  {
   "cell_type": "markdown",
   "metadata": {},
   "source": [
    "#### What columns exists here?"
   ]
  },
  {
   "cell_type": "code",
   "execution_count": 4,
   "metadata": {},
   "outputs": [
    {
     "data": {
      "text/plain": [
       "Index(['SiteCode', 'SiteName', 'DirectionName', 'LaneCode', 'LaneName', 'Date',\n",
       "       'TimeFrom', 'TimeTo', 'ValuesApproved', 'ValuesEdited', 'TrafficType',\n",
       "       'Total', 'MR', 'PW', 'PW+', 'Lief', 'Lief+', 'Lief+Aufl.', 'LW', 'LW+',\n",
       "       'Sattelzug', 'Bus', 'andere'],\n",
       "      dtype='object')"
      ]
     },
     "execution_count": 4,
     "metadata": {},
     "output_type": "execute_result"
    }
   ],
   "source": [
    "df_verkehr.columns"
   ]
  },
  {
   "cell_type": "markdown",
   "metadata": {},
   "source": [
    "#### We will only use time, date and total, all others are split up between types of traffic. May be interesting for further use."
   ]
  },
  {
   "cell_type": "markdown",
   "metadata": {},
   "source": [
    "#### In this file, date and time are in seperate values. We need it combined into a variable so we marry the strings together. There are two time values, I arbitrarily choose TimeTo instead of TimeFrom"
   ]
  },
  {
   "cell_type": "code",
   "execution_count": 5,
   "metadata": {},
   "outputs": [
    {
     "data": {
      "text/plain": [
       "0          21.08.2014 01:00\n",
       "1          21.08.2014 02:00\n",
       "2          21.08.2014 03:00\n",
       "3          21.08.2014 04:00\n",
       "4          21.08.2014 05:00\n",
       "5          21.08.2014 06:00\n",
       "6          21.08.2014 07:00\n",
       "7          21.08.2014 08:00\n",
       "8          21.08.2014 09:00\n",
       "9          21.08.2014 10:00\n",
       "10         21.08.2014 11:00\n",
       "11         21.08.2014 12:00\n",
       "12         21.08.2014 13:00\n",
       "13         21.08.2014 14:00\n",
       "14         21.08.2014 15:00\n",
       "15         21.08.2014 16:00\n",
       "16         21.08.2014 17:00\n",
       "17         21.08.2014 18:00\n",
       "18         21.08.2014 19:00\n",
       "19         21.08.2014 20:00\n",
       "20         21.08.2014 21:00\n",
       "21         21.08.2014 22:00\n",
       "22         21.08.2014 23:00\n",
       "23         21.08.2014 00:00\n",
       "24         22.08.2014 01:00\n",
       "25         22.08.2014 02:00\n",
       "26         22.08.2014 03:00\n",
       "27         22.08.2014 04:00\n",
       "28         22.08.2014 05:00\n",
       "29         22.08.2014 06:00\n",
       "                 ...       \n",
       "3212730    03.05.2020 19:00\n",
       "3212731    03.05.2020 20:00\n",
       "3212732    03.05.2020 21:00\n",
       "3212733    03.05.2020 22:00\n",
       "3212734    03.05.2020 23:00\n",
       "3212735    03.05.2020 00:00\n",
       "3212736    04.05.2020 01:00\n",
       "3212737    04.05.2020 02:00\n",
       "3212738    04.05.2020 03:00\n",
       "3212739    04.05.2020 04:00\n",
       "3212740    04.05.2020 05:00\n",
       "3212741    04.05.2020 06:00\n",
       "3212742    04.05.2020 07:00\n",
       "3212743    04.05.2020 08:00\n",
       "3212744    04.05.2020 09:00\n",
       "3212745    04.05.2020 10:00\n",
       "3212746    04.05.2020 11:00\n",
       "3212747    04.05.2020 12:00\n",
       "3212748    04.05.2020 13:00\n",
       "3212749    04.05.2020 14:00\n",
       "3212750    04.05.2020 15:00\n",
       "3212751    04.05.2020 16:00\n",
       "3212752    04.05.2020 17:00\n",
       "3212753    04.05.2020 18:00\n",
       "3212754    04.05.2020 19:00\n",
       "3212755    04.05.2020 20:00\n",
       "3212756    04.05.2020 21:00\n",
       "3212757    04.05.2020 22:00\n",
       "3212758    04.05.2020 23:00\n",
       "3212759    04.05.2020 00:00\n",
       "Length: 3212760, dtype: object"
      ]
     },
     "execution_count": 5,
     "metadata": {},
     "output_type": "execute_result"
    }
   ],
   "source": [
    "df_verkehr.Date+\" \"+df_verkehr.TimeTo"
   ]
  },
  {
   "cell_type": "markdown",
   "metadata": {},
   "source": [
    "#### Convert to pandas timestamp. This takes a while"
   ]
  },
  {
   "cell_type": "code",
   "execution_count": 6,
   "metadata": {},
   "outputs": [],
   "source": [
    "df_verkehr['timestamp']= pd.to_datetime(df_verkehr.Date+\" \"+df_verkehr.TimeTo, dayfirst=True) "
   ]
  },
  {
   "cell_type": "code",
   "execution_count": 7,
   "metadata": {},
   "outputs": [
    {
     "data": {
      "text/plain": [
       "0         2014-08-21 01:00:00\n",
       "1         2014-08-21 02:00:00\n",
       "2         2014-08-21 03:00:00\n",
       "3         2014-08-21 04:00:00\n",
       "4         2014-08-21 05:00:00\n",
       "5         2014-08-21 06:00:00\n",
       "6         2014-08-21 07:00:00\n",
       "7         2014-08-21 08:00:00\n",
       "8         2014-08-21 09:00:00\n",
       "9         2014-08-21 10:00:00\n",
       "10        2014-08-21 11:00:00\n",
       "11        2014-08-21 12:00:00\n",
       "12        2014-08-21 13:00:00\n",
       "13        2014-08-21 14:00:00\n",
       "14        2014-08-21 15:00:00\n",
       "15        2014-08-21 16:00:00\n",
       "16        2014-08-21 17:00:00\n",
       "17        2014-08-21 18:00:00\n",
       "18        2014-08-21 19:00:00\n",
       "19        2014-08-21 20:00:00\n",
       "20        2014-08-21 21:00:00\n",
       "21        2014-08-21 22:00:00\n",
       "22        2014-08-21 23:00:00\n",
       "23        2014-08-21 00:00:00\n",
       "24        2014-08-22 01:00:00\n",
       "25        2014-08-22 02:00:00\n",
       "26        2014-08-22 03:00:00\n",
       "27        2014-08-22 04:00:00\n",
       "28        2014-08-22 05:00:00\n",
       "29        2014-08-22 06:00:00\n",
       "                  ...        \n",
       "3212730   2020-05-03 19:00:00\n",
       "3212731   2020-05-03 20:00:00\n",
       "3212732   2020-05-03 21:00:00\n",
       "3212733   2020-05-03 22:00:00\n",
       "3212734   2020-05-03 23:00:00\n",
       "3212735   2020-05-03 00:00:00\n",
       "3212736   2020-05-04 01:00:00\n",
       "3212737   2020-05-04 02:00:00\n",
       "3212738   2020-05-04 03:00:00\n",
       "3212739   2020-05-04 04:00:00\n",
       "3212740   2020-05-04 05:00:00\n",
       "3212741   2020-05-04 06:00:00\n",
       "3212742   2020-05-04 07:00:00\n",
       "3212743   2020-05-04 08:00:00\n",
       "3212744   2020-05-04 09:00:00\n",
       "3212745   2020-05-04 10:00:00\n",
       "3212746   2020-05-04 11:00:00\n",
       "3212747   2020-05-04 12:00:00\n",
       "3212748   2020-05-04 13:00:00\n",
       "3212749   2020-05-04 14:00:00\n",
       "3212750   2020-05-04 15:00:00\n",
       "3212751   2020-05-04 16:00:00\n",
       "3212752   2020-05-04 17:00:00\n",
       "3212753   2020-05-04 18:00:00\n",
       "3212754   2020-05-04 19:00:00\n",
       "3212755   2020-05-04 20:00:00\n",
       "3212756   2020-05-04 21:00:00\n",
       "3212757   2020-05-04 22:00:00\n",
       "3212758   2020-05-04 23:00:00\n",
       "3212759   2020-05-04 00:00:00\n",
       "Name: timestamp, Length: 3212760, dtype: datetime64[ns]"
      ]
     },
     "execution_count": 7,
     "metadata": {},
     "output_type": "execute_result"
    }
   ],
   "source": [
    "df_verkehr.timestamp"
   ]
  },
  {
   "cell_type": "markdown",
   "metadata": {},
   "source": [
    "#### File contains data for many traffic count points in the city, let's have a look at them"
   ]
  },
  {
   "cell_type": "code",
   "execution_count": 8,
   "metadata": {},
   "outputs": [
    {
     "data": {
      "text/plain": [
       "array(['235 A3-A35, Grenze CH-F',\n",
       "       '350 Dreirosenbrücke lokal (mit Ein- Ausfahrten)',\n",
       "       '352 Johanniterbrücke', '354 Wettsteinbrücke',\n",
       "       '401 Luzernerring-Brücke', '402 Hochbergerstrasse 55',\n",
       "       '403 Heuwaage-Viadukt', '404 Viaduktstrasse 60 (Rialto)',\n",
       "       '405 Dorenbachviadukt', '406 Wasgenring 62',\n",
       "       '407 Äussere Baselstrasse 381 (Riehen)',\n",
       "       '408 Bäumlihofstrasse (Riehen)', '409 Grenzacherstrasse 511',\n",
       "       '410 St. Alban-Anlage 72', '411 Fasanenstrasse (DB-Brücke)',\n",
       "       '412 Dornacherstrasse 49', '413 Gundeldingerstrasse 107',\n",
       "       '414 Gundeldingerstrasse 428', '415 Grosspeterstrasse 45',\n",
       "       '416 J. Burckhardt-Strasse 85',\n",
       "       '416 J. Burckhardt-Strasse 85 (2-spurig bis Mai 2016)',\n",
       "       '417 Sevogelstrasse 82', '419 Riehenring 120',\n",
       "       '420 Nauenstrasse 73', '651 Entenweidstrasse 74',\n",
       "       '653 Flughafenstrasse 30', '656 Elsässerstrasse 146',\n",
       "       '659 Schlachthofstrasse', '660 Flughafenstrasse, Grenze CH-F',\n",
       "       '672 Zoll CH-D, Weilstrasse', '670 Zoll CH-D, Hiltalingerstrasse',\n",
       "       '674 Zoll CH-D, Grenzacherstrasse',\n",
       "       '671 Zoll CH-D, Freiburgerstrasse',\n",
       "       '673 Zoll CH-D, Lörracherstrasse'], dtype=object)"
      ]
     },
     "execution_count": 8,
     "metadata": {},
     "output_type": "execute_result"
    }
   ],
   "source": [
    "df_verkehr.SiteName.unique()"
   ]
  },
  {
   "cell_type": "markdown",
   "metadata": {},
   "source": [
    "#### Let's create a new, smaller dataframe with only data from one location which is near to the air quality measurement stations"
   ]
  },
  {
   "cell_type": "code",
   "execution_count": 9,
   "metadata": {},
   "outputs": [],
   "source": [
    "df_verkehr_stjohann = df_verkehr[df_verkehr.SiteName == \"660 Flughafenstrasse, Grenze CH-F\"]"
   ]
  },
  {
   "cell_type": "markdown",
   "metadata": {},
   "source": [
    "#### How many data points are inside?"
   ]
  },
  {
   "cell_type": "code",
   "execution_count": 10,
   "metadata": {},
   "outputs": [
    {
     "data": {
      "text/plain": [
       "(97632, 24)"
      ]
     },
     "execution_count": 10,
     "metadata": {},
     "output_type": "execute_result"
    }
   ],
   "source": [
    "df_verkehr_stjohann.shape"
   ]
  },
  {
   "cell_type": "markdown",
   "metadata": {},
   "source": [
    "#### There are approx twice as many datapoints because data is measured in two traffic lanes"
   ]
  },
  {
   "cell_type": "code",
   "execution_count": 11,
   "metadata": {},
   "outputs": [],
   "source": [
    "df_grouped_mean = df_verkehr_stjohann.groupby([\"TimeTo\", \"LaneName\"]).Total.mean().reset_index()"
   ]
  },
  {
   "cell_type": "code",
   "execution_count": 12,
   "metadata": {},
   "outputs": [
    {
     "data": {
      "text/html": [
       "<div>\n",
       "<style scoped>\n",
       "    .dataframe tbody tr th:only-of-type {\n",
       "        vertical-align: middle;\n",
       "    }\n",
       "\n",
       "    .dataframe tbody tr th {\n",
       "        vertical-align: top;\n",
       "    }\n",
       "\n",
       "    .dataframe thead th {\n",
       "        text-align: right;\n",
       "    }\n",
       "</style>\n",
       "<table border=\"1\" class=\"dataframe\">\n",
       "  <thead>\n",
       "    <tr style=\"text-align: right;\">\n",
       "      <th></th>\n",
       "      <th>TimeTo</th>\n",
       "      <th>LaneName</th>\n",
       "      <th>Total</th>\n",
       "    </tr>\n",
       "  </thead>\n",
       "  <tbody>\n",
       "    <tr>\n",
       "      <th>0</th>\n",
       "      <td>00:00</td>\n",
       "      <td>Spur 1</td>\n",
       "      <td>211.587021</td>\n",
       "    </tr>\n",
       "    <tr>\n",
       "      <th>1</th>\n",
       "      <td>00:00</td>\n",
       "      <td>Spur 2</td>\n",
       "      <td>60.489184</td>\n",
       "    </tr>\n",
       "    <tr>\n",
       "      <th>2</th>\n",
       "      <td>01:00</td>\n",
       "      <td>Spur 1</td>\n",
       "      <td>54.068338</td>\n",
       "    </tr>\n",
       "    <tr>\n",
       "      <th>3</th>\n",
       "      <td>01:00</td>\n",
       "      <td>Spur 2</td>\n",
       "      <td>12.903147</td>\n",
       "    </tr>\n",
       "    <tr>\n",
       "      <th>4</th>\n",
       "      <td>02:00</td>\n",
       "      <td>Spur 1</td>\n",
       "      <td>7.809735</td>\n",
       "    </tr>\n",
       "  </tbody>\n",
       "</table>\n",
       "</div>"
      ],
      "text/plain": [
       "  TimeTo LaneName       Total\n",
       "0  00:00   Spur 1  211.587021\n",
       "1  00:00   Spur 2   60.489184\n",
       "2  01:00   Spur 1   54.068338\n",
       "3  01:00   Spur 2   12.903147\n",
       "4  02:00   Spur 1    7.809735"
      ]
     },
     "execution_count": 12,
     "metadata": {},
     "output_type": "execute_result"
    }
   ],
   "source": [
    "df_grouped_mean.head()"
   ]
  },
  {
   "cell_type": "code",
   "execution_count": 31,
   "metadata": {},
   "outputs": [
    {
     "data": {
      "application/vnd.plotly.v1+json": {
       "config": {
        "plotlyServerURL": "https://plot.ly"
       },
       "data": [
        {
         "hovertemplate": "LaneName=Spur 1<br>TimeTo=%{x}<br>Total=%{y}<extra></extra>",
         "legendgroup": "Spur 1",
         "line": {
          "color": "darkgreen",
          "dash": "solid"
         },
         "mode": "lines",
         "name": "Spur 1",
         "showlegend": true,
         "type": "scatter",
         "x": [
          "00:00",
          "01:00",
          "02:00",
          "03:00",
          "04:00",
          "05:00",
          "06:00",
          "07:00",
          "08:00",
          "09:00",
          "10:00",
          "11:00",
          "12:00",
          "13:00",
          "14:00",
          "15:00",
          "16:00",
          "17:00",
          "18:00",
          "19:00",
          "20:00",
          "21:00",
          "22:00",
          "23:00"
         ],
         "xaxis": "x",
         "y": [
          211.58702064896755,
          54.06833824975418,
          7.8097345132743365,
          5.138151425762045,
          13.733038348082596,
          95.08997050147492,
          186.5771878072763,
          119.14601769911505,
          122.56882989183875,
          176.1583087512291,
          236.13716814159292,
          288.0673549655851,
          307.1312684365782,
          285.4439528023599,
          272.78908554572274,
          316.76892822025565,
          338.88544739429693,
          424.2305801376598,
          434.86430678466076,
          351.775319567355,
          260.20698131760076,
          228.46558505408063,
          217.0757128810226,
          275.8166175024582
         ],
         "yaxis": "y"
        },
        {
         "hovertemplate": "LaneName=Spur 2<br>TimeTo=%{x}<br>Total=%{y}<extra></extra>",
         "legendgroup": "Spur 2",
         "line": {
          "color": "yellow",
          "dash": "solid"
         },
         "mode": "lines",
         "name": "Spur 2",
         "showlegend": true,
         "type": "scatter",
         "x": [
          "00:00",
          "01:00",
          "02:00",
          "03:00",
          "04:00",
          "05:00",
          "06:00",
          "07:00",
          "08:00",
          "09:00",
          "10:00",
          "11:00",
          "12:00",
          "13:00",
          "14:00",
          "15:00",
          "16:00",
          "17:00",
          "18:00",
          "19:00",
          "20:00",
          "21:00",
          "22:00",
          "23:00"
         ],
         "xaxis": "x",
         "y": [
          60.48918387413963,
          12.9031465093412,
          5.522615535889872,
          6.311209439528024,
          36.50737463126843,
          220.8574237954769,
          290.4095378564405,
          242.58210422812192,
          330.0899705014749,
          379.5,
          336.93756145526055,
          306.2005899705015,
          291.50639134709934,
          292.7733529990167,
          322.7025565388397,
          304.6071779744346,
          300.72418879056045,
          294.53834808259586,
          276.2645034414946,
          242.3259587020649,
          227.4567354965585,
          199.6819075712881,
          176.82645034414946,
          186.64700098328416
         ],
         "yaxis": "y"
        }
       ],
       "layout": {
        "legend": {
         "title": {
          "text": "LaneName"
         },
         "tracegroupgap": 0
        },
        "margin": {
         "t": 60
        },
        "template": {
         "data": {
          "bar": [
           {
            "error_x": {
             "color": "#2a3f5f"
            },
            "error_y": {
             "color": "#2a3f5f"
            },
            "marker": {
             "line": {
              "color": "#E5ECF6",
              "width": 0.5
             }
            },
            "type": "bar"
           }
          ],
          "barpolar": [
           {
            "marker": {
             "line": {
              "color": "#E5ECF6",
              "width": 0.5
             }
            },
            "type": "barpolar"
           }
          ],
          "carpet": [
           {
            "aaxis": {
             "endlinecolor": "#2a3f5f",
             "gridcolor": "white",
             "linecolor": "white",
             "minorgridcolor": "white",
             "startlinecolor": "#2a3f5f"
            },
            "baxis": {
             "endlinecolor": "#2a3f5f",
             "gridcolor": "white",
             "linecolor": "white",
             "minorgridcolor": "white",
             "startlinecolor": "#2a3f5f"
            },
            "type": "carpet"
           }
          ],
          "choropleth": [
           {
            "colorbar": {
             "outlinewidth": 0,
             "ticks": ""
            },
            "type": "choropleth"
           }
          ],
          "contour": [
           {
            "colorbar": {
             "outlinewidth": 0,
             "ticks": ""
            },
            "colorscale": [
             [
              0,
              "#0d0887"
             ],
             [
              0.1111111111111111,
              "#46039f"
             ],
             [
              0.2222222222222222,
              "#7201a8"
             ],
             [
              0.3333333333333333,
              "#9c179e"
             ],
             [
              0.4444444444444444,
              "#bd3786"
             ],
             [
              0.5555555555555556,
              "#d8576b"
             ],
             [
              0.6666666666666666,
              "#ed7953"
             ],
             [
              0.7777777777777778,
              "#fb9f3a"
             ],
             [
              0.8888888888888888,
              "#fdca26"
             ],
             [
              1,
              "#f0f921"
             ]
            ],
            "type": "contour"
           }
          ],
          "contourcarpet": [
           {
            "colorbar": {
             "outlinewidth": 0,
             "ticks": ""
            },
            "type": "contourcarpet"
           }
          ],
          "heatmap": [
           {
            "colorbar": {
             "outlinewidth": 0,
             "ticks": ""
            },
            "colorscale": [
             [
              0,
              "#0d0887"
             ],
             [
              0.1111111111111111,
              "#46039f"
             ],
             [
              0.2222222222222222,
              "#7201a8"
             ],
             [
              0.3333333333333333,
              "#9c179e"
             ],
             [
              0.4444444444444444,
              "#bd3786"
             ],
             [
              0.5555555555555556,
              "#d8576b"
             ],
             [
              0.6666666666666666,
              "#ed7953"
             ],
             [
              0.7777777777777778,
              "#fb9f3a"
             ],
             [
              0.8888888888888888,
              "#fdca26"
             ],
             [
              1,
              "#f0f921"
             ]
            ],
            "type": "heatmap"
           }
          ],
          "heatmapgl": [
           {
            "colorbar": {
             "outlinewidth": 0,
             "ticks": ""
            },
            "colorscale": [
             [
              0,
              "#0d0887"
             ],
             [
              0.1111111111111111,
              "#46039f"
             ],
             [
              0.2222222222222222,
              "#7201a8"
             ],
             [
              0.3333333333333333,
              "#9c179e"
             ],
             [
              0.4444444444444444,
              "#bd3786"
             ],
             [
              0.5555555555555556,
              "#d8576b"
             ],
             [
              0.6666666666666666,
              "#ed7953"
             ],
             [
              0.7777777777777778,
              "#fb9f3a"
             ],
             [
              0.8888888888888888,
              "#fdca26"
             ],
             [
              1,
              "#f0f921"
             ]
            ],
            "type": "heatmapgl"
           }
          ],
          "histogram": [
           {
            "marker": {
             "colorbar": {
              "outlinewidth": 0,
              "ticks": ""
             }
            },
            "type": "histogram"
           }
          ],
          "histogram2d": [
           {
            "colorbar": {
             "outlinewidth": 0,
             "ticks": ""
            },
            "colorscale": [
             [
              0,
              "#0d0887"
             ],
             [
              0.1111111111111111,
              "#46039f"
             ],
             [
              0.2222222222222222,
              "#7201a8"
             ],
             [
              0.3333333333333333,
              "#9c179e"
             ],
             [
              0.4444444444444444,
              "#bd3786"
             ],
             [
              0.5555555555555556,
              "#d8576b"
             ],
             [
              0.6666666666666666,
              "#ed7953"
             ],
             [
              0.7777777777777778,
              "#fb9f3a"
             ],
             [
              0.8888888888888888,
              "#fdca26"
             ],
             [
              1,
              "#f0f921"
             ]
            ],
            "type": "histogram2d"
           }
          ],
          "histogram2dcontour": [
           {
            "colorbar": {
             "outlinewidth": 0,
             "ticks": ""
            },
            "colorscale": [
             [
              0,
              "#0d0887"
             ],
             [
              0.1111111111111111,
              "#46039f"
             ],
             [
              0.2222222222222222,
              "#7201a8"
             ],
             [
              0.3333333333333333,
              "#9c179e"
             ],
             [
              0.4444444444444444,
              "#bd3786"
             ],
             [
              0.5555555555555556,
              "#d8576b"
             ],
             [
              0.6666666666666666,
              "#ed7953"
             ],
             [
              0.7777777777777778,
              "#fb9f3a"
             ],
             [
              0.8888888888888888,
              "#fdca26"
             ],
             [
              1,
              "#f0f921"
             ]
            ],
            "type": "histogram2dcontour"
           }
          ],
          "mesh3d": [
           {
            "colorbar": {
             "outlinewidth": 0,
             "ticks": ""
            },
            "type": "mesh3d"
           }
          ],
          "parcoords": [
           {
            "line": {
             "colorbar": {
              "outlinewidth": 0,
              "ticks": ""
             }
            },
            "type": "parcoords"
           }
          ],
          "pie": [
           {
            "automargin": true,
            "type": "pie"
           }
          ],
          "scatter": [
           {
            "marker": {
             "colorbar": {
              "outlinewidth": 0,
              "ticks": ""
             }
            },
            "type": "scatter"
           }
          ],
          "scatter3d": [
           {
            "line": {
             "colorbar": {
              "outlinewidth": 0,
              "ticks": ""
             }
            },
            "marker": {
             "colorbar": {
              "outlinewidth": 0,
              "ticks": ""
             }
            },
            "type": "scatter3d"
           }
          ],
          "scattercarpet": [
           {
            "marker": {
             "colorbar": {
              "outlinewidth": 0,
              "ticks": ""
             }
            },
            "type": "scattercarpet"
           }
          ],
          "scattergeo": [
           {
            "marker": {
             "colorbar": {
              "outlinewidth": 0,
              "ticks": ""
             }
            },
            "type": "scattergeo"
           }
          ],
          "scattergl": [
           {
            "marker": {
             "colorbar": {
              "outlinewidth": 0,
              "ticks": ""
             }
            },
            "type": "scattergl"
           }
          ],
          "scattermapbox": [
           {
            "marker": {
             "colorbar": {
              "outlinewidth": 0,
              "ticks": ""
             }
            },
            "type": "scattermapbox"
           }
          ],
          "scatterpolar": [
           {
            "marker": {
             "colorbar": {
              "outlinewidth": 0,
              "ticks": ""
             }
            },
            "type": "scatterpolar"
           }
          ],
          "scatterpolargl": [
           {
            "marker": {
             "colorbar": {
              "outlinewidth": 0,
              "ticks": ""
             }
            },
            "type": "scatterpolargl"
           }
          ],
          "scatterternary": [
           {
            "marker": {
             "colorbar": {
              "outlinewidth": 0,
              "ticks": ""
             }
            },
            "type": "scatterternary"
           }
          ],
          "surface": [
           {
            "colorbar": {
             "outlinewidth": 0,
             "ticks": ""
            },
            "colorscale": [
             [
              0,
              "#0d0887"
             ],
             [
              0.1111111111111111,
              "#46039f"
             ],
             [
              0.2222222222222222,
              "#7201a8"
             ],
             [
              0.3333333333333333,
              "#9c179e"
             ],
             [
              0.4444444444444444,
              "#bd3786"
             ],
             [
              0.5555555555555556,
              "#d8576b"
             ],
             [
              0.6666666666666666,
              "#ed7953"
             ],
             [
              0.7777777777777778,
              "#fb9f3a"
             ],
             [
              0.8888888888888888,
              "#fdca26"
             ],
             [
              1,
              "#f0f921"
             ]
            ],
            "type": "surface"
           }
          ],
          "table": [
           {
            "cells": {
             "fill": {
              "color": "#EBF0F8"
             },
             "line": {
              "color": "white"
             }
            },
            "header": {
             "fill": {
              "color": "#C8D4E3"
             },
             "line": {
              "color": "white"
             }
            },
            "type": "table"
           }
          ]
         },
         "layout": {
          "annotationdefaults": {
           "arrowcolor": "#2a3f5f",
           "arrowhead": 0,
           "arrowwidth": 1
          },
          "coloraxis": {
           "colorbar": {
            "outlinewidth": 0,
            "ticks": ""
           }
          },
          "colorscale": {
           "diverging": [
            [
             0,
             "#8e0152"
            ],
            [
             0.1,
             "#c51b7d"
            ],
            [
             0.2,
             "#de77ae"
            ],
            [
             0.3,
             "#f1b6da"
            ],
            [
             0.4,
             "#fde0ef"
            ],
            [
             0.5,
             "#f7f7f7"
            ],
            [
             0.6,
             "#e6f5d0"
            ],
            [
             0.7,
             "#b8e186"
            ],
            [
             0.8,
             "#7fbc41"
            ],
            [
             0.9,
             "#4d9221"
            ],
            [
             1,
             "#276419"
            ]
           ],
           "sequential": [
            [
             0,
             "#0d0887"
            ],
            [
             0.1111111111111111,
             "#46039f"
            ],
            [
             0.2222222222222222,
             "#7201a8"
            ],
            [
             0.3333333333333333,
             "#9c179e"
            ],
            [
             0.4444444444444444,
             "#bd3786"
            ],
            [
             0.5555555555555556,
             "#d8576b"
            ],
            [
             0.6666666666666666,
             "#ed7953"
            ],
            [
             0.7777777777777778,
             "#fb9f3a"
            ],
            [
             0.8888888888888888,
             "#fdca26"
            ],
            [
             1,
             "#f0f921"
            ]
           ],
           "sequentialminus": [
            [
             0,
             "#0d0887"
            ],
            [
             0.1111111111111111,
             "#46039f"
            ],
            [
             0.2222222222222222,
             "#7201a8"
            ],
            [
             0.3333333333333333,
             "#9c179e"
            ],
            [
             0.4444444444444444,
             "#bd3786"
            ],
            [
             0.5555555555555556,
             "#d8576b"
            ],
            [
             0.6666666666666666,
             "#ed7953"
            ],
            [
             0.7777777777777778,
             "#fb9f3a"
            ],
            [
             0.8888888888888888,
             "#fdca26"
            ],
            [
             1,
             "#f0f921"
            ]
           ]
          },
          "colorway": [
           "#636efa",
           "#EF553B",
           "#00cc96",
           "#ab63fa",
           "#FFA15A",
           "#19d3f3",
           "#FF6692",
           "#B6E880",
           "#FF97FF",
           "#FECB52"
          ],
          "font": {
           "color": "#2a3f5f"
          },
          "geo": {
           "bgcolor": "white",
           "lakecolor": "white",
           "landcolor": "#E5ECF6",
           "showlakes": true,
           "showland": true,
           "subunitcolor": "white"
          },
          "hoverlabel": {
           "align": "left"
          },
          "hovermode": "closest",
          "mapbox": {
           "style": "light"
          },
          "paper_bgcolor": "white",
          "plot_bgcolor": "#E5ECF6",
          "polar": {
           "angularaxis": {
            "gridcolor": "white",
            "linecolor": "white",
            "ticks": ""
           },
           "bgcolor": "#E5ECF6",
           "radialaxis": {
            "gridcolor": "white",
            "linecolor": "white",
            "ticks": ""
           }
          },
          "scene": {
           "xaxis": {
            "backgroundcolor": "#E5ECF6",
            "gridcolor": "white",
            "gridwidth": 2,
            "linecolor": "white",
            "showbackground": true,
            "ticks": "",
            "zerolinecolor": "white"
           },
           "yaxis": {
            "backgroundcolor": "#E5ECF6",
            "gridcolor": "white",
            "gridwidth": 2,
            "linecolor": "white",
            "showbackground": true,
            "ticks": "",
            "zerolinecolor": "white"
           },
           "zaxis": {
            "backgroundcolor": "#E5ECF6",
            "gridcolor": "white",
            "gridwidth": 2,
            "linecolor": "white",
            "showbackground": true,
            "ticks": "",
            "zerolinecolor": "white"
           }
          },
          "shapedefaults": {
           "line": {
            "color": "#2a3f5f"
           }
          },
          "ternary": {
           "aaxis": {
            "gridcolor": "white",
            "linecolor": "white",
            "ticks": ""
           },
           "baxis": {
            "gridcolor": "white",
            "linecolor": "white",
            "ticks": ""
           },
           "bgcolor": "#E5ECF6",
           "caxis": {
            "gridcolor": "white",
            "linecolor": "white",
            "ticks": ""
           }
          },
          "title": {
           "x": 0.05
          },
          "xaxis": {
           "automargin": true,
           "gridcolor": "white",
           "linecolor": "white",
           "ticks": "",
           "title": {
            "standoff": 15
           },
           "zerolinecolor": "white",
           "zerolinewidth": 2
          },
          "yaxis": {
           "automargin": true,
           "gridcolor": "white",
           "linecolor": "white",
           "ticks": "",
           "title": {
            "standoff": 15
           },
           "zerolinecolor": "white",
           "zerolinewidth": 2
          }
         }
        },
        "xaxis": {
         "anchor": "y",
         "domain": [
          0,
          1
         ],
         "title": {
          "text": "TimeTo"
         }
        },
        "yaxis": {
         "anchor": "x",
         "domain": [
          0,
          1
         ],
         "title": {
          "text": "Total"
         }
        }
       }
      },
      "text/html": [
       "<div>\n",
       "        \n",
       "        \n",
       "            <div id=\"004420a3-4d7c-4ac4-901b-e0836ee4ae9c\" class=\"plotly-graph-div\" style=\"height:525px; width:100%;\"></div>\n",
       "            <script type=\"text/javascript\">\n",
       "                require([\"plotly\"], function(Plotly) {\n",
       "                    window.PLOTLYENV=window.PLOTLYENV || {};\n",
       "                    \n",
       "                if (document.getElementById(\"004420a3-4d7c-4ac4-901b-e0836ee4ae9c\")) {\n",
       "                    Plotly.newPlot(\n",
       "                        '004420a3-4d7c-4ac4-901b-e0836ee4ae9c',\n",
       "                        [{\"hovertemplate\": \"LaneName=Spur 1<br>TimeTo=%{x}<br>Total=%{y}<extra></extra>\", \"legendgroup\": \"Spur 1\", \"line\": {\"color\": \"darkgreen\", \"dash\": \"solid\"}, \"mode\": \"lines\", \"name\": \"Spur 1\", \"showlegend\": true, \"type\": \"scatter\", \"x\": [\"00:00\", \"01:00\", \"02:00\", \"03:00\", \"04:00\", \"05:00\", \"06:00\", \"07:00\", \"08:00\", \"09:00\", \"10:00\", \"11:00\", \"12:00\", \"13:00\", \"14:00\", \"15:00\", \"16:00\", \"17:00\", \"18:00\", \"19:00\", \"20:00\", \"21:00\", \"22:00\", \"23:00\"], \"xaxis\": \"x\", \"y\": [211.58702064896755, 54.06833824975418, 7.8097345132743365, 5.138151425762045, 13.733038348082596, 95.08997050147492, 186.5771878072763, 119.14601769911505, 122.56882989183875, 176.1583087512291, 236.13716814159292, 288.0673549655851, 307.1312684365782, 285.4439528023599, 272.78908554572274, 316.76892822025565, 338.88544739429693, 424.2305801376598, 434.86430678466076, 351.775319567355, 260.20698131760076, 228.46558505408063, 217.0757128810226, 275.8166175024582], \"yaxis\": \"y\"}, {\"hovertemplate\": \"LaneName=Spur 2<br>TimeTo=%{x}<br>Total=%{y}<extra></extra>\", \"legendgroup\": \"Spur 2\", \"line\": {\"color\": \"yellow\", \"dash\": \"solid\"}, \"mode\": \"lines\", \"name\": \"Spur 2\", \"showlegend\": true, \"type\": \"scatter\", \"x\": [\"00:00\", \"01:00\", \"02:00\", \"03:00\", \"04:00\", \"05:00\", \"06:00\", \"07:00\", \"08:00\", \"09:00\", \"10:00\", \"11:00\", \"12:00\", \"13:00\", \"14:00\", \"15:00\", \"16:00\", \"17:00\", \"18:00\", \"19:00\", \"20:00\", \"21:00\", \"22:00\", \"23:00\"], \"xaxis\": \"x\", \"y\": [60.48918387413963, 12.9031465093412, 5.522615535889872, 6.311209439528024, 36.50737463126843, 220.8574237954769, 290.4095378564405, 242.58210422812192, 330.0899705014749, 379.5, 336.93756145526055, 306.2005899705015, 291.50639134709934, 292.7733529990167, 322.7025565388397, 304.6071779744346, 300.72418879056045, 294.53834808259586, 276.2645034414946, 242.3259587020649, 227.4567354965585, 199.6819075712881, 176.82645034414946, 186.64700098328416], \"yaxis\": \"y\"}],\n",
       "                        {\"legend\": {\"title\": {\"text\": \"LaneName\"}, \"tracegroupgap\": 0}, \"margin\": {\"t\": 60}, \"template\": {\"data\": {\"bar\": [{\"error_x\": {\"color\": \"#2a3f5f\"}, \"error_y\": {\"color\": \"#2a3f5f\"}, \"marker\": {\"line\": {\"color\": \"#E5ECF6\", \"width\": 0.5}}, \"type\": \"bar\"}], \"barpolar\": [{\"marker\": {\"line\": {\"color\": \"#E5ECF6\", \"width\": 0.5}}, \"type\": \"barpolar\"}], \"carpet\": [{\"aaxis\": {\"endlinecolor\": \"#2a3f5f\", \"gridcolor\": \"white\", \"linecolor\": \"white\", \"minorgridcolor\": \"white\", \"startlinecolor\": \"#2a3f5f\"}, \"baxis\": {\"endlinecolor\": \"#2a3f5f\", \"gridcolor\": \"white\", \"linecolor\": \"white\", \"minorgridcolor\": \"white\", \"startlinecolor\": \"#2a3f5f\"}, \"type\": \"carpet\"}], \"choropleth\": [{\"colorbar\": {\"outlinewidth\": 0, \"ticks\": \"\"}, \"type\": \"choropleth\"}], \"contour\": [{\"colorbar\": {\"outlinewidth\": 0, \"ticks\": \"\"}, \"colorscale\": [[0.0, \"#0d0887\"], [0.1111111111111111, \"#46039f\"], [0.2222222222222222, \"#7201a8\"], [0.3333333333333333, \"#9c179e\"], [0.4444444444444444, \"#bd3786\"], [0.5555555555555556, \"#d8576b\"], [0.6666666666666666, \"#ed7953\"], [0.7777777777777778, \"#fb9f3a\"], [0.8888888888888888, \"#fdca26\"], [1.0, \"#f0f921\"]], \"type\": \"contour\"}], \"contourcarpet\": [{\"colorbar\": {\"outlinewidth\": 0, \"ticks\": \"\"}, \"type\": \"contourcarpet\"}], \"heatmap\": [{\"colorbar\": {\"outlinewidth\": 0, \"ticks\": \"\"}, \"colorscale\": [[0.0, \"#0d0887\"], [0.1111111111111111, \"#46039f\"], [0.2222222222222222, \"#7201a8\"], [0.3333333333333333, \"#9c179e\"], [0.4444444444444444, \"#bd3786\"], [0.5555555555555556, \"#d8576b\"], [0.6666666666666666, \"#ed7953\"], [0.7777777777777778, \"#fb9f3a\"], [0.8888888888888888, \"#fdca26\"], [1.0, \"#f0f921\"]], \"type\": \"heatmap\"}], \"heatmapgl\": [{\"colorbar\": {\"outlinewidth\": 0, \"ticks\": \"\"}, \"colorscale\": [[0.0, \"#0d0887\"], [0.1111111111111111, \"#46039f\"], [0.2222222222222222, \"#7201a8\"], [0.3333333333333333, \"#9c179e\"], [0.4444444444444444, \"#bd3786\"], [0.5555555555555556, \"#d8576b\"], [0.6666666666666666, \"#ed7953\"], [0.7777777777777778, \"#fb9f3a\"], [0.8888888888888888, \"#fdca26\"], [1.0, \"#f0f921\"]], \"type\": \"heatmapgl\"}], \"histogram\": [{\"marker\": {\"colorbar\": {\"outlinewidth\": 0, \"ticks\": \"\"}}, \"type\": \"histogram\"}], \"histogram2d\": [{\"colorbar\": {\"outlinewidth\": 0, \"ticks\": \"\"}, \"colorscale\": [[0.0, \"#0d0887\"], [0.1111111111111111, \"#46039f\"], [0.2222222222222222, \"#7201a8\"], [0.3333333333333333, \"#9c179e\"], [0.4444444444444444, \"#bd3786\"], [0.5555555555555556, \"#d8576b\"], [0.6666666666666666, \"#ed7953\"], [0.7777777777777778, \"#fb9f3a\"], [0.8888888888888888, \"#fdca26\"], [1.0, \"#f0f921\"]], \"type\": \"histogram2d\"}], \"histogram2dcontour\": [{\"colorbar\": {\"outlinewidth\": 0, \"ticks\": \"\"}, \"colorscale\": [[0.0, \"#0d0887\"], [0.1111111111111111, \"#46039f\"], [0.2222222222222222, \"#7201a8\"], [0.3333333333333333, \"#9c179e\"], [0.4444444444444444, \"#bd3786\"], [0.5555555555555556, \"#d8576b\"], [0.6666666666666666, \"#ed7953\"], [0.7777777777777778, \"#fb9f3a\"], [0.8888888888888888, \"#fdca26\"], [1.0, \"#f0f921\"]], \"type\": \"histogram2dcontour\"}], \"mesh3d\": [{\"colorbar\": {\"outlinewidth\": 0, \"ticks\": \"\"}, \"type\": \"mesh3d\"}], \"parcoords\": [{\"line\": {\"colorbar\": {\"outlinewidth\": 0, \"ticks\": \"\"}}, \"type\": \"parcoords\"}], \"pie\": [{\"automargin\": true, \"type\": \"pie\"}], \"scatter\": [{\"marker\": {\"colorbar\": {\"outlinewidth\": 0, \"ticks\": \"\"}}, \"type\": \"scatter\"}], \"scatter3d\": [{\"line\": {\"colorbar\": {\"outlinewidth\": 0, \"ticks\": \"\"}}, \"marker\": {\"colorbar\": {\"outlinewidth\": 0, \"ticks\": \"\"}}, \"type\": \"scatter3d\"}], \"scattercarpet\": [{\"marker\": {\"colorbar\": {\"outlinewidth\": 0, \"ticks\": \"\"}}, \"type\": \"scattercarpet\"}], \"scattergeo\": [{\"marker\": {\"colorbar\": {\"outlinewidth\": 0, \"ticks\": \"\"}}, \"type\": \"scattergeo\"}], \"scattergl\": [{\"marker\": {\"colorbar\": {\"outlinewidth\": 0, \"ticks\": \"\"}}, \"type\": \"scattergl\"}], \"scattermapbox\": [{\"marker\": {\"colorbar\": {\"outlinewidth\": 0, \"ticks\": \"\"}}, \"type\": \"scattermapbox\"}], \"scatterpolar\": [{\"marker\": {\"colorbar\": {\"outlinewidth\": 0, \"ticks\": \"\"}}, \"type\": \"scatterpolar\"}], \"scatterpolargl\": [{\"marker\": {\"colorbar\": {\"outlinewidth\": 0, \"ticks\": \"\"}}, \"type\": \"scatterpolargl\"}], \"scatterternary\": [{\"marker\": {\"colorbar\": {\"outlinewidth\": 0, \"ticks\": \"\"}}, \"type\": \"scatterternary\"}], \"surface\": [{\"colorbar\": {\"outlinewidth\": 0, \"ticks\": \"\"}, \"colorscale\": [[0.0, \"#0d0887\"], [0.1111111111111111, \"#46039f\"], [0.2222222222222222, \"#7201a8\"], [0.3333333333333333, \"#9c179e\"], [0.4444444444444444, \"#bd3786\"], [0.5555555555555556, \"#d8576b\"], [0.6666666666666666, \"#ed7953\"], [0.7777777777777778, \"#fb9f3a\"], [0.8888888888888888, \"#fdca26\"], [1.0, \"#f0f921\"]], \"type\": \"surface\"}], \"table\": [{\"cells\": {\"fill\": {\"color\": \"#EBF0F8\"}, \"line\": {\"color\": \"white\"}}, \"header\": {\"fill\": {\"color\": \"#C8D4E3\"}, \"line\": {\"color\": \"white\"}}, \"type\": \"table\"}]}, \"layout\": {\"annotationdefaults\": {\"arrowcolor\": \"#2a3f5f\", \"arrowhead\": 0, \"arrowwidth\": 1}, \"coloraxis\": {\"colorbar\": {\"outlinewidth\": 0, \"ticks\": \"\"}}, \"colorscale\": {\"diverging\": [[0, \"#8e0152\"], [0.1, \"#c51b7d\"], [0.2, \"#de77ae\"], [0.3, \"#f1b6da\"], [0.4, \"#fde0ef\"], [0.5, \"#f7f7f7\"], [0.6, \"#e6f5d0\"], [0.7, \"#b8e186\"], [0.8, \"#7fbc41\"], [0.9, \"#4d9221\"], [1, \"#276419\"]], \"sequential\": [[0.0, \"#0d0887\"], [0.1111111111111111, \"#46039f\"], [0.2222222222222222, \"#7201a8\"], [0.3333333333333333, \"#9c179e\"], [0.4444444444444444, \"#bd3786\"], [0.5555555555555556, \"#d8576b\"], [0.6666666666666666, \"#ed7953\"], [0.7777777777777778, \"#fb9f3a\"], [0.8888888888888888, \"#fdca26\"], [1.0, \"#f0f921\"]], \"sequentialminus\": [[0.0, \"#0d0887\"], [0.1111111111111111, \"#46039f\"], [0.2222222222222222, \"#7201a8\"], [0.3333333333333333, \"#9c179e\"], [0.4444444444444444, \"#bd3786\"], [0.5555555555555556, \"#d8576b\"], [0.6666666666666666, \"#ed7953\"], [0.7777777777777778, \"#fb9f3a\"], [0.8888888888888888, \"#fdca26\"], [1.0, \"#f0f921\"]]}, \"colorway\": [\"#636efa\", \"#EF553B\", \"#00cc96\", \"#ab63fa\", \"#FFA15A\", \"#19d3f3\", \"#FF6692\", \"#B6E880\", \"#FF97FF\", \"#FECB52\"], \"font\": {\"color\": \"#2a3f5f\"}, \"geo\": {\"bgcolor\": \"white\", \"lakecolor\": \"white\", \"landcolor\": \"#E5ECF6\", \"showlakes\": true, \"showland\": true, \"subunitcolor\": \"white\"}, \"hoverlabel\": {\"align\": \"left\"}, \"hovermode\": \"closest\", \"mapbox\": {\"style\": \"light\"}, \"paper_bgcolor\": \"white\", \"plot_bgcolor\": \"#E5ECF6\", \"polar\": {\"angularaxis\": {\"gridcolor\": \"white\", \"linecolor\": \"white\", \"ticks\": \"\"}, \"bgcolor\": \"#E5ECF6\", \"radialaxis\": {\"gridcolor\": \"white\", \"linecolor\": \"white\", \"ticks\": \"\"}}, \"scene\": {\"xaxis\": {\"backgroundcolor\": \"#E5ECF6\", \"gridcolor\": \"white\", \"gridwidth\": 2, \"linecolor\": \"white\", \"showbackground\": true, \"ticks\": \"\", \"zerolinecolor\": \"white\"}, \"yaxis\": {\"backgroundcolor\": \"#E5ECF6\", \"gridcolor\": \"white\", \"gridwidth\": 2, \"linecolor\": \"white\", \"showbackground\": true, \"ticks\": \"\", \"zerolinecolor\": \"white\"}, \"zaxis\": {\"backgroundcolor\": \"#E5ECF6\", \"gridcolor\": \"white\", \"gridwidth\": 2, \"linecolor\": \"white\", \"showbackground\": true, \"ticks\": \"\", \"zerolinecolor\": \"white\"}}, \"shapedefaults\": {\"line\": {\"color\": \"#2a3f5f\"}}, \"ternary\": {\"aaxis\": {\"gridcolor\": \"white\", \"linecolor\": \"white\", \"ticks\": \"\"}, \"baxis\": {\"gridcolor\": \"white\", \"linecolor\": \"white\", \"ticks\": \"\"}, \"bgcolor\": \"#E5ECF6\", \"caxis\": {\"gridcolor\": \"white\", \"linecolor\": \"white\", \"ticks\": \"\"}}, \"title\": {\"x\": 0.05}, \"xaxis\": {\"automargin\": true, \"gridcolor\": \"white\", \"linecolor\": \"white\", \"ticks\": \"\", \"title\": {\"standoff\": 15}, \"zerolinecolor\": \"white\", \"zerolinewidth\": 2}, \"yaxis\": {\"automargin\": true, \"gridcolor\": \"white\", \"linecolor\": \"white\", \"ticks\": \"\", \"title\": {\"standoff\": 15}, \"zerolinecolor\": \"white\", \"zerolinewidth\": 2}}}, \"xaxis\": {\"anchor\": \"y\", \"domain\": [0.0, 1.0], \"title\": {\"text\": \"TimeTo\"}}, \"yaxis\": {\"anchor\": \"x\", \"domain\": [0.0, 1.0], \"title\": {\"text\": \"Total\"}}},\n",
       "                        {\"responsive\": true}\n",
       "                    ).then(function(){\n",
       "                            \n",
       "var gd = document.getElementById('004420a3-4d7c-4ac4-901b-e0836ee4ae9c');\n",
       "var x = new MutationObserver(function (mutations, observer) {{\n",
       "        var display = window.getComputedStyle(gd).display;\n",
       "        if (!display || display === 'none') {{\n",
       "            console.log([gd, 'removed!']);\n",
       "            Plotly.purge(gd);\n",
       "            observer.disconnect();\n",
       "        }}\n",
       "}});\n",
       "\n",
       "// Listen for the removal of the full notebook cells\n",
       "var notebookContainer = gd.closest('#notebook-container');\n",
       "if (notebookContainer) {{\n",
       "    x.observe(notebookContainer, {childList: true});\n",
       "}}\n",
       "\n",
       "// Listen for the clearing of the current output cell\n",
       "var outputEl = gd.closest('.output');\n",
       "if (outputEl) {{\n",
       "    x.observe(outputEl, {childList: true});\n",
       "}}\n",
       "\n",
       "                        })\n",
       "                };\n",
       "                });\n",
       "            </script>\n",
       "        </div>"
      ]
     },
     "metadata": {},
     "output_type": "display_data"
    }
   ],
   "source": [
    "px.line(df_grouped_mean, x=df_grouped_mean.TimeTo, y=\"Total\", color=\"LaneName\", color_discrete_sequence=[\"darkgreen\", \"yellow\"])"
   ]
  },
  {
   "cell_type": "markdown",
   "metadata": {},
   "source": [
    "#### One can clearly see the difference in lanes. In morning people go to the city (Spur 2), in the evening back (Spur 1)"
   ]
  },
  {
   "cell_type": "markdown",
   "metadata": {},
   "source": [
    "#### Let's have a look at the difference of the traffic depening on the location within the city"
   ]
  },
  {
   "cell_type": "code",
   "execution_count": 14,
   "metadata": {},
   "outputs": [],
   "source": [
    "df_v1 = df_verkehr[df_verkehr.LaneName == \"Spur 2\"].groupby([\"SiteName\", \"TimeTo\"]).Total.mean().reset_index()"
   ]
  },
  {
   "cell_type": "code",
   "execution_count": 15,
   "metadata": {},
   "outputs": [
    {
     "data": {
      "text/html": [
       "<div>\n",
       "<style scoped>\n",
       "    .dataframe tbody tr th:only-of-type {\n",
       "        vertical-align: middle;\n",
       "    }\n",
       "\n",
       "    .dataframe tbody tr th {\n",
       "        vertical-align: top;\n",
       "    }\n",
       "\n",
       "    .dataframe thead th {\n",
       "        text-align: right;\n",
       "    }\n",
       "</style>\n",
       "<table border=\"1\" class=\"dataframe\">\n",
       "  <thead>\n",
       "    <tr style=\"text-align: right;\">\n",
       "      <th></th>\n",
       "      <th>SiteName</th>\n",
       "      <th>TimeTo</th>\n",
       "      <th>Total</th>\n",
       "    </tr>\n",
       "  </thead>\n",
       "  <tbody>\n",
       "    <tr>\n",
       "      <th>0</th>\n",
       "      <td>235 A3-A35, Grenze CH-F</td>\n",
       "      <td>00:00</td>\n",
       "      <td>282.493282</td>\n",
       "    </tr>\n",
       "    <tr>\n",
       "      <th>1</th>\n",
       "      <td>235 A3-A35, Grenze CH-F</td>\n",
       "      <td>01:00</td>\n",
       "      <td>163.632438</td>\n",
       "    </tr>\n",
       "    <tr>\n",
       "      <th>2</th>\n",
       "      <td>235 A3-A35, Grenze CH-F</td>\n",
       "      <td>02:00</td>\n",
       "      <td>94.236084</td>\n",
       "    </tr>\n",
       "    <tr>\n",
       "      <th>3</th>\n",
       "      <td>235 A3-A35, Grenze CH-F</td>\n",
       "      <td>03:00</td>\n",
       "      <td>68.745681</td>\n",
       "    </tr>\n",
       "    <tr>\n",
       "      <th>4</th>\n",
       "      <td>235 A3-A35, Grenze CH-F</td>\n",
       "      <td>04:00</td>\n",
       "      <td>69.779750</td>\n",
       "    </tr>\n",
       "  </tbody>\n",
       "</table>\n",
       "</div>"
      ],
      "text/plain": [
       "                  SiteName TimeTo       Total\n",
       "0  235 A3-A35, Grenze CH-F  00:00  282.493282\n",
       "1  235 A3-A35, Grenze CH-F  01:00  163.632438\n",
       "2  235 A3-A35, Grenze CH-F  02:00   94.236084\n",
       "3  235 A3-A35, Grenze CH-F  03:00   68.745681\n",
       "4  235 A3-A35, Grenze CH-F  04:00   69.779750"
      ]
     },
     "execution_count": 15,
     "metadata": {},
     "output_type": "execute_result"
    }
   ],
   "source": [
    "df_v1.head()"
   ]
  },
  {
   "cell_type": "code",
   "execution_count": 16,
   "metadata": {},
   "outputs": [
    {
     "data": {
      "application/vnd.plotly.v1+json": {
       "config": {
        "plotlyServerURL": "https://plot.ly"
       },
       "data": [
        {
         "hovertemplate": "SiteName=235 A3-A35, Grenze CH-F<br>TimeTo=%{x}<br>Total=%{y}<extra></extra>",
         "legendgroup": "235 A3-A35, Grenze CH-F",
         "line": {
          "color": "#636efa",
          "dash": "solid"
         },
         "mode": "lines",
         "name": "235 A3-A35, Grenze CH-F",
         "showlegend": true,
         "type": "scatter",
         "x": [
          "00:00",
          "01:00",
          "02:00",
          "03:00",
          "04:00",
          "05:00",
          "06:00",
          "07:00",
          "08:00",
          "09:00",
          "10:00",
          "11:00",
          "12:00",
          "13:00",
          "14:00",
          "15:00",
          "16:00",
          "17:00",
          "18:00",
          "19:00",
          "20:00",
          "21:00",
          "22:00",
          "23:00"
         ],
         "xaxis": "x",
         "y": [
          282.4932821497121,
          163.63243761996162,
          94.23608445297505,
          68.74568138195778,
          69.77975047984646,
          88.43618042226487,
          124.22984644913628,
          201.5119961612284,
          242.84596928982725,
          333.9668905950096,
          458.0225527831094,
          583.9961612284069,
          704.8829174664107,
          792.8445297504799,
          780.5978886756238,
          982.5647792706334,
          1268.3502879078694,
          1761.6876199616122,
          1685.2231285988485,
          1372.0335892514395,
          859.6290786948176,
          566.1602687140115,
          387.39251439539345,
          415.5508637236085
         ],
         "yaxis": "y"
        },
        {
         "hovertemplate": "SiteName=350 Dreirosenbrücke lokal (mit Ein- Ausfahrten)<br>TimeTo=%{x}<br>Total=%{y}<extra></extra>",
         "legendgroup": "350 Dreirosenbrücke lokal (mit Ein- Ausfahrten)",
         "line": {
          "color": "#EF553B",
          "dash": "solid"
         },
         "mode": "lines",
         "name": "350 Dreirosenbrücke lokal (mit Ein- Ausfahrten)",
         "showlegend": true,
         "type": "scatter",
         "x": [
          "00:00",
          "01:00",
          "02:00",
          "03:00",
          "04:00",
          "05:00",
          "06:00",
          "07:00",
          "08:00",
          "09:00",
          "10:00",
          "11:00",
          "12:00",
          "13:00",
          "14:00",
          "15:00",
          "16:00",
          "17:00",
          "18:00",
          "19:00",
          "20:00",
          "21:00",
          "22:00",
          "23:00"
         ],
         "xaxis": "x",
         "y": [
          83.35776524859047,
          49.60891850333162,
          29.16863147104049,
          19.99846232701179,
          22.617631983598155,
          38.3264992311635,
          110.92824192721682,
          158.6663249615582,
          184.19425935417735,
          221.00922603792927,
          248.51512045105073,
          278.3946694003075,
          316.5463864684777,
          310.46847770374166,
          321.0625320348539,
          337.8370066632496,
          363.47616606868274,
          422.0912352639672,
          413.97693490517685,
          383.9543823680164,
          273.3362378267555,
          186.85699641209635,
          142.68836494105588,
          121.59149154279856
         ],
         "yaxis": "y"
        },
        {
         "hovertemplate": "SiteName=352 Johanniterbrücke<br>TimeTo=%{x}<br>Total=%{y}<extra></extra>",
         "legendgroup": "352 Johanniterbrücke",
         "line": {
          "color": "#00cc96",
          "dash": "solid"
         },
         "mode": "lines",
         "name": "352 Johanniterbrücke",
         "showlegend": true,
         "type": "scatter",
         "x": [
          "00:00",
          "01:00",
          "02:00",
          "03:00",
          "04:00",
          "05:00",
          "06:00",
          "07:00",
          "08:00",
          "09:00",
          "10:00",
          "11:00",
          "12:00",
          "13:00",
          "14:00",
          "15:00",
          "16:00",
          "17:00",
          "18:00",
          "19:00",
          "20:00",
          "21:00",
          "22:00",
          "23:00"
         ],
         "xaxis": "x",
         "y": [
          130.40659988214497,
          81.9263406010607,
          56.49675898644667,
          40.72539776075427,
          34.37242192103712,
          33.22215674720094,
          66.87625220978197,
          244.1302298173247,
          362.7466116676488,
          352.4802592810843,
          351.347083087802,
          366.9958750736594,
          367.92928697701825,
          339.7843252799057,
          398.9911608721273,
          419.9752504419564,
          407.7601649970536,
          439.26458456099,
          432.8020035356511,
          377.15733647613433,
          292.05892751915144,
          231.45374189746613,
          200.28520919269297,
          198.06364172068356
         ],
         "yaxis": "y"
        },
        {
         "hovertemplate": "SiteName=354 Wettsteinbrücke<br>TimeTo=%{x}<br>Total=%{y}<extra></extra>",
         "legendgroup": "354 Wettsteinbrücke",
         "line": {
          "color": "#ab63fa",
          "dash": "solid"
         },
         "mode": "lines",
         "name": "354 Wettsteinbrücke",
         "showlegend": true,
         "type": "scatter",
         "x": [
          "00:00",
          "01:00",
          "02:00",
          "03:00",
          "04:00",
          "05:00",
          "06:00",
          "07:00",
          "08:00",
          "09:00",
          "10:00",
          "11:00",
          "12:00",
          "13:00",
          "14:00",
          "15:00",
          "16:00",
          "17:00",
          "18:00",
          "19:00",
          "20:00",
          "21:00",
          "22:00",
          "23:00"
         ],
         "xaxis": "x",
         "y": [
          186.03844182470527,
          132.90671450538184,
          101.01691440287033,
          76.05330599692465,
          63.236289082521786,
          60.518708354689906,
          85.27370579190159,
          245.77088672475654,
          424.5038441824705,
          430.1768323936443,
          410.53357252690927,
          427.1491542798565,
          428.3152229625833,
          388.47924141465916,
          462.58687852383395,
          472.4218349564326,
          475.2931829830856,
          498.70015376729884,
          482.6765761148129,
          440.87339825730396,
          365.59507944643775,
          303.75294720656075,
          273.36750384418247,
          259.93029215786777
         ],
         "yaxis": "y"
        },
        {
         "hovertemplate": "SiteName=401 Luzernerring-Brücke<br>TimeTo=%{x}<br>Total=%{y}<extra></extra>",
         "legendgroup": "401 Luzernerring-Brücke",
         "line": {
          "color": "#FFA15A",
          "dash": "solid"
         },
         "mode": "lines",
         "name": "401 Luzernerring-Brücke",
         "showlegend": true,
         "type": "scatter",
         "x": [
          "00:00",
          "01:00",
          "02:00",
          "03:00",
          "04:00",
          "05:00",
          "06:00",
          "07:00",
          "08:00",
          "09:00",
          "10:00",
          "11:00",
          "12:00",
          "13:00",
          "14:00",
          "15:00",
          "16:00",
          "17:00",
          "18:00",
          "19:00",
          "20:00",
          "21:00",
          "22:00",
          "23:00"
         ],
         "xaxis": "x",
         "y": [
          64.37668424135911,
          39.05916813122437,
          24.16051552431166,
          17.12770943175161,
          15.687170474516696,
          21.96133567662566,
          32.926186291739896,
          93.26186291739894,
          130.9642647920328,
          141.18394844756884,
          143.51552431165788,
          158.6033977738723,
          172.2214411247803,
          159.58055067369654,
          176.6174575278266,
          187.94961921499706,
          204.54130052724076,
          233.71060339777387,
          239.09021675454014,
          216.0597539543058,
          158.72407732864676,
          122.88576449912127,
          102.29759812536614,
          93.94903339191565
         ],
         "yaxis": "y"
        },
        {
         "hovertemplate": "SiteName=402 Hochbergerstrasse 55<br>TimeTo=%{x}<br>Total=%{y}<extra></extra>",
         "legendgroup": "402 Hochbergerstrasse 55",
         "line": {
          "color": "#19d3f3",
          "dash": "solid"
         },
         "mode": "lines",
         "name": "402 Hochbergerstrasse 55",
         "showlegend": true,
         "type": "scatter",
         "x": [
          "00:00",
          "01:00",
          "02:00",
          "03:00",
          "04:00",
          "05:00",
          "06:00",
          "07:00",
          "08:00",
          "09:00",
          "10:00",
          "11:00",
          "12:00",
          "13:00",
          "14:00",
          "15:00",
          "16:00",
          "17:00",
          "18:00",
          "19:00",
          "20:00",
          "21:00",
          "22:00",
          "23:00"
         ],
         "xaxis": "x",
         "y": [
          141.7206457925636,
          84.46575342465754,
          50.776908023483365,
          37.68199608610568,
          32.086594911937375,
          47.98140900195695,
          110.70401174168298,
          287.9001956947162,
          386.5009784735812,
          492.71086105675147,
          542.2407045009785,
          548.0122309197652,
          596.3708414872798,
          609.4461839530333,
          593.926614481409,
          633.9001956947162,
          604.9310176125244,
          599.293542074364,
          601.4882583170254,
          596.6125244618395,
          501.61154598825834,
          366.01027397260276,
          268.86399217221134,
          226.89334637964774
         ],
         "yaxis": "y"
        },
        {
         "hovertemplate": "SiteName=403 Heuwaage-Viadukt<br>TimeTo=%{x}<br>Total=%{y}<extra></extra>",
         "legendgroup": "403 Heuwaage-Viadukt",
         "line": {
          "color": "#FF6692",
          "dash": "solid"
         },
         "mode": "lines",
         "name": "403 Heuwaage-Viadukt",
         "showlegend": true,
         "type": "scatter",
         "x": [
          "00:00",
          "01:00",
          "02:00",
          "03:00",
          "04:00",
          "05:00",
          "06:00",
          "07:00",
          "08:00",
          "09:00",
          "10:00",
          "11:00",
          "12:00",
          "13:00",
          "14:00",
          "15:00",
          "16:00",
          "17:00",
          "18:00",
          "19:00",
          "20:00",
          "21:00",
          "22:00",
          "23:00"
         ],
         "xaxis": "x",
         "y": [
          105.19533111005241,
          57.6522153406384,
          37.78608861362554,
          28.33635064316341,
          26.022868032396378,
          32.91424487851358,
          80.83468318246784,
          309.38875655073844,
          383.1205335874226,
          290.7065269175798,
          248.1848499285374,
          278.9614101953311,
          312.15007146260126,
          286.3406383992377,
          290.945212005717,
          309.6193425440686,
          330.7722725107194,
          392.43306336350645,
          365.934730824202,
          306.34969032872795,
          222.2282039066222,
          174.3096712720343,
          153.35540733682706,
          145.87374940447833
         ],
         "yaxis": "y"
        },
        {
         "hovertemplate": "SiteName=404 Viaduktstrasse 60 (Rialto)<br>TimeTo=%{x}<br>Total=%{y}<extra></extra>",
         "legendgroup": "404 Viaduktstrasse 60 (Rialto)",
         "line": {
          "color": "#B6E880",
          "dash": "solid"
         },
         "mode": "lines",
         "name": "404 Viaduktstrasse 60 (Rialto)",
         "showlegend": true,
         "type": "scatter",
         "x": [
          "00:00",
          "01:00",
          "02:00",
          "03:00",
          "04:00",
          "05:00",
          "06:00",
          "07:00",
          "08:00",
          "09:00",
          "10:00",
          "11:00",
          "12:00",
          "13:00",
          "14:00",
          "15:00",
          "16:00",
          "17:00",
          "18:00",
          "19:00",
          "20:00",
          "21:00",
          "22:00",
          "23:00"
         ],
         "xaxis": "x",
         "y": [
          90.11722488038278,
          54.69712918660287,
          34.47990430622009,
          22.594736842105263,
          18.553588516746412,
          25.149282296650718,
          38.50143540669856,
          99.37607655502393,
          151.54832535885168,
          190.85167464114832,
          209.8842105263158,
          234.26794258373207,
          253.37511961722487,
          236.88995215311004,
          256.86555023923444,
          274.62535885167466,
          287.2334928229665,
          332.8047846889952,
          361.2803827751196,
          316.96555023923446,
          224.0866028708134,
          166.29808612440192,
          142.51913875598086,
          136.1047846889952
         ],
         "yaxis": "y"
        },
        {
         "hovertemplate": "SiteName=405 Dorenbachviadukt<br>TimeTo=%{x}<br>Total=%{y}<extra></extra>",
         "legendgroup": "405 Dorenbachviadukt",
         "line": {
          "color": "#FF97FF",
          "dash": "solid"
         },
         "mode": "lines",
         "name": "405 Dorenbachviadukt",
         "showlegend": true,
         "type": "scatter",
         "x": [
          "00:00",
          "01:00",
          "02:00",
          "03:00",
          "04:00",
          "05:00",
          "06:00",
          "07:00",
          "08:00",
          "09:00",
          "10:00",
          "11:00",
          "12:00",
          "13:00",
          "14:00",
          "15:00",
          "16:00",
          "17:00",
          "18:00",
          "19:00",
          "20:00",
          "21:00",
          "22:00",
          "23:00"
         ],
         "xaxis": "x",
         "y": [
          136.6686956521739,
          78.28,
          45.00608695652174,
          27.54,
          27.351304347826087,
          32.05304347826087,
          62.19913043478261,
          207.92521739130436,
          341.21391304347827,
          365.32695652173913,
          382.9573913043478,
          431.29304347826087,
          483.8373913043478,
          466.2182608695652,
          483.98434782608695,
          502.9017391304348,
          528.9408695652174,
          591.0930434782608,
          577.22,
          565.9686956521739,
          442.5521739130435,
          336.44260869565215,
          270.90956521739133,
          222.67652173913044
         ],
         "yaxis": "y"
        },
        {
         "hovertemplate": "SiteName=406 Wasgenring 62<br>TimeTo=%{x}<br>Total=%{y}<extra></extra>",
         "legendgroup": "406 Wasgenring 62",
         "line": {
          "color": "#FECB52",
          "dash": "solid"
         },
         "mode": "lines",
         "name": "406 Wasgenring 62",
         "showlegend": true,
         "type": "scatter",
         "x": [
          "00:00",
          "01:00",
          "02:00",
          "03:00",
          "04:00",
          "05:00",
          "06:00",
          "07:00",
          "08:00",
          "09:00",
          "10:00",
          "11:00",
          "12:00",
          "13:00",
          "14:00",
          "15:00",
          "16:00",
          "17:00",
          "18:00",
          "19:00",
          "20:00",
          "21:00",
          "22:00",
          "23:00"
         ],
         "xaxis": "x",
         "y": [
          118.76544401544402,
          69.02364864864865,
          40.63175675675676,
          26.263030888030887,
          24.76158301158301,
          56.914092664092664,
          113.90250965250965,
          234.46862934362935,
          363.8769305019305,
          448.0468146718147,
          480.72972972972974,
          504.7833011583012,
          530.1718146718147,
          496.8161196911197,
          534.4739382239383,
          556.730694980695,
          551.6201737451737,
          572.3851351351351,
          564.1742277992278,
          545.8185328185328,
          401.4560810810811,
          294.1703667953668,
          225.13320463320463,
          198.84314671814673
         ],
         "yaxis": "y"
        },
        {
         "hovertemplate": "SiteName=407 Äussere Baselstrasse 381 (Riehen)<br>TimeTo=%{x}<br>Total=%{y}<extra></extra>",
         "legendgroup": "407 Äussere Baselstrasse 381 (Riehen)",
         "line": {
          "color": "#636efa",
          "dash": "solid"
         },
         "mode": "lines",
         "name": "407 Äussere Baselstrasse 381 (Riehen)",
         "showlegend": true,
         "type": "scatter",
         "x": [
          "00:00",
          "01:00",
          "02:00",
          "03:00",
          "04:00",
          "05:00",
          "06:00",
          "07:00",
          "08:00",
          "09:00",
          "10:00",
          "11:00",
          "12:00",
          "13:00",
          "14:00",
          "15:00",
          "16:00",
          "17:00",
          "18:00",
          "19:00",
          "20:00",
          "21:00",
          "22:00",
          "23:00"
         ],
         "xaxis": "x",
         "y": [
          74.61538461538461,
          43.05128205128205,
          25.450742240215924,
          16.979757085020243,
          16.190283400809715,
          29.887989203778677,
          66.78879892037787,
          209.11336032388664,
          313.03036437246965,
          316.79487179487177,
          277.29487179487177,
          279.140350877193,
          301.65587044534414,
          286.3529014844804,
          312.7874493927126,
          336.69635627530363,
          339.1221322537112,
          368.6302294197031,
          329.5195681511471,
          288.4197031039136,
          230.35155195681511,
          176.778677462888,
          152.71727395411605,
          129.33670715249661
         ],
         "yaxis": "y"
        },
        {
         "hovertemplate": "SiteName=408 Bäumlihofstrasse (Riehen)<br>TimeTo=%{x}<br>Total=%{y}<extra></extra>",
         "legendgroup": "408 Bäumlihofstrasse (Riehen)",
         "line": {
          "color": "#EF553B",
          "dash": "solid"
         },
         "mode": "lines",
         "name": "408 Bäumlihofstrasse (Riehen)",
         "showlegend": true,
         "type": "scatter",
         "x": [
          "00:00",
          "01:00",
          "02:00",
          "03:00",
          "04:00",
          "05:00",
          "06:00",
          "07:00",
          "08:00",
          "09:00",
          "10:00",
          "11:00",
          "12:00",
          "13:00",
          "14:00",
          "15:00",
          "16:00",
          "17:00",
          "18:00",
          "19:00",
          "20:00",
          "21:00",
          "22:00",
          "23:00"
         ],
         "xaxis": "x",
         "y": [
          55.30958482829318,
          33.47104049205536,
          18.7109174782163,
          14.95643259866735,
          21.871348026653,
          38.702203997949766,
          96.15581752947206,
          241.85289595079448,
          328.3362378267555,
          306.75961045617635,
          285.1506919528447,
          293.0927729369554,
          308.6709379805228,
          287.36596617119426,
          319.7098923628908,
          323.7883136852896,
          322.75089697590977,
          340.09174782162995,
          316.15120451050745,
          276.8826242952332,
          206.87852383393133,
          150.17324449000512,
          122.39620707329574,
          97.62993336750384
         ],
         "yaxis": "y"
        },
        {
         "hovertemplate": "SiteName=409 Grenzacherstrasse 511<br>TimeTo=%{x}<br>Total=%{y}<extra></extra>",
         "legendgroup": "409 Grenzacherstrasse 511",
         "line": {
          "color": "#00cc96",
          "dash": "solid"
         },
         "mode": "lines",
         "name": "409 Grenzacherstrasse 511",
         "showlegend": true,
         "type": "scatter",
         "x": [
          "00:00",
          "01:00",
          "02:00",
          "03:00",
          "04:00",
          "05:00",
          "06:00",
          "07:00",
          "08:00",
          "09:00",
          "10:00",
          "11:00",
          "12:00",
          "13:00",
          "14:00",
          "15:00",
          "16:00",
          "17:00",
          "18:00",
          "19:00",
          "20:00",
          "21:00",
          "22:00",
          "23:00"
         ],
         "xaxis": "x",
         "y": [
          95.18628571428572,
          55.46514285714286,
          29.982285714285716,
          20.672,
          22.76,
          57.35257142857143,
          195.808,
          528.0245714285714,
          688.0702857142857,
          574.868,
          527.2011428571428,
          558.7982857142857,
          574.9354285714286,
          546.6342857142857,
          608.5605714285714,
          630.8291428571429,
          643.2348571428571,
          662.3051428571429,
          591.7434285714286,
          501.188,
          385.4188571428571,
          276.13314285714284,
          219.15714285714284,
          164.47714285714287
         ],
         "yaxis": "y"
        },
        {
         "hovertemplate": "SiteName=410 St. Alban-Anlage 72<br>TimeTo=%{x}<br>Total=%{y}<extra></extra>",
         "legendgroup": "410 St. Alban-Anlage 72",
         "line": {
          "color": "#ab63fa",
          "dash": "solid"
         },
         "mode": "lines",
         "name": "410 St. Alban-Anlage 72",
         "showlegend": true,
         "type": "scatter",
         "x": [
          "00:00",
          "01:00",
          "02:00",
          "03:00",
          "04:00",
          "05:00",
          "06:00",
          "07:00",
          "08:00",
          "09:00",
          "10:00",
          "11:00",
          "12:00",
          "13:00",
          "14:00",
          "15:00",
          "16:00",
          "17:00",
          "18:00",
          "19:00",
          "20:00",
          "21:00",
          "22:00",
          "23:00"
         ],
         "xaxis": "x",
         "y": [
          61.493197278911566,
          39.637026239067055,
          26.472303206997086,
          19.04907677356657,
          17.24198250728863,
          22.68901846452867,
          52.701166180758015,
          184.3600583090379,
          420.7040816326531,
          432.8867832847425,
          303.287657920311,
          277.97667638483966,
          274.0568513119534,
          251.1078717201166,
          309.7716229348882,
          296.2973760932945,
          285.04373177842564,
          297.9028182701652,
          310.6438289601555,
          263.70942662779396,
          195.0874635568513,
          142.6627793974733,
          112.31292517006803,
          96.05199222546162
         ],
         "yaxis": "y"
        },
        {
         "hovertemplate": "SiteName=411 Fasanenstrasse (DB-Brücke)<br>TimeTo=%{x}<br>Total=%{y}<extra></extra>",
         "legendgroup": "411 Fasanenstrasse (DB-Brücke)",
         "line": {
          "color": "#FFA15A",
          "dash": "solid"
         },
         "mode": "lines",
         "name": "411 Fasanenstrasse (DB-Brücke)",
         "showlegend": true,
         "type": "scatter",
         "x": [
          "00:00",
          "01:00",
          "02:00",
          "03:00",
          "04:00",
          "05:00",
          "06:00",
          "07:00",
          "08:00",
          "09:00",
          "10:00",
          "11:00",
          "12:00",
          "13:00",
          "14:00",
          "15:00",
          "16:00",
          "17:00",
          "18:00",
          "19:00",
          "20:00",
          "21:00",
          "22:00",
          "23:00"
         ],
         "xaxis": "x",
         "y": [
          38.783551967709386,
          20.418264379414733,
          11.955600403632694,
          8.15640766902119,
          7.159939455095863,
          10.535317860746721,
          34.05751765893037,
          129.59434914228052,
          147.2063572149344,
          136.79717457114026,
          133.10141271442987,
          147.59182643794148,
          160.66700302724522,
          156.84611503531787,
          166.06407669021192,
          171.7643794147326,
          177.32996972754793,
          211.35469223007064,
          224.77699293642786,
          182.3486377396569,
          122.86377396569122,
          86.49798183652877,
          66.57517658930374,
          61.476791120080726
         ],
         "yaxis": "y"
        },
        {
         "hovertemplate": "SiteName=412 Dornacherstrasse 49<br>TimeTo=%{x}<br>Total=%{y}<extra></extra>",
         "legendgroup": "412 Dornacherstrasse 49",
         "line": {
          "color": "#19d3f3",
          "dash": "solid"
         },
         "mode": "lines",
         "name": "412 Dornacherstrasse 49",
         "showlegend": true,
         "type": "scatter",
         "x": [
          "00:00",
          "01:00",
          "02:00",
          "03:00",
          "04:00",
          "05:00",
          "06:00",
          "07:00",
          "08:00",
          "09:00",
          "10:00",
          "11:00",
          "12:00",
          "13:00",
          "14:00",
          "15:00",
          "16:00",
          "17:00",
          "18:00",
          "19:00",
          "20:00",
          "21:00",
          "22:00",
          "23:00"
         ],
         "xaxis": "x",
         "y": [
          77.00150300601203,
          44.942384769539075,
          28.291082164328657,
          19.28056112224449,
          17.441382765531063,
          21.104208416833668,
          35.69088176352705,
          148.90781563126254,
          268.435871743487,
          275.6828657314629,
          296.4689378757515,
          331.6838677354709,
          366.77254509018036,
          338.2945891783567,
          369.63276553106215,
          383.47795591182364,
          395.82715430861725,
          468.25350701402806,
          463.23597194388776,
          398.74498997995994,
          289.47895791583164,
          222.23547094188376,
          172.18436873747495,
          130.81462925851704
         ],
         "yaxis": "y"
        },
        {
         "hovertemplate": "SiteName=413 Gundeldingerstrasse 107<br>TimeTo=%{x}<br>Total=%{y}<extra></extra>",
         "legendgroup": "413 Gundeldingerstrasse 107",
         "line": {
          "color": "#FF6692",
          "dash": "solid"
         },
         "mode": "lines",
         "name": "413 Gundeldingerstrasse 107",
         "showlegend": true,
         "type": "scatter",
         "x": [
          "00:00",
          "01:00",
          "02:00",
          "03:00",
          "04:00",
          "05:00",
          "06:00",
          "07:00",
          "08:00",
          "09:00",
          "10:00",
          "11:00",
          "12:00",
          "13:00",
          "14:00",
          "15:00",
          "16:00",
          "17:00",
          "18:00",
          "19:00",
          "20:00",
          "21:00",
          "22:00",
          "23:00"
         ],
         "xaxis": "x",
         "y": [
          94.24450127877238,
          53.14066496163683,
          32.021994884910484,
          24.406649616368288,
          23.915601023017903,
          42.298721227621485,
          97.99693094629156,
          343.69718670076725,
          440.76572890025574,
          410.3928388746803,
          385.6690537084399,
          400.4690537084399,
          423.3611253196931,
          385.3744245524297,
          436.22915601023016,
          449.9514066496164,
          437.96419437340154,
          478.1964194373401,
          494.83580562659847,
          405.1488491048593,
          296.74219948849105,
          213.03631713554987,
          180.9856777493606,
          146.70281329923273
         ],
         "yaxis": "y"
        },
        {
         "hovertemplate": "SiteName=415 Grosspeterstrasse 45<br>TimeTo=%{x}<br>Total=%{y}<extra></extra>",
         "legendgroup": "415 Grosspeterstrasse 45",
         "line": {
          "color": "#B6E880",
          "dash": "solid"
         },
         "mode": "lines",
         "name": "415 Grosspeterstrasse 45",
         "showlegend": true,
         "type": "scatter",
         "x": [
          "00:00",
          "01:00",
          "02:00",
          "03:00",
          "04:00",
          "05:00",
          "06:00",
          "07:00",
          "08:00",
          "09:00",
          "10:00",
          "11:00",
          "12:00",
          "13:00",
          "14:00",
          "15:00",
          "16:00",
          "17:00",
          "18:00",
          "19:00",
          "20:00",
          "21:00",
          "22:00",
          "23:00"
         ],
         "xaxis": "x",
         "y": [
          165.77405405405406,
          95.5518918918919,
          56.406486486486486,
          37.542162162162164,
          32.056216216216214,
          41.380540540540544,
          102.91351351351351,
          357.45243243243243,
          540.9297297297297,
          509.11675675675673,
          473.48594594594596,
          526.505945945946,
          611.6913513513514,
          594.0216216216216,
          613.207027027027,
          640.714054054054,
          685.367027027027,
          825.32,
          831.0675675675676,
          681.2713513513513,
          458.9286486486487,
          339.3410810810811,
          269.7940540540541,
          248.43243243243242
         ],
         "yaxis": "y"
        },
        {
         "hovertemplate": "SiteName=416 J. Burckhardt-Strasse 85 (2-spurig bis Mai 2016)<br>TimeTo=%{x}<br>Total=%{y}<extra></extra>",
         "legendgroup": "416 J. Burckhardt-Strasse 85 (2-spurig bis Mai 2016)",
         "line": {
          "color": "#FF97FF",
          "dash": "solid"
         },
         "mode": "lines",
         "name": "416 J. Burckhardt-Strasse 85 (2-spurig bis Mai 2016)",
         "showlegend": true,
         "type": "scatter",
         "x": [
          "00:00",
          "01:00",
          "02:00",
          "03:00",
          "04:00",
          "05:00",
          "06:00",
          "07:00",
          "08:00",
          "09:00",
          "10:00",
          "11:00",
          "12:00",
          "13:00",
          "14:00",
          "15:00",
          "16:00",
          "17:00",
          "18:00",
          "19:00",
          "20:00",
          "21:00",
          "22:00",
          "23:00"
         ],
         "xaxis": "x",
         "y": [
          33.37068965517241,
          22.426724137931036,
          17.43103448275862,
          13.161637931034482,
          12.601293103448276,
          14.375,
          20.07758620689655,
          71.69396551724138,
          180.3405172413793,
          189.09913793103448,
          152.2176724137931,
          153.60129310344828,
          162.8706896551724,
          155.51077586206895,
          181.20043103448276,
          173.0301724137931,
          173.86206896551724,
          205.64439655172413,
          216.9698275862069,
          169.20043103448276,
          115.87931034482759,
          79.68103448275862,
          62.2823275862069,
          51.12068965517241
         ],
         "yaxis": "y"
        },
        {
         "hovertemplate": "SiteName=419 Riehenring 120<br>TimeTo=%{x}<br>Total=%{y}<extra></extra>",
         "legendgroup": "419 Riehenring 120",
         "line": {
          "color": "#FECB52",
          "dash": "solid"
         },
         "mode": "lines",
         "name": "419 Riehenring 120",
         "showlegend": true,
         "type": "scatter",
         "x": [
          "00:00",
          "01:00",
          "02:00",
          "03:00",
          "04:00",
          "05:00",
          "06:00",
          "07:00",
          "08:00",
          "09:00",
          "10:00",
          "11:00",
          "12:00",
          "13:00",
          "14:00",
          "15:00",
          "16:00",
          "17:00",
          "18:00",
          "19:00",
          "20:00",
          "21:00",
          "22:00",
          "23:00"
         ],
         "xaxis": "x",
         "y": [
          120.31387559808613,
          82.23349282296651,
          58.415789473684214,
          42.38564593301435,
          35.25885167464115,
          37.32153110047847,
          49.84354066985646,
          97.12392344497607,
          162.4555023923445,
          211.5535885167464,
          226.3622009569378,
          251.90287081339713,
          277.44736842105266,
          263.1842105263158,
          276.2311004784689,
          306.65406698564595,
          316.566985645933,
          353.2377990430622,
          358.74976076555026,
          333.83301435406696,
          256.0732057416268,
          209.25693779904307,
          170.71913875598085,
          160.9023923444976
         ],
         "yaxis": "y"
        },
        {
         "hovertemplate": "SiteName=420 Nauenstrasse 73<br>TimeTo=%{x}<br>Total=%{y}<extra></extra>",
         "legendgroup": "420 Nauenstrasse 73",
         "line": {
          "color": "#636efa",
          "dash": "solid"
         },
         "mode": "lines",
         "name": "420 Nauenstrasse 73",
         "showlegend": true,
         "type": "scatter",
         "x": [
          "00:00",
          "01:00",
          "02:00",
          "03:00",
          "04:00",
          "05:00",
          "06:00",
          "07:00",
          "08:00",
          "09:00",
          "10:00",
          "11:00",
          "12:00",
          "13:00",
          "14:00",
          "15:00",
          "16:00",
          "17:00",
          "18:00",
          "19:00",
          "20:00",
          "21:00",
          "22:00",
          "23:00"
         ],
         "xaxis": "x",
         "y": [
          149.3714423540762,
          84.96092619392185,
          49.12638687891944,
          33.51326579835987,
          27.920887602508444,
          33.73275446213218,
          87.81524360829715,
          319.46068499758803,
          430.4626145682586,
          380.8359864930053,
          351.9561022672455,
          399.301013024602,
          430.3709599614086,
          431.1731789676797,
          469.1259044862518,
          490.1485769416305,
          519.9025566811384,
          570.425470332851,
          554.9937288953208,
          493.9715388326097,
          353.85045827303423,
          268.6193921852388,
          229.45441389290883,
          214.30873130728412
         ],
         "yaxis": "y"
        },
        {
         "hovertemplate": "SiteName=651 Entenweidstrasse 74<br>TimeTo=%{x}<br>Total=%{y}<extra></extra>",
         "legendgroup": "651 Entenweidstrasse 74",
         "line": {
          "color": "#EF553B",
          "dash": "solid"
         },
         "mode": "lines",
         "name": "651 Entenweidstrasse 74",
         "showlegend": true,
         "type": "scatter",
         "x": [
          "00:00",
          "01:00",
          "02:00",
          "03:00",
          "04:00",
          "05:00",
          "06:00",
          "07:00",
          "08:00",
          "09:00",
          "10:00",
          "11:00",
          "12:00",
          "13:00",
          "14:00",
          "15:00",
          "16:00",
          "17:00",
          "18:00",
          "19:00",
          "20:00",
          "21:00",
          "22:00",
          "23:00"
         ],
         "xaxis": "x",
         "y": [
          34.89837786259542,
          22.310114503816795,
          13.908396946564885,
          9.529580152671755,
          7.866889312977099,
          10.315362595419847,
          16.936545801526716,
          57.24713740458015,
          82.6006679389313,
          90.52671755725191,
          83.44704198473282,
          89.97137404580153,
          107.60591603053435,
          100.5114503816794,
          104.45801526717557,
          104.80343511450381,
          113.38120229007633,
          134.45276717557252,
          149.7070610687023,
          130.8458969465649,
          97.0682251908397,
          78.54437022900764,
          62.42986641221374,
          50.79246183206107
         ],
         "yaxis": "y"
        },
        {
         "hovertemplate": "SiteName=653 Flughafenstrasse 30<br>TimeTo=%{x}<br>Total=%{y}<extra></extra>",
         "legendgroup": "653 Flughafenstrasse 30",
         "line": {
          "color": "#00cc96",
          "dash": "solid"
         },
         "mode": "lines",
         "name": "653 Flughafenstrasse 30",
         "showlegend": true,
         "type": "scatter",
         "x": [
          "00:00",
          "01:00",
          "02:00",
          "03:00",
          "04:00",
          "05:00",
          "06:00",
          "07:00",
          "08:00",
          "09:00",
          "10:00",
          "11:00",
          "12:00",
          "13:00",
          "14:00",
          "15:00",
          "16:00",
          "17:00",
          "18:00",
          "19:00",
          "20:00",
          "21:00",
          "22:00",
          "23:00"
         ],
         "xaxis": "x",
         "y": [
          103.72858672376874,
          56.58244111349036,
          32.636509635974306,
          21.862419700214133,
          19.124197002141326,
          37.145610278372594,
          67.21520342612419,
          120.29710920770879,
          163.7789079229122,
          197.04496788008566,
          198.1836188436831,
          219.01927194860815,
          246.80139186295503,
          228.71038543897217,
          242.52944325481798,
          288.2944325481799,
          312.0155246252677,
          419.4400428265525,
          403.673982869379,
          324.7997858672377,
          208.8634903640257,
          157.21306209850107,
          129.8891862955032,
          142.48875802997858
         ],
         "yaxis": "y"
        },
        {
         "hovertemplate": "SiteName=659 Schlachthofstrasse<br>TimeTo=%{x}<br>Total=%{y}<extra></extra>",
         "legendgroup": "659 Schlachthofstrasse",
         "line": {
          "color": "#ab63fa",
          "dash": "solid"
         },
         "mode": "lines",
         "name": "659 Schlachthofstrasse",
         "showlegend": true,
         "type": "scatter",
         "x": [
          "00:00",
          "01:00",
          "02:00",
          "03:00",
          "04:00",
          "05:00",
          "06:00",
          "07:00",
          "08:00",
          "09:00",
          "10:00",
          "11:00",
          "12:00",
          "13:00",
          "14:00",
          "15:00",
          "16:00",
          "17:00",
          "18:00",
          "19:00",
          "20:00",
          "21:00",
          "22:00",
          "23:00"
         ],
         "xaxis": "x",
         "y": [
          45.339853300733495,
          26.84449877750611,
          16.700733496332518,
          14.040097799511003,
          21.148166259168704,
          74.96332518337408,
          164.78826405867972,
          312.05427872860633,
          253.4919315403423,
          237.60537897310513,
          203.90073349633252,
          202.21124694376527,
          220.3838630806846,
          214.24547677261614,
          243.98924205378972,
          251.04889975550122,
          297.59511002444987,
          355.07432762836186,
          335.51687041564793,
          276.31002444987774,
          167.61907090464547,
          108.48459657701711,
          81.9437652811736,
          75.35696821515893
         ],
         "yaxis": "y"
        },
        {
         "hovertemplate": "SiteName=660 Flughafenstrasse, Grenze CH-F<br>TimeTo=%{x}<br>Total=%{y}<extra></extra>",
         "legendgroup": "660 Flughafenstrasse, Grenze CH-F",
         "line": {
          "color": "#FFA15A",
          "dash": "solid"
         },
         "mode": "lines",
         "name": "660 Flughafenstrasse, Grenze CH-F",
         "showlegend": true,
         "type": "scatter",
         "x": [
          "00:00",
          "01:00",
          "02:00",
          "03:00",
          "04:00",
          "05:00",
          "06:00",
          "07:00",
          "08:00",
          "09:00",
          "10:00",
          "11:00",
          "12:00",
          "13:00",
          "14:00",
          "15:00",
          "16:00",
          "17:00",
          "18:00",
          "19:00",
          "20:00",
          "21:00",
          "22:00",
          "23:00"
         ],
         "xaxis": "x",
         "y": [
          60.48918387413963,
          12.9031465093412,
          5.522615535889872,
          6.311209439528024,
          36.50737463126843,
          220.8574237954769,
          290.4095378564405,
          242.58210422812192,
          330.0899705014749,
          379.5,
          336.93756145526055,
          306.2005899705015,
          291.50639134709934,
          292.7733529990167,
          322.7025565388397,
          304.6071779744346,
          300.72418879056045,
          294.53834808259586,
          276.2645034414946,
          242.3259587020649,
          227.4567354965585,
          199.6819075712881,
          176.82645034414946,
          186.64700098328416
         ],
         "yaxis": "y"
        },
        {
         "hovertemplate": "SiteName=670 Zoll CH-D, Hiltalingerstrasse<br>TimeTo=%{x}<br>Total=%{y}<extra></extra>",
         "legendgroup": "670 Zoll CH-D, Hiltalingerstrasse",
         "line": {
          "color": "#19d3f3",
          "dash": "solid"
         },
         "mode": "lines",
         "name": "670 Zoll CH-D, Hiltalingerstrasse",
         "showlegend": true,
         "type": "scatter",
         "x": [
          "00:00",
          "01:00",
          "02:00",
          "03:00",
          "04:00",
          "05:00",
          "06:00",
          "07:00",
          "08:00",
          "09:00",
          "10:00",
          "11:00",
          "12:00",
          "13:00",
          "14:00",
          "15:00",
          "16:00",
          "17:00",
          "18:00",
          "19:00",
          "20:00",
          "21:00",
          "22:00",
          "23:00"
         ],
         "xaxis": "x",
         "y": [
          127.70641169853768,
          80.28571428571429,
          55.32170978627671,
          29.65523059617548,
          20.859955005624297,
          31.00562429696288,
          79.37457817772778,
          253.93475815523058,
          267.9201349831271,
          217.22553430821148,
          256.69010123734535,
          316.50224971878515,
          353.9268841394826,
          373.5326209223847,
          387.27784026996625,
          379.1164229471316,
          397.2885264341957,
          392.7114735658043,
          382.92575928009,
          373.60404949381325,
          375.4758155230596,
          371.7474690663667,
          290.56749156355454,
          236.1586051743532
         ],
         "yaxis": "y"
        },
        {
         "hovertemplate": "SiteName=671 Zoll CH-D, Freiburgerstrasse<br>TimeTo=%{x}<br>Total=%{y}<extra></extra>",
         "legendgroup": "671 Zoll CH-D, Freiburgerstrasse",
         "line": {
          "color": "#FF6692",
          "dash": "solid"
         },
         "mode": "lines",
         "name": "671 Zoll CH-D, Freiburgerstrasse",
         "showlegend": true,
         "type": "scatter",
         "x": [
          "00:00",
          "01:00",
          "02:00",
          "03:00",
          "04:00",
          "05:00",
          "06:00",
          "07:00",
          "08:00",
          "09:00",
          "10:00",
          "11:00",
          "12:00",
          "13:00",
          "14:00",
          "15:00",
          "16:00",
          "17:00",
          "18:00",
          "19:00",
          "20:00",
          "21:00",
          "22:00",
          "23:00"
         ],
         "xaxis": "x",
         "y": [
          161.5920041004613,
          92.67042542286008,
          47.44028703229113,
          34.579702716555616,
          35.457713992824196,
          78.31573552024602,
          238.22193746796515,
          582.982573039467,
          636.5822655048693,
          515.308047155305,
          414.1788826242952,
          452.8892875448488,
          461.502819067145,
          479.70732957457716,
          517.6888774987186,
          497.1609431060994,
          485.14710404920555,
          479.7580727831881,
          479.8785238339313,
          478.8928754484879,
          454.9569451563301,
          394.8298308559713,
          326.0374167093798,
          260.1783700666325
         ],
         "yaxis": "y"
        },
        {
         "hovertemplate": "SiteName=672 Zoll CH-D, Weilstrasse<br>TimeTo=%{x}<br>Total=%{y}<extra></extra>",
         "legendgroup": "672 Zoll CH-D, Weilstrasse",
         "line": {
          "color": "#B6E880",
          "dash": "solid"
         },
         "mode": "lines",
         "name": "672 Zoll CH-D, Weilstrasse",
         "showlegend": true,
         "type": "scatter",
         "x": [
          "00:00",
          "01:00",
          "02:00",
          "03:00",
          "04:00",
          "05:00",
          "06:00",
          "07:00",
          "08:00",
          "09:00",
          "10:00",
          "11:00",
          "12:00",
          "13:00",
          "14:00",
          "15:00",
          "16:00",
          "17:00",
          "18:00",
          "19:00",
          "20:00",
          "21:00",
          "22:00",
          "23:00"
         ],
         "xaxis": "x",
         "y": [
          24.664481525625746,
          13.969606674612635,
          7.222288438617402,
          4.642431466030989,
          4.1758045292014305,
          8.045887961859357,
          26.80870083432658,
          61.646603098927294,
          121.49284862932062,
          138.68295589988082,
          137.67282479141835,
          149.04112038140644,
          166.9994040524434,
          171.94755661501787,
          163.14839094159714,
          179.3617401668653,
          182.33849821215733,
          202.29916567342073,
          205.74433849821216,
          168.81585220500597,
          117.70977353992849,
          73.64183551847438,
          54.9761620977354,
          43.598331346841476
         ],
         "yaxis": "y"
        }
       ],
       "layout": {
        "legend": {
         "title": {
          "text": "SiteName"
         },
         "tracegroupgap": 0
        },
        "margin": {
         "t": 60
        },
        "template": {
         "data": {
          "bar": [
           {
            "error_x": {
             "color": "#2a3f5f"
            },
            "error_y": {
             "color": "#2a3f5f"
            },
            "marker": {
             "line": {
              "color": "#E5ECF6",
              "width": 0.5
             }
            },
            "type": "bar"
           }
          ],
          "barpolar": [
           {
            "marker": {
             "line": {
              "color": "#E5ECF6",
              "width": 0.5
             }
            },
            "type": "barpolar"
           }
          ],
          "carpet": [
           {
            "aaxis": {
             "endlinecolor": "#2a3f5f",
             "gridcolor": "white",
             "linecolor": "white",
             "minorgridcolor": "white",
             "startlinecolor": "#2a3f5f"
            },
            "baxis": {
             "endlinecolor": "#2a3f5f",
             "gridcolor": "white",
             "linecolor": "white",
             "minorgridcolor": "white",
             "startlinecolor": "#2a3f5f"
            },
            "type": "carpet"
           }
          ],
          "choropleth": [
           {
            "colorbar": {
             "outlinewidth": 0,
             "ticks": ""
            },
            "type": "choropleth"
           }
          ],
          "contour": [
           {
            "colorbar": {
             "outlinewidth": 0,
             "ticks": ""
            },
            "colorscale": [
             [
              0,
              "#0d0887"
             ],
             [
              0.1111111111111111,
              "#46039f"
             ],
             [
              0.2222222222222222,
              "#7201a8"
             ],
             [
              0.3333333333333333,
              "#9c179e"
             ],
             [
              0.4444444444444444,
              "#bd3786"
             ],
             [
              0.5555555555555556,
              "#d8576b"
             ],
             [
              0.6666666666666666,
              "#ed7953"
             ],
             [
              0.7777777777777778,
              "#fb9f3a"
             ],
             [
              0.8888888888888888,
              "#fdca26"
             ],
             [
              1,
              "#f0f921"
             ]
            ],
            "type": "contour"
           }
          ],
          "contourcarpet": [
           {
            "colorbar": {
             "outlinewidth": 0,
             "ticks": ""
            },
            "type": "contourcarpet"
           }
          ],
          "heatmap": [
           {
            "colorbar": {
             "outlinewidth": 0,
             "ticks": ""
            },
            "colorscale": [
             [
              0,
              "#0d0887"
             ],
             [
              0.1111111111111111,
              "#46039f"
             ],
             [
              0.2222222222222222,
              "#7201a8"
             ],
             [
              0.3333333333333333,
              "#9c179e"
             ],
             [
              0.4444444444444444,
              "#bd3786"
             ],
             [
              0.5555555555555556,
              "#d8576b"
             ],
             [
              0.6666666666666666,
              "#ed7953"
             ],
             [
              0.7777777777777778,
              "#fb9f3a"
             ],
             [
              0.8888888888888888,
              "#fdca26"
             ],
             [
              1,
              "#f0f921"
             ]
            ],
            "type": "heatmap"
           }
          ],
          "heatmapgl": [
           {
            "colorbar": {
             "outlinewidth": 0,
             "ticks": ""
            },
            "colorscale": [
             [
              0,
              "#0d0887"
             ],
             [
              0.1111111111111111,
              "#46039f"
             ],
             [
              0.2222222222222222,
              "#7201a8"
             ],
             [
              0.3333333333333333,
              "#9c179e"
             ],
             [
              0.4444444444444444,
              "#bd3786"
             ],
             [
              0.5555555555555556,
              "#d8576b"
             ],
             [
              0.6666666666666666,
              "#ed7953"
             ],
             [
              0.7777777777777778,
              "#fb9f3a"
             ],
             [
              0.8888888888888888,
              "#fdca26"
             ],
             [
              1,
              "#f0f921"
             ]
            ],
            "type": "heatmapgl"
           }
          ],
          "histogram": [
           {
            "marker": {
             "colorbar": {
              "outlinewidth": 0,
              "ticks": ""
             }
            },
            "type": "histogram"
           }
          ],
          "histogram2d": [
           {
            "colorbar": {
             "outlinewidth": 0,
             "ticks": ""
            },
            "colorscale": [
             [
              0,
              "#0d0887"
             ],
             [
              0.1111111111111111,
              "#46039f"
             ],
             [
              0.2222222222222222,
              "#7201a8"
             ],
             [
              0.3333333333333333,
              "#9c179e"
             ],
             [
              0.4444444444444444,
              "#bd3786"
             ],
             [
              0.5555555555555556,
              "#d8576b"
             ],
             [
              0.6666666666666666,
              "#ed7953"
             ],
             [
              0.7777777777777778,
              "#fb9f3a"
             ],
             [
              0.8888888888888888,
              "#fdca26"
             ],
             [
              1,
              "#f0f921"
             ]
            ],
            "type": "histogram2d"
           }
          ],
          "histogram2dcontour": [
           {
            "colorbar": {
             "outlinewidth": 0,
             "ticks": ""
            },
            "colorscale": [
             [
              0,
              "#0d0887"
             ],
             [
              0.1111111111111111,
              "#46039f"
             ],
             [
              0.2222222222222222,
              "#7201a8"
             ],
             [
              0.3333333333333333,
              "#9c179e"
             ],
             [
              0.4444444444444444,
              "#bd3786"
             ],
             [
              0.5555555555555556,
              "#d8576b"
             ],
             [
              0.6666666666666666,
              "#ed7953"
             ],
             [
              0.7777777777777778,
              "#fb9f3a"
             ],
             [
              0.8888888888888888,
              "#fdca26"
             ],
             [
              1,
              "#f0f921"
             ]
            ],
            "type": "histogram2dcontour"
           }
          ],
          "mesh3d": [
           {
            "colorbar": {
             "outlinewidth": 0,
             "ticks": ""
            },
            "type": "mesh3d"
           }
          ],
          "parcoords": [
           {
            "line": {
             "colorbar": {
              "outlinewidth": 0,
              "ticks": ""
             }
            },
            "type": "parcoords"
           }
          ],
          "pie": [
           {
            "automargin": true,
            "type": "pie"
           }
          ],
          "scatter": [
           {
            "marker": {
             "colorbar": {
              "outlinewidth": 0,
              "ticks": ""
             }
            },
            "type": "scatter"
           }
          ],
          "scatter3d": [
           {
            "line": {
             "colorbar": {
              "outlinewidth": 0,
              "ticks": ""
             }
            },
            "marker": {
             "colorbar": {
              "outlinewidth": 0,
              "ticks": ""
             }
            },
            "type": "scatter3d"
           }
          ],
          "scattercarpet": [
           {
            "marker": {
             "colorbar": {
              "outlinewidth": 0,
              "ticks": ""
             }
            },
            "type": "scattercarpet"
           }
          ],
          "scattergeo": [
           {
            "marker": {
             "colorbar": {
              "outlinewidth": 0,
              "ticks": ""
             }
            },
            "type": "scattergeo"
           }
          ],
          "scattergl": [
           {
            "marker": {
             "colorbar": {
              "outlinewidth": 0,
              "ticks": ""
             }
            },
            "type": "scattergl"
           }
          ],
          "scattermapbox": [
           {
            "marker": {
             "colorbar": {
              "outlinewidth": 0,
              "ticks": ""
             }
            },
            "type": "scattermapbox"
           }
          ],
          "scatterpolar": [
           {
            "marker": {
             "colorbar": {
              "outlinewidth": 0,
              "ticks": ""
             }
            },
            "type": "scatterpolar"
           }
          ],
          "scatterpolargl": [
           {
            "marker": {
             "colorbar": {
              "outlinewidth": 0,
              "ticks": ""
             }
            },
            "type": "scatterpolargl"
           }
          ],
          "scatterternary": [
           {
            "marker": {
             "colorbar": {
              "outlinewidth": 0,
              "ticks": ""
             }
            },
            "type": "scatterternary"
           }
          ],
          "surface": [
           {
            "colorbar": {
             "outlinewidth": 0,
             "ticks": ""
            },
            "colorscale": [
             [
              0,
              "#0d0887"
             ],
             [
              0.1111111111111111,
              "#46039f"
             ],
             [
              0.2222222222222222,
              "#7201a8"
             ],
             [
              0.3333333333333333,
              "#9c179e"
             ],
             [
              0.4444444444444444,
              "#bd3786"
             ],
             [
              0.5555555555555556,
              "#d8576b"
             ],
             [
              0.6666666666666666,
              "#ed7953"
             ],
             [
              0.7777777777777778,
              "#fb9f3a"
             ],
             [
              0.8888888888888888,
              "#fdca26"
             ],
             [
              1,
              "#f0f921"
             ]
            ],
            "type": "surface"
           }
          ],
          "table": [
           {
            "cells": {
             "fill": {
              "color": "#EBF0F8"
             },
             "line": {
              "color": "white"
             }
            },
            "header": {
             "fill": {
              "color": "#C8D4E3"
             },
             "line": {
              "color": "white"
             }
            },
            "type": "table"
           }
          ]
         },
         "layout": {
          "annotationdefaults": {
           "arrowcolor": "#2a3f5f",
           "arrowhead": 0,
           "arrowwidth": 1
          },
          "coloraxis": {
           "colorbar": {
            "outlinewidth": 0,
            "ticks": ""
           }
          },
          "colorscale": {
           "diverging": [
            [
             0,
             "#8e0152"
            ],
            [
             0.1,
             "#c51b7d"
            ],
            [
             0.2,
             "#de77ae"
            ],
            [
             0.3,
             "#f1b6da"
            ],
            [
             0.4,
             "#fde0ef"
            ],
            [
             0.5,
             "#f7f7f7"
            ],
            [
             0.6,
             "#e6f5d0"
            ],
            [
             0.7,
             "#b8e186"
            ],
            [
             0.8,
             "#7fbc41"
            ],
            [
             0.9,
             "#4d9221"
            ],
            [
             1,
             "#276419"
            ]
           ],
           "sequential": [
            [
             0,
             "#0d0887"
            ],
            [
             0.1111111111111111,
             "#46039f"
            ],
            [
             0.2222222222222222,
             "#7201a8"
            ],
            [
             0.3333333333333333,
             "#9c179e"
            ],
            [
             0.4444444444444444,
             "#bd3786"
            ],
            [
             0.5555555555555556,
             "#d8576b"
            ],
            [
             0.6666666666666666,
             "#ed7953"
            ],
            [
             0.7777777777777778,
             "#fb9f3a"
            ],
            [
             0.8888888888888888,
             "#fdca26"
            ],
            [
             1,
             "#f0f921"
            ]
           ],
           "sequentialminus": [
            [
             0,
             "#0d0887"
            ],
            [
             0.1111111111111111,
             "#46039f"
            ],
            [
             0.2222222222222222,
             "#7201a8"
            ],
            [
             0.3333333333333333,
             "#9c179e"
            ],
            [
             0.4444444444444444,
             "#bd3786"
            ],
            [
             0.5555555555555556,
             "#d8576b"
            ],
            [
             0.6666666666666666,
             "#ed7953"
            ],
            [
             0.7777777777777778,
             "#fb9f3a"
            ],
            [
             0.8888888888888888,
             "#fdca26"
            ],
            [
             1,
             "#f0f921"
            ]
           ]
          },
          "colorway": [
           "#636efa",
           "#EF553B",
           "#00cc96",
           "#ab63fa",
           "#FFA15A",
           "#19d3f3",
           "#FF6692",
           "#B6E880",
           "#FF97FF",
           "#FECB52"
          ],
          "font": {
           "color": "#2a3f5f"
          },
          "geo": {
           "bgcolor": "white",
           "lakecolor": "white",
           "landcolor": "#E5ECF6",
           "showlakes": true,
           "showland": true,
           "subunitcolor": "white"
          },
          "hoverlabel": {
           "align": "left"
          },
          "hovermode": "closest",
          "mapbox": {
           "style": "light"
          },
          "paper_bgcolor": "white",
          "plot_bgcolor": "#E5ECF6",
          "polar": {
           "angularaxis": {
            "gridcolor": "white",
            "linecolor": "white",
            "ticks": ""
           },
           "bgcolor": "#E5ECF6",
           "radialaxis": {
            "gridcolor": "white",
            "linecolor": "white",
            "ticks": ""
           }
          },
          "scene": {
           "xaxis": {
            "backgroundcolor": "#E5ECF6",
            "gridcolor": "white",
            "gridwidth": 2,
            "linecolor": "white",
            "showbackground": true,
            "ticks": "",
            "zerolinecolor": "white"
           },
           "yaxis": {
            "backgroundcolor": "#E5ECF6",
            "gridcolor": "white",
            "gridwidth": 2,
            "linecolor": "white",
            "showbackground": true,
            "ticks": "",
            "zerolinecolor": "white"
           },
           "zaxis": {
            "backgroundcolor": "#E5ECF6",
            "gridcolor": "white",
            "gridwidth": 2,
            "linecolor": "white",
            "showbackground": true,
            "ticks": "",
            "zerolinecolor": "white"
           }
          },
          "shapedefaults": {
           "line": {
            "color": "#2a3f5f"
           }
          },
          "ternary": {
           "aaxis": {
            "gridcolor": "white",
            "linecolor": "white",
            "ticks": ""
           },
           "baxis": {
            "gridcolor": "white",
            "linecolor": "white",
            "ticks": ""
           },
           "bgcolor": "#E5ECF6",
           "caxis": {
            "gridcolor": "white",
            "linecolor": "white",
            "ticks": ""
           }
          },
          "title": {
           "x": 0.05
          },
          "xaxis": {
           "automargin": true,
           "gridcolor": "white",
           "linecolor": "white",
           "ticks": "",
           "title": {
            "standoff": 15
           },
           "zerolinecolor": "white",
           "zerolinewidth": 2
          },
          "yaxis": {
           "automargin": true,
           "gridcolor": "white",
           "linecolor": "white",
           "ticks": "",
           "title": {
            "standoff": 15
           },
           "zerolinecolor": "white",
           "zerolinewidth": 2
          }
         }
        },
        "xaxis": {
         "anchor": "y",
         "domain": [
          0,
          1
         ],
         "title": {
          "text": "TimeTo"
         }
        },
        "yaxis": {
         "anchor": "x",
         "domain": [
          0,
          1
         ],
         "title": {
          "text": "Total"
         }
        }
       }
      },
      "text/html": [
       "<div>\n",
       "        \n",
       "        \n",
       "            <div id=\"9acdde39-18d7-4025-afe5-59864870559b\" class=\"plotly-graph-div\" style=\"height:525px; width:100%;\"></div>\n",
       "            <script type=\"text/javascript\">\n",
       "                require([\"plotly\"], function(Plotly) {\n",
       "                    window.PLOTLYENV=window.PLOTLYENV || {};\n",
       "                    \n",
       "                if (document.getElementById(\"9acdde39-18d7-4025-afe5-59864870559b\")) {\n",
       "                    Plotly.newPlot(\n",
       "                        '9acdde39-18d7-4025-afe5-59864870559b',\n",
       "                        [{\"hovertemplate\": \"SiteName=235 A3-A35, Grenze CH-F<br>TimeTo=%{x}<br>Total=%{y}<extra></extra>\", \"legendgroup\": \"235 A3-A35, Grenze CH-F\", \"line\": {\"color\": \"#636efa\", \"dash\": \"solid\"}, \"mode\": \"lines\", \"name\": \"235 A3-A35, Grenze CH-F\", \"showlegend\": true, \"type\": \"scatter\", \"x\": [\"00:00\", \"01:00\", \"02:00\", \"03:00\", \"04:00\", \"05:00\", \"06:00\", \"07:00\", \"08:00\", \"09:00\", \"10:00\", \"11:00\", \"12:00\", \"13:00\", \"14:00\", \"15:00\", \"16:00\", \"17:00\", \"18:00\", \"19:00\", \"20:00\", \"21:00\", \"22:00\", \"23:00\"], \"xaxis\": \"x\", \"y\": [282.4932821497121, 163.63243761996162, 94.23608445297505, 68.74568138195778, 69.77975047984646, 88.43618042226487, 124.22984644913628, 201.5119961612284, 242.84596928982725, 333.9668905950096, 458.0225527831094, 583.9961612284069, 704.8829174664107, 792.8445297504799, 780.5978886756238, 982.5647792706334, 1268.3502879078694, 1761.6876199616122, 1685.2231285988485, 1372.0335892514395, 859.6290786948176, 566.1602687140115, 387.39251439539345, 415.5508637236085], \"yaxis\": \"y\"}, {\"hovertemplate\": \"SiteName=350 Dreirosenbr\\u00fccke lokal (mit Ein- Ausfahrten)<br>TimeTo=%{x}<br>Total=%{y}<extra></extra>\", \"legendgroup\": \"350 Dreirosenbr\\u00fccke lokal (mit Ein- Ausfahrten)\", \"line\": {\"color\": \"#EF553B\", \"dash\": \"solid\"}, \"mode\": \"lines\", \"name\": \"350 Dreirosenbr\\u00fccke lokal (mit Ein- Ausfahrten)\", \"showlegend\": true, \"type\": \"scatter\", \"x\": [\"00:00\", \"01:00\", \"02:00\", \"03:00\", \"04:00\", \"05:00\", \"06:00\", \"07:00\", \"08:00\", \"09:00\", \"10:00\", \"11:00\", \"12:00\", \"13:00\", \"14:00\", \"15:00\", \"16:00\", \"17:00\", \"18:00\", \"19:00\", \"20:00\", \"21:00\", \"22:00\", \"23:00\"], \"xaxis\": \"x\", \"y\": [83.35776524859047, 49.60891850333162, 29.16863147104049, 19.99846232701179, 22.617631983598155, 38.3264992311635, 110.92824192721682, 158.6663249615582, 184.19425935417735, 221.00922603792927, 248.51512045105073, 278.3946694003075, 316.5463864684777, 310.46847770374166, 321.0625320348539, 337.8370066632496, 363.47616606868274, 422.0912352639672, 413.97693490517685, 383.9543823680164, 273.3362378267555, 186.85699641209635, 142.68836494105588, 121.59149154279856], \"yaxis\": \"y\"}, {\"hovertemplate\": \"SiteName=352 Johanniterbr\\u00fccke<br>TimeTo=%{x}<br>Total=%{y}<extra></extra>\", \"legendgroup\": \"352 Johanniterbr\\u00fccke\", \"line\": {\"color\": \"#00cc96\", \"dash\": \"solid\"}, \"mode\": \"lines\", \"name\": \"352 Johanniterbr\\u00fccke\", \"showlegend\": true, \"type\": \"scatter\", \"x\": [\"00:00\", \"01:00\", \"02:00\", \"03:00\", \"04:00\", \"05:00\", \"06:00\", \"07:00\", \"08:00\", \"09:00\", \"10:00\", \"11:00\", \"12:00\", \"13:00\", \"14:00\", \"15:00\", \"16:00\", \"17:00\", \"18:00\", \"19:00\", \"20:00\", \"21:00\", \"22:00\", \"23:00\"], \"xaxis\": \"x\", \"y\": [130.40659988214497, 81.9263406010607, 56.49675898644667, 40.72539776075427, 34.37242192103712, 33.22215674720094, 66.87625220978197, 244.1302298173247, 362.7466116676488, 352.4802592810843, 351.347083087802, 366.9958750736594, 367.92928697701825, 339.7843252799057, 398.9911608721273, 419.9752504419564, 407.7601649970536, 439.26458456099, 432.8020035356511, 377.15733647613433, 292.05892751915144, 231.45374189746613, 200.28520919269297, 198.06364172068356], \"yaxis\": \"y\"}, {\"hovertemplate\": \"SiteName=354 Wettsteinbr\\u00fccke<br>TimeTo=%{x}<br>Total=%{y}<extra></extra>\", \"legendgroup\": \"354 Wettsteinbr\\u00fccke\", \"line\": {\"color\": \"#ab63fa\", \"dash\": \"solid\"}, \"mode\": \"lines\", \"name\": \"354 Wettsteinbr\\u00fccke\", \"showlegend\": true, \"type\": \"scatter\", \"x\": [\"00:00\", \"01:00\", \"02:00\", \"03:00\", \"04:00\", \"05:00\", \"06:00\", \"07:00\", \"08:00\", \"09:00\", \"10:00\", \"11:00\", \"12:00\", \"13:00\", \"14:00\", \"15:00\", \"16:00\", \"17:00\", \"18:00\", \"19:00\", \"20:00\", \"21:00\", \"22:00\", \"23:00\"], \"xaxis\": \"x\", \"y\": [186.03844182470527, 132.90671450538184, 101.01691440287033, 76.05330599692465, 63.236289082521786, 60.518708354689906, 85.27370579190159, 245.77088672475654, 424.5038441824705, 430.1768323936443, 410.53357252690927, 427.1491542798565, 428.3152229625833, 388.47924141465916, 462.58687852383395, 472.4218349564326, 475.2931829830856, 498.70015376729884, 482.6765761148129, 440.87339825730396, 365.59507944643775, 303.75294720656075, 273.36750384418247, 259.93029215786777], \"yaxis\": \"y\"}, {\"hovertemplate\": \"SiteName=401 Luzernerring-Br\\u00fccke<br>TimeTo=%{x}<br>Total=%{y}<extra></extra>\", \"legendgroup\": \"401 Luzernerring-Br\\u00fccke\", \"line\": {\"color\": \"#FFA15A\", \"dash\": \"solid\"}, \"mode\": \"lines\", \"name\": \"401 Luzernerring-Br\\u00fccke\", \"showlegend\": true, \"type\": \"scatter\", \"x\": [\"00:00\", \"01:00\", \"02:00\", \"03:00\", \"04:00\", \"05:00\", \"06:00\", \"07:00\", \"08:00\", \"09:00\", \"10:00\", \"11:00\", \"12:00\", \"13:00\", \"14:00\", \"15:00\", \"16:00\", \"17:00\", \"18:00\", \"19:00\", \"20:00\", \"21:00\", \"22:00\", \"23:00\"], \"xaxis\": \"x\", \"y\": [64.37668424135911, 39.05916813122437, 24.16051552431166, 17.12770943175161, 15.687170474516696, 21.96133567662566, 32.926186291739896, 93.26186291739894, 130.9642647920328, 141.18394844756884, 143.51552431165788, 158.6033977738723, 172.2214411247803, 159.58055067369654, 176.6174575278266, 187.94961921499706, 204.54130052724076, 233.71060339777387, 239.09021675454014, 216.0597539543058, 158.72407732864676, 122.88576449912127, 102.29759812536614, 93.94903339191565], \"yaxis\": \"y\"}, {\"hovertemplate\": \"SiteName=402 Hochbergerstrasse 55<br>TimeTo=%{x}<br>Total=%{y}<extra></extra>\", \"legendgroup\": \"402 Hochbergerstrasse 55\", \"line\": {\"color\": \"#19d3f3\", \"dash\": \"solid\"}, \"mode\": \"lines\", \"name\": \"402 Hochbergerstrasse 55\", \"showlegend\": true, \"type\": \"scatter\", \"x\": [\"00:00\", \"01:00\", \"02:00\", \"03:00\", \"04:00\", \"05:00\", \"06:00\", \"07:00\", \"08:00\", \"09:00\", \"10:00\", \"11:00\", \"12:00\", \"13:00\", \"14:00\", \"15:00\", \"16:00\", \"17:00\", \"18:00\", \"19:00\", \"20:00\", \"21:00\", \"22:00\", \"23:00\"], \"xaxis\": \"x\", \"y\": [141.7206457925636, 84.46575342465754, 50.776908023483365, 37.68199608610568, 32.086594911937375, 47.98140900195695, 110.70401174168298, 287.9001956947162, 386.5009784735812, 492.71086105675147, 542.2407045009785, 548.0122309197652, 596.3708414872798, 609.4461839530333, 593.926614481409, 633.9001956947162, 604.9310176125244, 599.293542074364, 601.4882583170254, 596.6125244618395, 501.61154598825834, 366.01027397260276, 268.86399217221134, 226.89334637964774], \"yaxis\": \"y\"}, {\"hovertemplate\": \"SiteName=403 Heuwaage-Viadukt<br>TimeTo=%{x}<br>Total=%{y}<extra></extra>\", \"legendgroup\": \"403 Heuwaage-Viadukt\", \"line\": {\"color\": \"#FF6692\", \"dash\": \"solid\"}, \"mode\": \"lines\", \"name\": \"403 Heuwaage-Viadukt\", \"showlegend\": true, \"type\": \"scatter\", \"x\": [\"00:00\", \"01:00\", \"02:00\", \"03:00\", \"04:00\", \"05:00\", \"06:00\", \"07:00\", \"08:00\", \"09:00\", \"10:00\", \"11:00\", \"12:00\", \"13:00\", \"14:00\", \"15:00\", \"16:00\", \"17:00\", \"18:00\", \"19:00\", \"20:00\", \"21:00\", \"22:00\", \"23:00\"], \"xaxis\": \"x\", \"y\": [105.19533111005241, 57.6522153406384, 37.78608861362554, 28.33635064316341, 26.022868032396378, 32.91424487851358, 80.83468318246784, 309.38875655073844, 383.1205335874226, 290.7065269175798, 248.1848499285374, 278.9614101953311, 312.15007146260126, 286.3406383992377, 290.945212005717, 309.6193425440686, 330.7722725107194, 392.43306336350645, 365.934730824202, 306.34969032872795, 222.2282039066222, 174.3096712720343, 153.35540733682706, 145.87374940447833], \"yaxis\": \"y\"}, {\"hovertemplate\": \"SiteName=404 Viaduktstrasse 60 (Rialto)<br>TimeTo=%{x}<br>Total=%{y}<extra></extra>\", \"legendgroup\": \"404 Viaduktstrasse 60 (Rialto)\", \"line\": {\"color\": \"#B6E880\", \"dash\": \"solid\"}, \"mode\": \"lines\", \"name\": \"404 Viaduktstrasse 60 (Rialto)\", \"showlegend\": true, \"type\": \"scatter\", \"x\": [\"00:00\", \"01:00\", \"02:00\", \"03:00\", \"04:00\", \"05:00\", \"06:00\", \"07:00\", \"08:00\", \"09:00\", \"10:00\", \"11:00\", \"12:00\", \"13:00\", \"14:00\", \"15:00\", \"16:00\", \"17:00\", \"18:00\", \"19:00\", \"20:00\", \"21:00\", \"22:00\", \"23:00\"], \"xaxis\": \"x\", \"y\": [90.11722488038278, 54.69712918660287, 34.47990430622009, 22.594736842105263, 18.553588516746412, 25.149282296650718, 38.50143540669856, 99.37607655502393, 151.54832535885168, 190.85167464114832, 209.8842105263158, 234.26794258373207, 253.37511961722487, 236.88995215311004, 256.86555023923444, 274.62535885167466, 287.2334928229665, 332.8047846889952, 361.2803827751196, 316.96555023923446, 224.0866028708134, 166.29808612440192, 142.51913875598086, 136.1047846889952], \"yaxis\": \"y\"}, {\"hovertemplate\": \"SiteName=405 Dorenbachviadukt<br>TimeTo=%{x}<br>Total=%{y}<extra></extra>\", \"legendgroup\": \"405 Dorenbachviadukt\", \"line\": {\"color\": \"#FF97FF\", \"dash\": \"solid\"}, \"mode\": \"lines\", \"name\": \"405 Dorenbachviadukt\", \"showlegend\": true, \"type\": \"scatter\", \"x\": [\"00:00\", \"01:00\", \"02:00\", \"03:00\", \"04:00\", \"05:00\", \"06:00\", \"07:00\", \"08:00\", \"09:00\", \"10:00\", \"11:00\", \"12:00\", \"13:00\", \"14:00\", \"15:00\", \"16:00\", \"17:00\", \"18:00\", \"19:00\", \"20:00\", \"21:00\", \"22:00\", \"23:00\"], \"xaxis\": \"x\", \"y\": [136.6686956521739, 78.28, 45.00608695652174, 27.54, 27.351304347826087, 32.05304347826087, 62.19913043478261, 207.92521739130436, 341.21391304347827, 365.32695652173913, 382.9573913043478, 431.29304347826087, 483.8373913043478, 466.2182608695652, 483.98434782608695, 502.9017391304348, 528.9408695652174, 591.0930434782608, 577.22, 565.9686956521739, 442.5521739130435, 336.44260869565215, 270.90956521739133, 222.67652173913044], \"yaxis\": \"y\"}, {\"hovertemplate\": \"SiteName=406 Wasgenring 62<br>TimeTo=%{x}<br>Total=%{y}<extra></extra>\", \"legendgroup\": \"406 Wasgenring 62\", \"line\": {\"color\": \"#FECB52\", \"dash\": \"solid\"}, \"mode\": \"lines\", \"name\": \"406 Wasgenring 62\", \"showlegend\": true, \"type\": \"scatter\", \"x\": [\"00:00\", \"01:00\", \"02:00\", \"03:00\", \"04:00\", \"05:00\", \"06:00\", \"07:00\", \"08:00\", \"09:00\", \"10:00\", \"11:00\", \"12:00\", \"13:00\", \"14:00\", \"15:00\", \"16:00\", \"17:00\", \"18:00\", \"19:00\", \"20:00\", \"21:00\", \"22:00\", \"23:00\"], \"xaxis\": \"x\", \"y\": [118.76544401544402, 69.02364864864865, 40.63175675675676, 26.263030888030887, 24.76158301158301, 56.914092664092664, 113.90250965250965, 234.46862934362935, 363.8769305019305, 448.0468146718147, 480.72972972972974, 504.7833011583012, 530.1718146718147, 496.8161196911197, 534.4739382239383, 556.730694980695, 551.6201737451737, 572.3851351351351, 564.1742277992278, 545.8185328185328, 401.4560810810811, 294.1703667953668, 225.13320463320463, 198.84314671814673], \"yaxis\": \"y\"}, {\"hovertemplate\": \"SiteName=407 \\u00c4ussere Baselstrasse 381 (Riehen)<br>TimeTo=%{x}<br>Total=%{y}<extra></extra>\", \"legendgroup\": \"407 \\u00c4ussere Baselstrasse 381 (Riehen)\", \"line\": {\"color\": \"#636efa\", \"dash\": \"solid\"}, \"mode\": \"lines\", \"name\": \"407 \\u00c4ussere Baselstrasse 381 (Riehen)\", \"showlegend\": true, \"type\": \"scatter\", \"x\": [\"00:00\", \"01:00\", \"02:00\", \"03:00\", \"04:00\", \"05:00\", \"06:00\", \"07:00\", \"08:00\", \"09:00\", \"10:00\", \"11:00\", \"12:00\", \"13:00\", \"14:00\", \"15:00\", \"16:00\", \"17:00\", \"18:00\", \"19:00\", \"20:00\", \"21:00\", \"22:00\", \"23:00\"], \"xaxis\": \"x\", \"y\": [74.61538461538461, 43.05128205128205, 25.450742240215924, 16.979757085020243, 16.190283400809715, 29.887989203778677, 66.78879892037787, 209.11336032388664, 313.03036437246965, 316.79487179487177, 277.29487179487177, 279.140350877193, 301.65587044534414, 286.3529014844804, 312.7874493927126, 336.69635627530363, 339.1221322537112, 368.6302294197031, 329.5195681511471, 288.4197031039136, 230.35155195681511, 176.778677462888, 152.71727395411605, 129.33670715249661], \"yaxis\": \"y\"}, {\"hovertemplate\": \"SiteName=408 B\\u00e4umlihofstrasse (Riehen)<br>TimeTo=%{x}<br>Total=%{y}<extra></extra>\", \"legendgroup\": \"408 B\\u00e4umlihofstrasse (Riehen)\", \"line\": {\"color\": \"#EF553B\", \"dash\": \"solid\"}, \"mode\": \"lines\", \"name\": \"408 B\\u00e4umlihofstrasse (Riehen)\", \"showlegend\": true, \"type\": \"scatter\", \"x\": [\"00:00\", \"01:00\", \"02:00\", \"03:00\", \"04:00\", \"05:00\", \"06:00\", \"07:00\", \"08:00\", \"09:00\", \"10:00\", \"11:00\", \"12:00\", \"13:00\", \"14:00\", \"15:00\", \"16:00\", \"17:00\", \"18:00\", \"19:00\", \"20:00\", \"21:00\", \"22:00\", \"23:00\"], \"xaxis\": \"x\", \"y\": [55.30958482829318, 33.47104049205536, 18.7109174782163, 14.95643259866735, 21.871348026653, 38.702203997949766, 96.15581752947206, 241.85289595079448, 328.3362378267555, 306.75961045617635, 285.1506919528447, 293.0927729369554, 308.6709379805228, 287.36596617119426, 319.7098923628908, 323.7883136852896, 322.75089697590977, 340.09174782162995, 316.15120451050745, 276.8826242952332, 206.87852383393133, 150.17324449000512, 122.39620707329574, 97.62993336750384], \"yaxis\": \"y\"}, {\"hovertemplate\": \"SiteName=409 Grenzacherstrasse 511<br>TimeTo=%{x}<br>Total=%{y}<extra></extra>\", \"legendgroup\": \"409 Grenzacherstrasse 511\", \"line\": {\"color\": \"#00cc96\", \"dash\": \"solid\"}, \"mode\": \"lines\", \"name\": \"409 Grenzacherstrasse 511\", \"showlegend\": true, \"type\": \"scatter\", \"x\": [\"00:00\", \"01:00\", \"02:00\", \"03:00\", \"04:00\", \"05:00\", \"06:00\", \"07:00\", \"08:00\", \"09:00\", \"10:00\", \"11:00\", \"12:00\", \"13:00\", \"14:00\", \"15:00\", \"16:00\", \"17:00\", \"18:00\", \"19:00\", \"20:00\", \"21:00\", \"22:00\", \"23:00\"], \"xaxis\": \"x\", \"y\": [95.18628571428572, 55.46514285714286, 29.982285714285716, 20.672, 22.76, 57.35257142857143, 195.808, 528.0245714285714, 688.0702857142857, 574.868, 527.2011428571428, 558.7982857142857, 574.9354285714286, 546.6342857142857, 608.5605714285714, 630.8291428571429, 643.2348571428571, 662.3051428571429, 591.7434285714286, 501.188, 385.4188571428571, 276.13314285714284, 219.15714285714284, 164.47714285714287], \"yaxis\": \"y\"}, {\"hovertemplate\": \"SiteName=410 St. Alban-Anlage 72<br>TimeTo=%{x}<br>Total=%{y}<extra></extra>\", \"legendgroup\": \"410 St. Alban-Anlage 72\", \"line\": {\"color\": \"#ab63fa\", \"dash\": \"solid\"}, \"mode\": \"lines\", \"name\": \"410 St. Alban-Anlage 72\", \"showlegend\": true, \"type\": \"scatter\", \"x\": [\"00:00\", \"01:00\", \"02:00\", \"03:00\", \"04:00\", \"05:00\", \"06:00\", \"07:00\", \"08:00\", \"09:00\", \"10:00\", \"11:00\", \"12:00\", \"13:00\", \"14:00\", \"15:00\", \"16:00\", \"17:00\", \"18:00\", \"19:00\", \"20:00\", \"21:00\", \"22:00\", \"23:00\"], \"xaxis\": \"x\", \"y\": [61.493197278911566, 39.637026239067055, 26.472303206997086, 19.04907677356657, 17.24198250728863, 22.68901846452867, 52.701166180758015, 184.3600583090379, 420.7040816326531, 432.8867832847425, 303.287657920311, 277.97667638483966, 274.0568513119534, 251.1078717201166, 309.7716229348882, 296.2973760932945, 285.04373177842564, 297.9028182701652, 310.6438289601555, 263.70942662779396, 195.0874635568513, 142.6627793974733, 112.31292517006803, 96.05199222546162], \"yaxis\": \"y\"}, {\"hovertemplate\": \"SiteName=411 Fasanenstrasse (DB-Br\\u00fccke)<br>TimeTo=%{x}<br>Total=%{y}<extra></extra>\", \"legendgroup\": \"411 Fasanenstrasse (DB-Br\\u00fccke)\", \"line\": {\"color\": \"#FFA15A\", \"dash\": \"solid\"}, \"mode\": \"lines\", \"name\": \"411 Fasanenstrasse (DB-Br\\u00fccke)\", \"showlegend\": true, \"type\": \"scatter\", \"x\": [\"00:00\", \"01:00\", \"02:00\", \"03:00\", \"04:00\", \"05:00\", \"06:00\", \"07:00\", \"08:00\", \"09:00\", \"10:00\", \"11:00\", \"12:00\", \"13:00\", \"14:00\", \"15:00\", \"16:00\", \"17:00\", \"18:00\", \"19:00\", \"20:00\", \"21:00\", \"22:00\", \"23:00\"], \"xaxis\": \"x\", \"y\": [38.783551967709386, 20.418264379414733, 11.955600403632694, 8.15640766902119, 7.159939455095863, 10.535317860746721, 34.05751765893037, 129.59434914228052, 147.2063572149344, 136.79717457114026, 133.10141271442987, 147.59182643794148, 160.66700302724522, 156.84611503531787, 166.06407669021192, 171.7643794147326, 177.32996972754793, 211.35469223007064, 224.77699293642786, 182.3486377396569, 122.86377396569122, 86.49798183652877, 66.57517658930374, 61.476791120080726], \"yaxis\": \"y\"}, {\"hovertemplate\": \"SiteName=412 Dornacherstrasse 49<br>TimeTo=%{x}<br>Total=%{y}<extra></extra>\", \"legendgroup\": \"412 Dornacherstrasse 49\", \"line\": {\"color\": \"#19d3f3\", \"dash\": \"solid\"}, \"mode\": \"lines\", \"name\": \"412 Dornacherstrasse 49\", \"showlegend\": true, \"type\": \"scatter\", \"x\": [\"00:00\", \"01:00\", \"02:00\", \"03:00\", \"04:00\", \"05:00\", \"06:00\", \"07:00\", \"08:00\", \"09:00\", \"10:00\", \"11:00\", \"12:00\", \"13:00\", \"14:00\", \"15:00\", \"16:00\", \"17:00\", \"18:00\", \"19:00\", \"20:00\", \"21:00\", \"22:00\", \"23:00\"], \"xaxis\": \"x\", \"y\": [77.00150300601203, 44.942384769539075, 28.291082164328657, 19.28056112224449, 17.441382765531063, 21.104208416833668, 35.69088176352705, 148.90781563126254, 268.435871743487, 275.6828657314629, 296.4689378757515, 331.6838677354709, 366.77254509018036, 338.2945891783567, 369.63276553106215, 383.47795591182364, 395.82715430861725, 468.25350701402806, 463.23597194388776, 398.74498997995994, 289.47895791583164, 222.23547094188376, 172.18436873747495, 130.81462925851704], \"yaxis\": \"y\"}, {\"hovertemplate\": \"SiteName=413 Gundeldingerstrasse 107<br>TimeTo=%{x}<br>Total=%{y}<extra></extra>\", \"legendgroup\": \"413 Gundeldingerstrasse 107\", \"line\": {\"color\": \"#FF6692\", \"dash\": \"solid\"}, \"mode\": \"lines\", \"name\": \"413 Gundeldingerstrasse 107\", \"showlegend\": true, \"type\": \"scatter\", \"x\": [\"00:00\", \"01:00\", \"02:00\", \"03:00\", \"04:00\", \"05:00\", \"06:00\", \"07:00\", \"08:00\", \"09:00\", \"10:00\", \"11:00\", \"12:00\", \"13:00\", \"14:00\", \"15:00\", \"16:00\", \"17:00\", \"18:00\", \"19:00\", \"20:00\", \"21:00\", \"22:00\", \"23:00\"], \"xaxis\": \"x\", \"y\": [94.24450127877238, 53.14066496163683, 32.021994884910484, 24.406649616368288, 23.915601023017903, 42.298721227621485, 97.99693094629156, 343.69718670076725, 440.76572890025574, 410.3928388746803, 385.6690537084399, 400.4690537084399, 423.3611253196931, 385.3744245524297, 436.22915601023016, 449.9514066496164, 437.96419437340154, 478.1964194373401, 494.83580562659847, 405.1488491048593, 296.74219948849105, 213.03631713554987, 180.9856777493606, 146.70281329923273], \"yaxis\": \"y\"}, {\"hovertemplate\": \"SiteName=415 Grosspeterstrasse 45<br>TimeTo=%{x}<br>Total=%{y}<extra></extra>\", \"legendgroup\": \"415 Grosspeterstrasse 45\", \"line\": {\"color\": \"#B6E880\", \"dash\": \"solid\"}, \"mode\": \"lines\", \"name\": \"415 Grosspeterstrasse 45\", \"showlegend\": true, \"type\": \"scatter\", \"x\": [\"00:00\", \"01:00\", \"02:00\", \"03:00\", \"04:00\", \"05:00\", \"06:00\", \"07:00\", \"08:00\", \"09:00\", \"10:00\", \"11:00\", \"12:00\", \"13:00\", \"14:00\", \"15:00\", \"16:00\", \"17:00\", \"18:00\", \"19:00\", \"20:00\", \"21:00\", \"22:00\", \"23:00\"], \"xaxis\": \"x\", \"y\": [165.77405405405406, 95.5518918918919, 56.406486486486486, 37.542162162162164, 32.056216216216214, 41.380540540540544, 102.91351351351351, 357.45243243243243, 540.9297297297297, 509.11675675675673, 473.48594594594596, 526.505945945946, 611.6913513513514, 594.0216216216216, 613.207027027027, 640.714054054054, 685.367027027027, 825.32, 831.0675675675676, 681.2713513513513, 458.9286486486487, 339.3410810810811, 269.7940540540541, 248.43243243243242], \"yaxis\": \"y\"}, {\"hovertemplate\": \"SiteName=416 J. Burckhardt-Strasse 85 (2-spurig bis Mai 2016)<br>TimeTo=%{x}<br>Total=%{y}<extra></extra>\", \"legendgroup\": \"416 J. Burckhardt-Strasse 85 (2-spurig bis Mai 2016)\", \"line\": {\"color\": \"#FF97FF\", \"dash\": \"solid\"}, \"mode\": \"lines\", \"name\": \"416 J. Burckhardt-Strasse 85 (2-spurig bis Mai 2016)\", \"showlegend\": true, \"type\": \"scatter\", \"x\": [\"00:00\", \"01:00\", \"02:00\", \"03:00\", \"04:00\", \"05:00\", \"06:00\", \"07:00\", \"08:00\", \"09:00\", \"10:00\", \"11:00\", \"12:00\", \"13:00\", \"14:00\", \"15:00\", \"16:00\", \"17:00\", \"18:00\", \"19:00\", \"20:00\", \"21:00\", \"22:00\", \"23:00\"], \"xaxis\": \"x\", \"y\": [33.37068965517241, 22.426724137931036, 17.43103448275862, 13.161637931034482, 12.601293103448276, 14.375, 20.07758620689655, 71.69396551724138, 180.3405172413793, 189.09913793103448, 152.2176724137931, 153.60129310344828, 162.8706896551724, 155.51077586206895, 181.20043103448276, 173.0301724137931, 173.86206896551724, 205.64439655172413, 216.9698275862069, 169.20043103448276, 115.87931034482759, 79.68103448275862, 62.2823275862069, 51.12068965517241], \"yaxis\": \"y\"}, {\"hovertemplate\": \"SiteName=419 Riehenring 120<br>TimeTo=%{x}<br>Total=%{y}<extra></extra>\", \"legendgroup\": \"419 Riehenring 120\", \"line\": {\"color\": \"#FECB52\", \"dash\": \"solid\"}, \"mode\": \"lines\", \"name\": \"419 Riehenring 120\", \"showlegend\": true, \"type\": \"scatter\", \"x\": [\"00:00\", \"01:00\", \"02:00\", \"03:00\", \"04:00\", \"05:00\", \"06:00\", \"07:00\", \"08:00\", \"09:00\", \"10:00\", \"11:00\", \"12:00\", \"13:00\", \"14:00\", \"15:00\", \"16:00\", \"17:00\", \"18:00\", \"19:00\", \"20:00\", \"21:00\", \"22:00\", \"23:00\"], \"xaxis\": \"x\", \"y\": [120.31387559808613, 82.23349282296651, 58.415789473684214, 42.38564593301435, 35.25885167464115, 37.32153110047847, 49.84354066985646, 97.12392344497607, 162.4555023923445, 211.5535885167464, 226.3622009569378, 251.90287081339713, 277.44736842105266, 263.1842105263158, 276.2311004784689, 306.65406698564595, 316.566985645933, 353.2377990430622, 358.74976076555026, 333.83301435406696, 256.0732057416268, 209.25693779904307, 170.71913875598085, 160.9023923444976], \"yaxis\": \"y\"}, {\"hovertemplate\": \"SiteName=420 Nauenstrasse 73<br>TimeTo=%{x}<br>Total=%{y}<extra></extra>\", \"legendgroup\": \"420 Nauenstrasse 73\", \"line\": {\"color\": \"#636efa\", \"dash\": \"solid\"}, \"mode\": \"lines\", \"name\": \"420 Nauenstrasse 73\", \"showlegend\": true, \"type\": \"scatter\", \"x\": [\"00:00\", \"01:00\", \"02:00\", \"03:00\", \"04:00\", \"05:00\", \"06:00\", \"07:00\", \"08:00\", \"09:00\", \"10:00\", \"11:00\", \"12:00\", \"13:00\", \"14:00\", \"15:00\", \"16:00\", \"17:00\", \"18:00\", \"19:00\", \"20:00\", \"21:00\", \"22:00\", \"23:00\"], \"xaxis\": \"x\", \"y\": [149.3714423540762, 84.96092619392185, 49.12638687891944, 33.51326579835987, 27.920887602508444, 33.73275446213218, 87.81524360829715, 319.46068499758803, 430.4626145682586, 380.8359864930053, 351.9561022672455, 399.301013024602, 430.3709599614086, 431.1731789676797, 469.1259044862518, 490.1485769416305, 519.9025566811384, 570.425470332851, 554.9937288953208, 493.9715388326097, 353.85045827303423, 268.6193921852388, 229.45441389290883, 214.30873130728412], \"yaxis\": \"y\"}, {\"hovertemplate\": \"SiteName=651 Entenweidstrasse 74<br>TimeTo=%{x}<br>Total=%{y}<extra></extra>\", \"legendgroup\": \"651 Entenweidstrasse 74\", \"line\": {\"color\": \"#EF553B\", \"dash\": \"solid\"}, \"mode\": \"lines\", \"name\": \"651 Entenweidstrasse 74\", \"showlegend\": true, \"type\": \"scatter\", \"x\": [\"00:00\", \"01:00\", \"02:00\", \"03:00\", \"04:00\", \"05:00\", \"06:00\", \"07:00\", \"08:00\", \"09:00\", \"10:00\", \"11:00\", \"12:00\", \"13:00\", \"14:00\", \"15:00\", \"16:00\", \"17:00\", \"18:00\", \"19:00\", \"20:00\", \"21:00\", \"22:00\", \"23:00\"], \"xaxis\": \"x\", \"y\": [34.89837786259542, 22.310114503816795, 13.908396946564885, 9.529580152671755, 7.866889312977099, 10.315362595419847, 16.936545801526716, 57.24713740458015, 82.6006679389313, 90.52671755725191, 83.44704198473282, 89.97137404580153, 107.60591603053435, 100.5114503816794, 104.45801526717557, 104.80343511450381, 113.38120229007633, 134.45276717557252, 149.7070610687023, 130.8458969465649, 97.0682251908397, 78.54437022900764, 62.42986641221374, 50.79246183206107], \"yaxis\": \"y\"}, {\"hovertemplate\": \"SiteName=653 Flughafenstrasse 30<br>TimeTo=%{x}<br>Total=%{y}<extra></extra>\", \"legendgroup\": \"653 Flughafenstrasse 30\", \"line\": {\"color\": \"#00cc96\", \"dash\": \"solid\"}, \"mode\": \"lines\", \"name\": \"653 Flughafenstrasse 30\", \"showlegend\": true, \"type\": \"scatter\", \"x\": [\"00:00\", \"01:00\", \"02:00\", \"03:00\", \"04:00\", \"05:00\", \"06:00\", \"07:00\", \"08:00\", \"09:00\", \"10:00\", \"11:00\", \"12:00\", \"13:00\", \"14:00\", \"15:00\", \"16:00\", \"17:00\", \"18:00\", \"19:00\", \"20:00\", \"21:00\", \"22:00\", \"23:00\"], \"xaxis\": \"x\", \"y\": [103.72858672376874, 56.58244111349036, 32.636509635974306, 21.862419700214133, 19.124197002141326, 37.145610278372594, 67.21520342612419, 120.29710920770879, 163.7789079229122, 197.04496788008566, 198.1836188436831, 219.01927194860815, 246.80139186295503, 228.71038543897217, 242.52944325481798, 288.2944325481799, 312.0155246252677, 419.4400428265525, 403.673982869379, 324.7997858672377, 208.8634903640257, 157.21306209850107, 129.8891862955032, 142.48875802997858], \"yaxis\": \"y\"}, {\"hovertemplate\": \"SiteName=659 Schlachthofstrasse<br>TimeTo=%{x}<br>Total=%{y}<extra></extra>\", \"legendgroup\": \"659 Schlachthofstrasse\", \"line\": {\"color\": \"#ab63fa\", \"dash\": \"solid\"}, \"mode\": \"lines\", \"name\": \"659 Schlachthofstrasse\", \"showlegend\": true, \"type\": \"scatter\", \"x\": [\"00:00\", \"01:00\", \"02:00\", \"03:00\", \"04:00\", \"05:00\", \"06:00\", \"07:00\", \"08:00\", \"09:00\", \"10:00\", \"11:00\", \"12:00\", \"13:00\", \"14:00\", \"15:00\", \"16:00\", \"17:00\", \"18:00\", \"19:00\", \"20:00\", \"21:00\", \"22:00\", \"23:00\"], \"xaxis\": \"x\", \"y\": [45.339853300733495, 26.84449877750611, 16.700733496332518, 14.040097799511003, 21.148166259168704, 74.96332518337408, 164.78826405867972, 312.05427872860633, 253.4919315403423, 237.60537897310513, 203.90073349633252, 202.21124694376527, 220.3838630806846, 214.24547677261614, 243.98924205378972, 251.04889975550122, 297.59511002444987, 355.07432762836186, 335.51687041564793, 276.31002444987774, 167.61907090464547, 108.48459657701711, 81.9437652811736, 75.35696821515893], \"yaxis\": \"y\"}, {\"hovertemplate\": \"SiteName=660 Flughafenstrasse, Grenze CH-F<br>TimeTo=%{x}<br>Total=%{y}<extra></extra>\", \"legendgroup\": \"660 Flughafenstrasse, Grenze CH-F\", \"line\": {\"color\": \"#FFA15A\", \"dash\": \"solid\"}, \"mode\": \"lines\", \"name\": \"660 Flughafenstrasse, Grenze CH-F\", \"showlegend\": true, \"type\": \"scatter\", \"x\": [\"00:00\", \"01:00\", \"02:00\", \"03:00\", \"04:00\", \"05:00\", \"06:00\", \"07:00\", \"08:00\", \"09:00\", \"10:00\", \"11:00\", \"12:00\", \"13:00\", \"14:00\", \"15:00\", \"16:00\", \"17:00\", \"18:00\", \"19:00\", \"20:00\", \"21:00\", \"22:00\", \"23:00\"], \"xaxis\": \"x\", \"y\": [60.48918387413963, 12.9031465093412, 5.522615535889872, 6.311209439528024, 36.50737463126843, 220.8574237954769, 290.4095378564405, 242.58210422812192, 330.0899705014749, 379.5, 336.93756145526055, 306.2005899705015, 291.50639134709934, 292.7733529990167, 322.7025565388397, 304.6071779744346, 300.72418879056045, 294.53834808259586, 276.2645034414946, 242.3259587020649, 227.4567354965585, 199.6819075712881, 176.82645034414946, 186.64700098328416], \"yaxis\": \"y\"}, {\"hovertemplate\": \"SiteName=670 Zoll CH-D, Hiltalingerstrasse<br>TimeTo=%{x}<br>Total=%{y}<extra></extra>\", \"legendgroup\": \"670 Zoll CH-D, Hiltalingerstrasse\", \"line\": {\"color\": \"#19d3f3\", \"dash\": \"solid\"}, \"mode\": \"lines\", \"name\": \"670 Zoll CH-D, Hiltalingerstrasse\", \"showlegend\": true, \"type\": \"scatter\", \"x\": [\"00:00\", \"01:00\", \"02:00\", \"03:00\", \"04:00\", \"05:00\", \"06:00\", \"07:00\", \"08:00\", \"09:00\", \"10:00\", \"11:00\", \"12:00\", \"13:00\", \"14:00\", \"15:00\", \"16:00\", \"17:00\", \"18:00\", \"19:00\", \"20:00\", \"21:00\", \"22:00\", \"23:00\"], \"xaxis\": \"x\", \"y\": [127.70641169853768, 80.28571428571429, 55.32170978627671, 29.65523059617548, 20.859955005624297, 31.00562429696288, 79.37457817772778, 253.93475815523058, 267.9201349831271, 217.22553430821148, 256.69010123734535, 316.50224971878515, 353.9268841394826, 373.5326209223847, 387.27784026996625, 379.1164229471316, 397.2885264341957, 392.7114735658043, 382.92575928009, 373.60404949381325, 375.4758155230596, 371.7474690663667, 290.56749156355454, 236.1586051743532], \"yaxis\": \"y\"}, {\"hovertemplate\": \"SiteName=671 Zoll CH-D, Freiburgerstrasse<br>TimeTo=%{x}<br>Total=%{y}<extra></extra>\", \"legendgroup\": \"671 Zoll CH-D, Freiburgerstrasse\", \"line\": {\"color\": \"#FF6692\", \"dash\": \"solid\"}, \"mode\": \"lines\", \"name\": \"671 Zoll CH-D, Freiburgerstrasse\", \"showlegend\": true, \"type\": \"scatter\", \"x\": [\"00:00\", \"01:00\", \"02:00\", \"03:00\", \"04:00\", \"05:00\", \"06:00\", \"07:00\", \"08:00\", \"09:00\", \"10:00\", \"11:00\", \"12:00\", \"13:00\", \"14:00\", \"15:00\", \"16:00\", \"17:00\", \"18:00\", \"19:00\", \"20:00\", \"21:00\", \"22:00\", \"23:00\"], \"xaxis\": \"x\", \"y\": [161.5920041004613, 92.67042542286008, 47.44028703229113, 34.579702716555616, 35.457713992824196, 78.31573552024602, 238.22193746796515, 582.982573039467, 636.5822655048693, 515.308047155305, 414.1788826242952, 452.8892875448488, 461.502819067145, 479.70732957457716, 517.6888774987186, 497.1609431060994, 485.14710404920555, 479.7580727831881, 479.8785238339313, 478.8928754484879, 454.9569451563301, 394.8298308559713, 326.0374167093798, 260.1783700666325], \"yaxis\": \"y\"}, {\"hovertemplate\": \"SiteName=672 Zoll CH-D, Weilstrasse<br>TimeTo=%{x}<br>Total=%{y}<extra></extra>\", \"legendgroup\": \"672 Zoll CH-D, Weilstrasse\", \"line\": {\"color\": \"#B6E880\", \"dash\": \"solid\"}, \"mode\": \"lines\", \"name\": \"672 Zoll CH-D, Weilstrasse\", \"showlegend\": true, \"type\": \"scatter\", \"x\": [\"00:00\", \"01:00\", \"02:00\", \"03:00\", \"04:00\", \"05:00\", \"06:00\", \"07:00\", \"08:00\", \"09:00\", \"10:00\", \"11:00\", \"12:00\", \"13:00\", \"14:00\", \"15:00\", \"16:00\", \"17:00\", \"18:00\", \"19:00\", \"20:00\", \"21:00\", \"22:00\", \"23:00\"], \"xaxis\": \"x\", \"y\": [24.664481525625746, 13.969606674612635, 7.222288438617402, 4.642431466030989, 4.1758045292014305, 8.045887961859357, 26.80870083432658, 61.646603098927294, 121.49284862932062, 138.68295589988082, 137.67282479141835, 149.04112038140644, 166.9994040524434, 171.94755661501787, 163.14839094159714, 179.3617401668653, 182.33849821215733, 202.29916567342073, 205.74433849821216, 168.81585220500597, 117.70977353992849, 73.64183551847438, 54.9761620977354, 43.598331346841476], \"yaxis\": \"y\"}],\n",
       "                        {\"legend\": {\"title\": {\"text\": \"SiteName\"}, \"tracegroupgap\": 0}, \"margin\": {\"t\": 60}, \"template\": {\"data\": {\"bar\": [{\"error_x\": {\"color\": \"#2a3f5f\"}, \"error_y\": {\"color\": \"#2a3f5f\"}, \"marker\": {\"line\": {\"color\": \"#E5ECF6\", \"width\": 0.5}}, \"type\": \"bar\"}], \"barpolar\": [{\"marker\": {\"line\": {\"color\": \"#E5ECF6\", \"width\": 0.5}}, \"type\": \"barpolar\"}], \"carpet\": [{\"aaxis\": {\"endlinecolor\": \"#2a3f5f\", \"gridcolor\": \"white\", \"linecolor\": \"white\", \"minorgridcolor\": \"white\", \"startlinecolor\": \"#2a3f5f\"}, \"baxis\": {\"endlinecolor\": \"#2a3f5f\", \"gridcolor\": \"white\", \"linecolor\": \"white\", \"minorgridcolor\": \"white\", \"startlinecolor\": \"#2a3f5f\"}, \"type\": \"carpet\"}], \"choropleth\": [{\"colorbar\": {\"outlinewidth\": 0, \"ticks\": \"\"}, \"type\": \"choropleth\"}], \"contour\": [{\"colorbar\": {\"outlinewidth\": 0, \"ticks\": \"\"}, \"colorscale\": [[0.0, \"#0d0887\"], [0.1111111111111111, \"#46039f\"], [0.2222222222222222, \"#7201a8\"], [0.3333333333333333, \"#9c179e\"], [0.4444444444444444, \"#bd3786\"], [0.5555555555555556, \"#d8576b\"], [0.6666666666666666, \"#ed7953\"], [0.7777777777777778, \"#fb9f3a\"], [0.8888888888888888, \"#fdca26\"], [1.0, \"#f0f921\"]], \"type\": \"contour\"}], \"contourcarpet\": [{\"colorbar\": {\"outlinewidth\": 0, \"ticks\": \"\"}, \"type\": \"contourcarpet\"}], \"heatmap\": [{\"colorbar\": {\"outlinewidth\": 0, \"ticks\": \"\"}, \"colorscale\": [[0.0, \"#0d0887\"], [0.1111111111111111, \"#46039f\"], [0.2222222222222222, \"#7201a8\"], [0.3333333333333333, \"#9c179e\"], [0.4444444444444444, \"#bd3786\"], [0.5555555555555556, \"#d8576b\"], [0.6666666666666666, \"#ed7953\"], [0.7777777777777778, \"#fb9f3a\"], [0.8888888888888888, \"#fdca26\"], [1.0, \"#f0f921\"]], \"type\": \"heatmap\"}], \"heatmapgl\": [{\"colorbar\": {\"outlinewidth\": 0, \"ticks\": \"\"}, \"colorscale\": [[0.0, \"#0d0887\"], [0.1111111111111111, \"#46039f\"], [0.2222222222222222, \"#7201a8\"], [0.3333333333333333, \"#9c179e\"], [0.4444444444444444, \"#bd3786\"], [0.5555555555555556, \"#d8576b\"], [0.6666666666666666, \"#ed7953\"], [0.7777777777777778, \"#fb9f3a\"], [0.8888888888888888, \"#fdca26\"], [1.0, \"#f0f921\"]], \"type\": \"heatmapgl\"}], \"histogram\": [{\"marker\": {\"colorbar\": {\"outlinewidth\": 0, \"ticks\": \"\"}}, \"type\": \"histogram\"}], \"histogram2d\": [{\"colorbar\": {\"outlinewidth\": 0, \"ticks\": \"\"}, \"colorscale\": [[0.0, \"#0d0887\"], [0.1111111111111111, \"#46039f\"], [0.2222222222222222, \"#7201a8\"], [0.3333333333333333, \"#9c179e\"], [0.4444444444444444, \"#bd3786\"], [0.5555555555555556, \"#d8576b\"], [0.6666666666666666, \"#ed7953\"], [0.7777777777777778, \"#fb9f3a\"], [0.8888888888888888, \"#fdca26\"], [1.0, \"#f0f921\"]], \"type\": \"histogram2d\"}], \"histogram2dcontour\": [{\"colorbar\": {\"outlinewidth\": 0, \"ticks\": \"\"}, \"colorscale\": [[0.0, \"#0d0887\"], [0.1111111111111111, \"#46039f\"], [0.2222222222222222, \"#7201a8\"], [0.3333333333333333, \"#9c179e\"], [0.4444444444444444, \"#bd3786\"], [0.5555555555555556, \"#d8576b\"], [0.6666666666666666, \"#ed7953\"], [0.7777777777777778, \"#fb9f3a\"], [0.8888888888888888, \"#fdca26\"], [1.0, \"#f0f921\"]], \"type\": \"histogram2dcontour\"}], \"mesh3d\": [{\"colorbar\": {\"outlinewidth\": 0, \"ticks\": \"\"}, \"type\": \"mesh3d\"}], \"parcoords\": [{\"line\": {\"colorbar\": {\"outlinewidth\": 0, \"ticks\": \"\"}}, \"type\": \"parcoords\"}], \"pie\": [{\"automargin\": true, \"type\": \"pie\"}], \"scatter\": [{\"marker\": {\"colorbar\": {\"outlinewidth\": 0, \"ticks\": \"\"}}, \"type\": \"scatter\"}], \"scatter3d\": [{\"line\": {\"colorbar\": {\"outlinewidth\": 0, \"ticks\": \"\"}}, \"marker\": {\"colorbar\": {\"outlinewidth\": 0, \"ticks\": \"\"}}, \"type\": \"scatter3d\"}], \"scattercarpet\": [{\"marker\": {\"colorbar\": {\"outlinewidth\": 0, \"ticks\": \"\"}}, \"type\": \"scattercarpet\"}], \"scattergeo\": [{\"marker\": {\"colorbar\": {\"outlinewidth\": 0, \"ticks\": \"\"}}, \"type\": \"scattergeo\"}], \"scattergl\": [{\"marker\": {\"colorbar\": {\"outlinewidth\": 0, \"ticks\": \"\"}}, \"type\": \"scattergl\"}], \"scattermapbox\": [{\"marker\": {\"colorbar\": {\"outlinewidth\": 0, \"ticks\": \"\"}}, \"type\": \"scattermapbox\"}], \"scatterpolar\": [{\"marker\": {\"colorbar\": {\"outlinewidth\": 0, \"ticks\": \"\"}}, \"type\": \"scatterpolar\"}], \"scatterpolargl\": [{\"marker\": {\"colorbar\": {\"outlinewidth\": 0, \"ticks\": \"\"}}, \"type\": \"scatterpolargl\"}], \"scatterternary\": [{\"marker\": {\"colorbar\": {\"outlinewidth\": 0, \"ticks\": \"\"}}, \"type\": \"scatterternary\"}], \"surface\": [{\"colorbar\": {\"outlinewidth\": 0, \"ticks\": \"\"}, \"colorscale\": [[0.0, \"#0d0887\"], [0.1111111111111111, \"#46039f\"], [0.2222222222222222, \"#7201a8\"], [0.3333333333333333, \"#9c179e\"], [0.4444444444444444, \"#bd3786\"], [0.5555555555555556, \"#d8576b\"], [0.6666666666666666, \"#ed7953\"], [0.7777777777777778, \"#fb9f3a\"], [0.8888888888888888, \"#fdca26\"], [1.0, \"#f0f921\"]], \"type\": \"surface\"}], \"table\": [{\"cells\": {\"fill\": {\"color\": \"#EBF0F8\"}, \"line\": {\"color\": \"white\"}}, \"header\": {\"fill\": {\"color\": \"#C8D4E3\"}, \"line\": {\"color\": \"white\"}}, \"type\": \"table\"}]}, \"layout\": {\"annotationdefaults\": {\"arrowcolor\": \"#2a3f5f\", \"arrowhead\": 0, \"arrowwidth\": 1}, \"coloraxis\": {\"colorbar\": {\"outlinewidth\": 0, \"ticks\": \"\"}}, \"colorscale\": {\"diverging\": [[0, \"#8e0152\"], [0.1, \"#c51b7d\"], [0.2, \"#de77ae\"], [0.3, \"#f1b6da\"], [0.4, \"#fde0ef\"], [0.5, \"#f7f7f7\"], [0.6, \"#e6f5d0\"], [0.7, \"#b8e186\"], [0.8, \"#7fbc41\"], [0.9, \"#4d9221\"], [1, \"#276419\"]], \"sequential\": [[0.0, \"#0d0887\"], [0.1111111111111111, \"#46039f\"], [0.2222222222222222, \"#7201a8\"], [0.3333333333333333, \"#9c179e\"], [0.4444444444444444, \"#bd3786\"], [0.5555555555555556, \"#d8576b\"], [0.6666666666666666, \"#ed7953\"], [0.7777777777777778, \"#fb9f3a\"], [0.8888888888888888, \"#fdca26\"], [1.0, \"#f0f921\"]], \"sequentialminus\": [[0.0, \"#0d0887\"], [0.1111111111111111, \"#46039f\"], [0.2222222222222222, \"#7201a8\"], [0.3333333333333333, \"#9c179e\"], [0.4444444444444444, \"#bd3786\"], [0.5555555555555556, \"#d8576b\"], [0.6666666666666666, \"#ed7953\"], [0.7777777777777778, \"#fb9f3a\"], [0.8888888888888888, \"#fdca26\"], [1.0, \"#f0f921\"]]}, \"colorway\": [\"#636efa\", \"#EF553B\", \"#00cc96\", \"#ab63fa\", \"#FFA15A\", \"#19d3f3\", \"#FF6692\", \"#B6E880\", \"#FF97FF\", \"#FECB52\"], \"font\": {\"color\": \"#2a3f5f\"}, \"geo\": {\"bgcolor\": \"white\", \"lakecolor\": \"white\", \"landcolor\": \"#E5ECF6\", \"showlakes\": true, \"showland\": true, \"subunitcolor\": \"white\"}, \"hoverlabel\": {\"align\": \"left\"}, \"hovermode\": \"closest\", \"mapbox\": {\"style\": \"light\"}, \"paper_bgcolor\": \"white\", \"plot_bgcolor\": \"#E5ECF6\", \"polar\": {\"angularaxis\": {\"gridcolor\": \"white\", \"linecolor\": \"white\", \"ticks\": \"\"}, \"bgcolor\": \"#E5ECF6\", \"radialaxis\": {\"gridcolor\": \"white\", \"linecolor\": \"white\", \"ticks\": \"\"}}, \"scene\": {\"xaxis\": {\"backgroundcolor\": \"#E5ECF6\", \"gridcolor\": \"white\", \"gridwidth\": 2, \"linecolor\": \"white\", \"showbackground\": true, \"ticks\": \"\", \"zerolinecolor\": \"white\"}, \"yaxis\": {\"backgroundcolor\": \"#E5ECF6\", \"gridcolor\": \"white\", \"gridwidth\": 2, \"linecolor\": \"white\", \"showbackground\": true, \"ticks\": \"\", \"zerolinecolor\": \"white\"}, \"zaxis\": {\"backgroundcolor\": \"#E5ECF6\", \"gridcolor\": \"white\", \"gridwidth\": 2, \"linecolor\": \"white\", \"showbackground\": true, \"ticks\": \"\", \"zerolinecolor\": \"white\"}}, \"shapedefaults\": {\"line\": {\"color\": \"#2a3f5f\"}}, \"ternary\": {\"aaxis\": {\"gridcolor\": \"white\", \"linecolor\": \"white\", \"ticks\": \"\"}, \"baxis\": {\"gridcolor\": \"white\", \"linecolor\": \"white\", \"ticks\": \"\"}, \"bgcolor\": \"#E5ECF6\", \"caxis\": {\"gridcolor\": \"white\", \"linecolor\": \"white\", \"ticks\": \"\"}}, \"title\": {\"x\": 0.05}, \"xaxis\": {\"automargin\": true, \"gridcolor\": \"white\", \"linecolor\": \"white\", \"ticks\": \"\", \"title\": {\"standoff\": 15}, \"zerolinecolor\": \"white\", \"zerolinewidth\": 2}, \"yaxis\": {\"automargin\": true, \"gridcolor\": \"white\", \"linecolor\": \"white\", \"ticks\": \"\", \"title\": {\"standoff\": 15}, \"zerolinecolor\": \"white\", \"zerolinewidth\": 2}}}, \"xaxis\": {\"anchor\": \"y\", \"domain\": [0.0, 1.0], \"title\": {\"text\": \"TimeTo\"}}, \"yaxis\": {\"anchor\": \"x\", \"domain\": [0.0, 1.0], \"title\": {\"text\": \"Total\"}}},\n",
       "                        {\"responsive\": true}\n",
       "                    ).then(function(){\n",
       "                            \n",
       "var gd = document.getElementById('9acdde39-18d7-4025-afe5-59864870559b');\n",
       "var x = new MutationObserver(function (mutations, observer) {{\n",
       "        var display = window.getComputedStyle(gd).display;\n",
       "        if (!display || display === 'none') {{\n",
       "            console.log([gd, 'removed!']);\n",
       "            Plotly.purge(gd);\n",
       "            observer.disconnect();\n",
       "        }}\n",
       "}});\n",
       "\n",
       "// Listen for the removal of the full notebook cells\n",
       "var notebookContainer = gd.closest('#notebook-container');\n",
       "if (notebookContainer) {{\n",
       "    x.observe(notebookContainer, {childList: true});\n",
       "}}\n",
       "\n",
       "// Listen for the clearing of the current output cell\n",
       "var outputEl = gd.closest('.output');\n",
       "if (outputEl) {{\n",
       "    x.observe(outputEl, {childList: true});\n",
       "}}\n",
       "\n",
       "                        })\n",
       "                };\n",
       "                });\n",
       "            </script>\n",
       "        </div>"
      ]
     },
     "metadata": {},
     "output_type": "display_data"
    }
   ],
   "source": [
    "px.line(df_v1, x=\"TimeTo\", y=\"Total\", color=\"SiteName\")"
   ]
  },
  {
   "cell_type": "markdown",
   "metadata": {},
   "source": [
    "#### And now look at the change of the mean traffic during the weekdays for a particular location and lane"
   ]
  },
  {
   "cell_type": "code",
   "execution_count": 17,
   "metadata": {},
   "outputs": [],
   "source": [
    "df_v2 = df_verkehr_stjohann[df_verkehr_stjohann.LaneName == \"Spur 2\"].set_index(\"timestamp\")"
   ]
  },
  {
   "cell_type": "code",
   "execution_count": 18,
   "metadata": {},
   "outputs": [],
   "source": [
    "import calendar"
   ]
  },
  {
   "cell_type": "code",
   "execution_count": 29,
   "metadata": {},
   "outputs": [
    {
     "data": {
      "application/vnd.plotly.v1+json": {
       "config": {
        "plotlyServerURL": "https://plot.ly"
       },
       "data": [
        {
         "hovertemplate": "x=%{x}<br>y=%{y}<extra></extra>",
         "legendgroup": "",
         "line": {
          "color": "darkgreen",
          "dash": "solid"
         },
         "mode": "lines",
         "name": "",
         "showlegend": false,
         "type": "scatter",
         "x": [
          "Mon",
          "Tue",
          "Wed",
          "Thu",
          "Fri",
          "Sat",
          "Sun"
         ],
         "xaxis": "x",
         "y": [
          228.6857101947308,
          211.69286941580756,
          226.1221363115693,
          229.75459770114944,
          262.5853448275862,
          188.12744252873563,
          211.84779495990836
         ],
         "yaxis": "y"
        }
       ],
       "layout": {
        "legend": {
         "tracegroupgap": 0
        },
        "margin": {
         "t": 60
        },
        "template": {
         "data": {
          "bar": [
           {
            "error_x": {
             "color": "#2a3f5f"
            },
            "error_y": {
             "color": "#2a3f5f"
            },
            "marker": {
             "line": {
              "color": "#E5ECF6",
              "width": 0.5
             }
            },
            "type": "bar"
           }
          ],
          "barpolar": [
           {
            "marker": {
             "line": {
              "color": "#E5ECF6",
              "width": 0.5
             }
            },
            "type": "barpolar"
           }
          ],
          "carpet": [
           {
            "aaxis": {
             "endlinecolor": "#2a3f5f",
             "gridcolor": "white",
             "linecolor": "white",
             "minorgridcolor": "white",
             "startlinecolor": "#2a3f5f"
            },
            "baxis": {
             "endlinecolor": "#2a3f5f",
             "gridcolor": "white",
             "linecolor": "white",
             "minorgridcolor": "white",
             "startlinecolor": "#2a3f5f"
            },
            "type": "carpet"
           }
          ],
          "choropleth": [
           {
            "colorbar": {
             "outlinewidth": 0,
             "ticks": ""
            },
            "type": "choropleth"
           }
          ],
          "contour": [
           {
            "colorbar": {
             "outlinewidth": 0,
             "ticks": ""
            },
            "colorscale": [
             [
              0,
              "#0d0887"
             ],
             [
              0.1111111111111111,
              "#46039f"
             ],
             [
              0.2222222222222222,
              "#7201a8"
             ],
             [
              0.3333333333333333,
              "#9c179e"
             ],
             [
              0.4444444444444444,
              "#bd3786"
             ],
             [
              0.5555555555555556,
              "#d8576b"
             ],
             [
              0.6666666666666666,
              "#ed7953"
             ],
             [
              0.7777777777777778,
              "#fb9f3a"
             ],
             [
              0.8888888888888888,
              "#fdca26"
             ],
             [
              1,
              "#f0f921"
             ]
            ],
            "type": "contour"
           }
          ],
          "contourcarpet": [
           {
            "colorbar": {
             "outlinewidth": 0,
             "ticks": ""
            },
            "type": "contourcarpet"
           }
          ],
          "heatmap": [
           {
            "colorbar": {
             "outlinewidth": 0,
             "ticks": ""
            },
            "colorscale": [
             [
              0,
              "#0d0887"
             ],
             [
              0.1111111111111111,
              "#46039f"
             ],
             [
              0.2222222222222222,
              "#7201a8"
             ],
             [
              0.3333333333333333,
              "#9c179e"
             ],
             [
              0.4444444444444444,
              "#bd3786"
             ],
             [
              0.5555555555555556,
              "#d8576b"
             ],
             [
              0.6666666666666666,
              "#ed7953"
             ],
             [
              0.7777777777777778,
              "#fb9f3a"
             ],
             [
              0.8888888888888888,
              "#fdca26"
             ],
             [
              1,
              "#f0f921"
             ]
            ],
            "type": "heatmap"
           }
          ],
          "heatmapgl": [
           {
            "colorbar": {
             "outlinewidth": 0,
             "ticks": ""
            },
            "colorscale": [
             [
              0,
              "#0d0887"
             ],
             [
              0.1111111111111111,
              "#46039f"
             ],
             [
              0.2222222222222222,
              "#7201a8"
             ],
             [
              0.3333333333333333,
              "#9c179e"
             ],
             [
              0.4444444444444444,
              "#bd3786"
             ],
             [
              0.5555555555555556,
              "#d8576b"
             ],
             [
              0.6666666666666666,
              "#ed7953"
             ],
             [
              0.7777777777777778,
              "#fb9f3a"
             ],
             [
              0.8888888888888888,
              "#fdca26"
             ],
             [
              1,
              "#f0f921"
             ]
            ],
            "type": "heatmapgl"
           }
          ],
          "histogram": [
           {
            "marker": {
             "colorbar": {
              "outlinewidth": 0,
              "ticks": ""
             }
            },
            "type": "histogram"
           }
          ],
          "histogram2d": [
           {
            "colorbar": {
             "outlinewidth": 0,
             "ticks": ""
            },
            "colorscale": [
             [
              0,
              "#0d0887"
             ],
             [
              0.1111111111111111,
              "#46039f"
             ],
             [
              0.2222222222222222,
              "#7201a8"
             ],
             [
              0.3333333333333333,
              "#9c179e"
             ],
             [
              0.4444444444444444,
              "#bd3786"
             ],
             [
              0.5555555555555556,
              "#d8576b"
             ],
             [
              0.6666666666666666,
              "#ed7953"
             ],
             [
              0.7777777777777778,
              "#fb9f3a"
             ],
             [
              0.8888888888888888,
              "#fdca26"
             ],
             [
              1,
              "#f0f921"
             ]
            ],
            "type": "histogram2d"
           }
          ],
          "histogram2dcontour": [
           {
            "colorbar": {
             "outlinewidth": 0,
             "ticks": ""
            },
            "colorscale": [
             [
              0,
              "#0d0887"
             ],
             [
              0.1111111111111111,
              "#46039f"
             ],
             [
              0.2222222222222222,
              "#7201a8"
             ],
             [
              0.3333333333333333,
              "#9c179e"
             ],
             [
              0.4444444444444444,
              "#bd3786"
             ],
             [
              0.5555555555555556,
              "#d8576b"
             ],
             [
              0.6666666666666666,
              "#ed7953"
             ],
             [
              0.7777777777777778,
              "#fb9f3a"
             ],
             [
              0.8888888888888888,
              "#fdca26"
             ],
             [
              1,
              "#f0f921"
             ]
            ],
            "type": "histogram2dcontour"
           }
          ],
          "mesh3d": [
           {
            "colorbar": {
             "outlinewidth": 0,
             "ticks": ""
            },
            "type": "mesh3d"
           }
          ],
          "parcoords": [
           {
            "line": {
             "colorbar": {
              "outlinewidth": 0,
              "ticks": ""
             }
            },
            "type": "parcoords"
           }
          ],
          "pie": [
           {
            "automargin": true,
            "type": "pie"
           }
          ],
          "scatter": [
           {
            "marker": {
             "colorbar": {
              "outlinewidth": 0,
              "ticks": ""
             }
            },
            "type": "scatter"
           }
          ],
          "scatter3d": [
           {
            "line": {
             "colorbar": {
              "outlinewidth": 0,
              "ticks": ""
             }
            },
            "marker": {
             "colorbar": {
              "outlinewidth": 0,
              "ticks": ""
             }
            },
            "type": "scatter3d"
           }
          ],
          "scattercarpet": [
           {
            "marker": {
             "colorbar": {
              "outlinewidth": 0,
              "ticks": ""
             }
            },
            "type": "scattercarpet"
           }
          ],
          "scattergeo": [
           {
            "marker": {
             "colorbar": {
              "outlinewidth": 0,
              "ticks": ""
             }
            },
            "type": "scattergeo"
           }
          ],
          "scattergl": [
           {
            "marker": {
             "colorbar": {
              "outlinewidth": 0,
              "ticks": ""
             }
            },
            "type": "scattergl"
           }
          ],
          "scattermapbox": [
           {
            "marker": {
             "colorbar": {
              "outlinewidth": 0,
              "ticks": ""
             }
            },
            "type": "scattermapbox"
           }
          ],
          "scatterpolar": [
           {
            "marker": {
             "colorbar": {
              "outlinewidth": 0,
              "ticks": ""
             }
            },
            "type": "scatterpolar"
           }
          ],
          "scatterpolargl": [
           {
            "marker": {
             "colorbar": {
              "outlinewidth": 0,
              "ticks": ""
             }
            },
            "type": "scatterpolargl"
           }
          ],
          "scatterternary": [
           {
            "marker": {
             "colorbar": {
              "outlinewidth": 0,
              "ticks": ""
             }
            },
            "type": "scatterternary"
           }
          ],
          "surface": [
           {
            "colorbar": {
             "outlinewidth": 0,
             "ticks": ""
            },
            "colorscale": [
             [
              0,
              "#0d0887"
             ],
             [
              0.1111111111111111,
              "#46039f"
             ],
             [
              0.2222222222222222,
              "#7201a8"
             ],
             [
              0.3333333333333333,
              "#9c179e"
             ],
             [
              0.4444444444444444,
              "#bd3786"
             ],
             [
              0.5555555555555556,
              "#d8576b"
             ],
             [
              0.6666666666666666,
              "#ed7953"
             ],
             [
              0.7777777777777778,
              "#fb9f3a"
             ],
             [
              0.8888888888888888,
              "#fdca26"
             ],
             [
              1,
              "#f0f921"
             ]
            ],
            "type": "surface"
           }
          ],
          "table": [
           {
            "cells": {
             "fill": {
              "color": "#EBF0F8"
             },
             "line": {
              "color": "white"
             }
            },
            "header": {
             "fill": {
              "color": "#C8D4E3"
             },
             "line": {
              "color": "white"
             }
            },
            "type": "table"
           }
          ]
         },
         "layout": {
          "annotationdefaults": {
           "arrowcolor": "#2a3f5f",
           "arrowhead": 0,
           "arrowwidth": 1
          },
          "coloraxis": {
           "colorbar": {
            "outlinewidth": 0,
            "ticks": ""
           }
          },
          "colorscale": {
           "diverging": [
            [
             0,
             "#8e0152"
            ],
            [
             0.1,
             "#c51b7d"
            ],
            [
             0.2,
             "#de77ae"
            ],
            [
             0.3,
             "#f1b6da"
            ],
            [
             0.4,
             "#fde0ef"
            ],
            [
             0.5,
             "#f7f7f7"
            ],
            [
             0.6,
             "#e6f5d0"
            ],
            [
             0.7,
             "#b8e186"
            ],
            [
             0.8,
             "#7fbc41"
            ],
            [
             0.9,
             "#4d9221"
            ],
            [
             1,
             "#276419"
            ]
           ],
           "sequential": [
            [
             0,
             "#0d0887"
            ],
            [
             0.1111111111111111,
             "#46039f"
            ],
            [
             0.2222222222222222,
             "#7201a8"
            ],
            [
             0.3333333333333333,
             "#9c179e"
            ],
            [
             0.4444444444444444,
             "#bd3786"
            ],
            [
             0.5555555555555556,
             "#d8576b"
            ],
            [
             0.6666666666666666,
             "#ed7953"
            ],
            [
             0.7777777777777778,
             "#fb9f3a"
            ],
            [
             0.8888888888888888,
             "#fdca26"
            ],
            [
             1,
             "#f0f921"
            ]
           ],
           "sequentialminus": [
            [
             0,
             "#0d0887"
            ],
            [
             0.1111111111111111,
             "#46039f"
            ],
            [
             0.2222222222222222,
             "#7201a8"
            ],
            [
             0.3333333333333333,
             "#9c179e"
            ],
            [
             0.4444444444444444,
             "#bd3786"
            ],
            [
             0.5555555555555556,
             "#d8576b"
            ],
            [
             0.6666666666666666,
             "#ed7953"
            ],
            [
             0.7777777777777778,
             "#fb9f3a"
            ],
            [
             0.8888888888888888,
             "#fdca26"
            ],
            [
             1,
             "#f0f921"
            ]
           ]
          },
          "colorway": [
           "#636efa",
           "#EF553B",
           "#00cc96",
           "#ab63fa",
           "#FFA15A",
           "#19d3f3",
           "#FF6692",
           "#B6E880",
           "#FF97FF",
           "#FECB52"
          ],
          "font": {
           "color": "#2a3f5f"
          },
          "geo": {
           "bgcolor": "white",
           "lakecolor": "white",
           "landcolor": "#E5ECF6",
           "showlakes": true,
           "showland": true,
           "subunitcolor": "white"
          },
          "hoverlabel": {
           "align": "left"
          },
          "hovermode": "closest",
          "mapbox": {
           "style": "light"
          },
          "paper_bgcolor": "white",
          "plot_bgcolor": "#E5ECF6",
          "polar": {
           "angularaxis": {
            "gridcolor": "white",
            "linecolor": "white",
            "ticks": ""
           },
           "bgcolor": "#E5ECF6",
           "radialaxis": {
            "gridcolor": "white",
            "linecolor": "white",
            "ticks": ""
           }
          },
          "scene": {
           "xaxis": {
            "backgroundcolor": "#E5ECF6",
            "gridcolor": "white",
            "gridwidth": 2,
            "linecolor": "white",
            "showbackground": true,
            "ticks": "",
            "zerolinecolor": "white"
           },
           "yaxis": {
            "backgroundcolor": "#E5ECF6",
            "gridcolor": "white",
            "gridwidth": 2,
            "linecolor": "white",
            "showbackground": true,
            "ticks": "",
            "zerolinecolor": "white"
           },
           "zaxis": {
            "backgroundcolor": "#E5ECF6",
            "gridcolor": "white",
            "gridwidth": 2,
            "linecolor": "white",
            "showbackground": true,
            "ticks": "",
            "zerolinecolor": "white"
           }
          },
          "shapedefaults": {
           "line": {
            "color": "#2a3f5f"
           }
          },
          "ternary": {
           "aaxis": {
            "gridcolor": "white",
            "linecolor": "white",
            "ticks": ""
           },
           "baxis": {
            "gridcolor": "white",
            "linecolor": "white",
            "ticks": ""
           },
           "bgcolor": "#E5ECF6",
           "caxis": {
            "gridcolor": "white",
            "linecolor": "white",
            "ticks": ""
           }
          },
          "title": {
           "x": 0.05
          },
          "xaxis": {
           "automargin": true,
           "gridcolor": "white",
           "linecolor": "white",
           "ticks": "",
           "title": {
            "standoff": 15
           },
           "zerolinecolor": "white",
           "zerolinewidth": 2
          },
          "yaxis": {
           "automargin": true,
           "gridcolor": "white",
           "linecolor": "white",
           "ticks": "",
           "title": {
            "standoff": 15
           },
           "zerolinecolor": "white",
           "zerolinewidth": 2
          }
         }
        },
        "xaxis": {
         "anchor": "y",
         "domain": [
          0,
          1
         ],
         "title": {
          "text": "x"
         }
        },
        "yaxis": {
         "anchor": "x",
         "domain": [
          0,
          1
         ],
         "title": {
          "text": "y"
         }
        }
       }
      },
      "text/html": [
       "<div>\n",
       "        \n",
       "        \n",
       "            <div id=\"45c8f34a-9df2-4d2a-a5cc-8dc6c8998c7e\" class=\"plotly-graph-div\" style=\"height:525px; width:100%;\"></div>\n",
       "            <script type=\"text/javascript\">\n",
       "                require([\"plotly\"], function(Plotly) {\n",
       "                    window.PLOTLYENV=window.PLOTLYENV || {};\n",
       "                    \n",
       "                if (document.getElementById(\"45c8f34a-9df2-4d2a-a5cc-8dc6c8998c7e\")) {\n",
       "                    Plotly.newPlot(\n",
       "                        '45c8f34a-9df2-4d2a-a5cc-8dc6c8998c7e',\n",
       "                        [{\"hovertemplate\": \"x=%{x}<br>y=%{y}<extra></extra>\", \"legendgroup\": \"\", \"line\": {\"color\": \"darkgreen\", \"dash\": \"solid\"}, \"mode\": \"lines\", \"name\": \"\", \"showlegend\": false, \"type\": \"scatter\", \"x\": [\"Mon\", \"Tue\", \"Wed\", \"Thu\", \"Fri\", \"Sat\", \"Sun\"], \"xaxis\": \"x\", \"y\": [228.6857101947308, 211.69286941580756, 226.1221363115693, 229.75459770114944, 262.5853448275862, 188.12744252873563, 211.84779495990836], \"yaxis\": \"y\"}],\n",
       "                        {\"legend\": {\"tracegroupgap\": 0}, \"margin\": {\"t\": 60}, \"template\": {\"data\": {\"bar\": [{\"error_x\": {\"color\": \"#2a3f5f\"}, \"error_y\": {\"color\": \"#2a3f5f\"}, \"marker\": {\"line\": {\"color\": \"#E5ECF6\", \"width\": 0.5}}, \"type\": \"bar\"}], \"barpolar\": [{\"marker\": {\"line\": {\"color\": \"#E5ECF6\", \"width\": 0.5}}, \"type\": \"barpolar\"}], \"carpet\": [{\"aaxis\": {\"endlinecolor\": \"#2a3f5f\", \"gridcolor\": \"white\", \"linecolor\": \"white\", \"minorgridcolor\": \"white\", \"startlinecolor\": \"#2a3f5f\"}, \"baxis\": {\"endlinecolor\": \"#2a3f5f\", \"gridcolor\": \"white\", \"linecolor\": \"white\", \"minorgridcolor\": \"white\", \"startlinecolor\": \"#2a3f5f\"}, \"type\": \"carpet\"}], \"choropleth\": [{\"colorbar\": {\"outlinewidth\": 0, \"ticks\": \"\"}, \"type\": \"choropleth\"}], \"contour\": [{\"colorbar\": {\"outlinewidth\": 0, \"ticks\": \"\"}, \"colorscale\": [[0.0, \"#0d0887\"], [0.1111111111111111, \"#46039f\"], [0.2222222222222222, \"#7201a8\"], [0.3333333333333333, \"#9c179e\"], [0.4444444444444444, \"#bd3786\"], [0.5555555555555556, \"#d8576b\"], [0.6666666666666666, \"#ed7953\"], [0.7777777777777778, \"#fb9f3a\"], [0.8888888888888888, \"#fdca26\"], [1.0, \"#f0f921\"]], \"type\": \"contour\"}], \"contourcarpet\": [{\"colorbar\": {\"outlinewidth\": 0, \"ticks\": \"\"}, \"type\": \"contourcarpet\"}], \"heatmap\": [{\"colorbar\": {\"outlinewidth\": 0, \"ticks\": \"\"}, \"colorscale\": [[0.0, \"#0d0887\"], [0.1111111111111111, \"#46039f\"], [0.2222222222222222, \"#7201a8\"], [0.3333333333333333, \"#9c179e\"], [0.4444444444444444, \"#bd3786\"], [0.5555555555555556, \"#d8576b\"], [0.6666666666666666, \"#ed7953\"], [0.7777777777777778, \"#fb9f3a\"], [0.8888888888888888, \"#fdca26\"], [1.0, \"#f0f921\"]], \"type\": \"heatmap\"}], \"heatmapgl\": [{\"colorbar\": {\"outlinewidth\": 0, \"ticks\": \"\"}, \"colorscale\": [[0.0, \"#0d0887\"], [0.1111111111111111, \"#46039f\"], [0.2222222222222222, \"#7201a8\"], [0.3333333333333333, \"#9c179e\"], [0.4444444444444444, \"#bd3786\"], [0.5555555555555556, \"#d8576b\"], [0.6666666666666666, \"#ed7953\"], [0.7777777777777778, \"#fb9f3a\"], [0.8888888888888888, \"#fdca26\"], [1.0, \"#f0f921\"]], \"type\": \"heatmapgl\"}], \"histogram\": [{\"marker\": {\"colorbar\": {\"outlinewidth\": 0, \"ticks\": \"\"}}, \"type\": \"histogram\"}], \"histogram2d\": [{\"colorbar\": {\"outlinewidth\": 0, \"ticks\": \"\"}, \"colorscale\": [[0.0, \"#0d0887\"], [0.1111111111111111, \"#46039f\"], [0.2222222222222222, \"#7201a8\"], [0.3333333333333333, \"#9c179e\"], [0.4444444444444444, \"#bd3786\"], [0.5555555555555556, \"#d8576b\"], [0.6666666666666666, \"#ed7953\"], [0.7777777777777778, \"#fb9f3a\"], [0.8888888888888888, \"#fdca26\"], [1.0, \"#f0f921\"]], \"type\": \"histogram2d\"}], \"histogram2dcontour\": [{\"colorbar\": {\"outlinewidth\": 0, \"ticks\": \"\"}, \"colorscale\": [[0.0, \"#0d0887\"], [0.1111111111111111, \"#46039f\"], [0.2222222222222222, \"#7201a8\"], [0.3333333333333333, \"#9c179e\"], [0.4444444444444444, \"#bd3786\"], [0.5555555555555556, \"#d8576b\"], [0.6666666666666666, \"#ed7953\"], [0.7777777777777778, \"#fb9f3a\"], [0.8888888888888888, \"#fdca26\"], [1.0, \"#f0f921\"]], \"type\": \"histogram2dcontour\"}], \"mesh3d\": [{\"colorbar\": {\"outlinewidth\": 0, \"ticks\": \"\"}, \"type\": \"mesh3d\"}], \"parcoords\": [{\"line\": {\"colorbar\": {\"outlinewidth\": 0, \"ticks\": \"\"}}, \"type\": \"parcoords\"}], \"pie\": [{\"automargin\": true, \"type\": \"pie\"}], \"scatter\": [{\"marker\": {\"colorbar\": {\"outlinewidth\": 0, \"ticks\": \"\"}}, \"type\": \"scatter\"}], \"scatter3d\": [{\"line\": {\"colorbar\": {\"outlinewidth\": 0, \"ticks\": \"\"}}, \"marker\": {\"colorbar\": {\"outlinewidth\": 0, \"ticks\": \"\"}}, \"type\": \"scatter3d\"}], \"scattercarpet\": [{\"marker\": {\"colorbar\": {\"outlinewidth\": 0, \"ticks\": \"\"}}, \"type\": \"scattercarpet\"}], \"scattergeo\": [{\"marker\": {\"colorbar\": {\"outlinewidth\": 0, \"ticks\": \"\"}}, \"type\": \"scattergeo\"}], \"scattergl\": [{\"marker\": {\"colorbar\": {\"outlinewidth\": 0, \"ticks\": \"\"}}, \"type\": \"scattergl\"}], \"scattermapbox\": [{\"marker\": {\"colorbar\": {\"outlinewidth\": 0, \"ticks\": \"\"}}, \"type\": \"scattermapbox\"}], \"scatterpolar\": [{\"marker\": {\"colorbar\": {\"outlinewidth\": 0, \"ticks\": \"\"}}, \"type\": \"scatterpolar\"}], \"scatterpolargl\": [{\"marker\": {\"colorbar\": {\"outlinewidth\": 0, \"ticks\": \"\"}}, \"type\": \"scatterpolargl\"}], \"scatterternary\": [{\"marker\": {\"colorbar\": {\"outlinewidth\": 0, \"ticks\": \"\"}}, \"type\": \"scatterternary\"}], \"surface\": [{\"colorbar\": {\"outlinewidth\": 0, \"ticks\": \"\"}, \"colorscale\": [[0.0, \"#0d0887\"], [0.1111111111111111, \"#46039f\"], [0.2222222222222222, \"#7201a8\"], [0.3333333333333333, \"#9c179e\"], [0.4444444444444444, \"#bd3786\"], [0.5555555555555556, \"#d8576b\"], [0.6666666666666666, \"#ed7953\"], [0.7777777777777778, \"#fb9f3a\"], [0.8888888888888888, \"#fdca26\"], [1.0, \"#f0f921\"]], \"type\": \"surface\"}], \"table\": [{\"cells\": {\"fill\": {\"color\": \"#EBF0F8\"}, \"line\": {\"color\": \"white\"}}, \"header\": {\"fill\": {\"color\": \"#C8D4E3\"}, \"line\": {\"color\": \"white\"}}, \"type\": \"table\"}]}, \"layout\": {\"annotationdefaults\": {\"arrowcolor\": \"#2a3f5f\", \"arrowhead\": 0, \"arrowwidth\": 1}, \"coloraxis\": {\"colorbar\": {\"outlinewidth\": 0, \"ticks\": \"\"}}, \"colorscale\": {\"diverging\": [[0, \"#8e0152\"], [0.1, \"#c51b7d\"], [0.2, \"#de77ae\"], [0.3, \"#f1b6da\"], [0.4, \"#fde0ef\"], [0.5, \"#f7f7f7\"], [0.6, \"#e6f5d0\"], [0.7, \"#b8e186\"], [0.8, \"#7fbc41\"], [0.9, \"#4d9221\"], [1, \"#276419\"]], \"sequential\": [[0.0, \"#0d0887\"], [0.1111111111111111, \"#46039f\"], [0.2222222222222222, \"#7201a8\"], [0.3333333333333333, \"#9c179e\"], [0.4444444444444444, \"#bd3786\"], [0.5555555555555556, \"#d8576b\"], [0.6666666666666666, \"#ed7953\"], [0.7777777777777778, \"#fb9f3a\"], [0.8888888888888888, \"#fdca26\"], [1.0, \"#f0f921\"]], \"sequentialminus\": [[0.0, \"#0d0887\"], [0.1111111111111111, \"#46039f\"], [0.2222222222222222, \"#7201a8\"], [0.3333333333333333, \"#9c179e\"], [0.4444444444444444, \"#bd3786\"], [0.5555555555555556, \"#d8576b\"], [0.6666666666666666, \"#ed7953\"], [0.7777777777777778, \"#fb9f3a\"], [0.8888888888888888, \"#fdca26\"], [1.0, \"#f0f921\"]]}, \"colorway\": [\"#636efa\", \"#EF553B\", \"#00cc96\", \"#ab63fa\", \"#FFA15A\", \"#19d3f3\", \"#FF6692\", \"#B6E880\", \"#FF97FF\", \"#FECB52\"], \"font\": {\"color\": \"#2a3f5f\"}, \"geo\": {\"bgcolor\": \"white\", \"lakecolor\": \"white\", \"landcolor\": \"#E5ECF6\", \"showlakes\": true, \"showland\": true, \"subunitcolor\": \"white\"}, \"hoverlabel\": {\"align\": \"left\"}, \"hovermode\": \"closest\", \"mapbox\": {\"style\": \"light\"}, \"paper_bgcolor\": \"white\", \"plot_bgcolor\": \"#E5ECF6\", \"polar\": {\"angularaxis\": {\"gridcolor\": \"white\", \"linecolor\": \"white\", \"ticks\": \"\"}, \"bgcolor\": \"#E5ECF6\", \"radialaxis\": {\"gridcolor\": \"white\", \"linecolor\": \"white\", \"ticks\": \"\"}}, \"scene\": {\"xaxis\": {\"backgroundcolor\": \"#E5ECF6\", \"gridcolor\": \"white\", \"gridwidth\": 2, \"linecolor\": \"white\", \"showbackground\": true, \"ticks\": \"\", \"zerolinecolor\": \"white\"}, \"yaxis\": {\"backgroundcolor\": \"#E5ECF6\", \"gridcolor\": \"white\", \"gridwidth\": 2, \"linecolor\": \"white\", \"showbackground\": true, \"ticks\": \"\", \"zerolinecolor\": \"white\"}, \"zaxis\": {\"backgroundcolor\": \"#E5ECF6\", \"gridcolor\": \"white\", \"gridwidth\": 2, \"linecolor\": \"white\", \"showbackground\": true, \"ticks\": \"\", \"zerolinecolor\": \"white\"}}, \"shapedefaults\": {\"line\": {\"color\": \"#2a3f5f\"}}, \"ternary\": {\"aaxis\": {\"gridcolor\": \"white\", \"linecolor\": \"white\", \"ticks\": \"\"}, \"baxis\": {\"gridcolor\": \"white\", \"linecolor\": \"white\", \"ticks\": \"\"}, \"bgcolor\": \"#E5ECF6\", \"caxis\": {\"gridcolor\": \"white\", \"linecolor\": \"white\", \"ticks\": \"\"}}, \"title\": {\"x\": 0.05}, \"xaxis\": {\"automargin\": true, \"gridcolor\": \"white\", \"linecolor\": \"white\", \"ticks\": \"\", \"title\": {\"standoff\": 15}, \"zerolinecolor\": \"white\", \"zerolinewidth\": 2}, \"yaxis\": {\"automargin\": true, \"gridcolor\": \"white\", \"linecolor\": \"white\", \"ticks\": \"\", \"title\": {\"standoff\": 15}, \"zerolinecolor\": \"white\", \"zerolinewidth\": 2}}}, \"xaxis\": {\"anchor\": \"y\", \"domain\": [0.0, 1.0], \"title\": {\"text\": \"x\"}}, \"yaxis\": {\"anchor\": \"x\", \"domain\": [0.0, 1.0], \"title\": {\"text\": \"y\"}}},\n",
       "                        {\"responsive\": true}\n",
       "                    ).then(function(){\n",
       "                            \n",
       "var gd = document.getElementById('45c8f34a-9df2-4d2a-a5cc-8dc6c8998c7e');\n",
       "var x = new MutationObserver(function (mutations, observer) {{\n",
       "        var display = window.getComputedStyle(gd).display;\n",
       "        if (!display || display === 'none') {{\n",
       "            console.log([gd, 'removed!']);\n",
       "            Plotly.purge(gd);\n",
       "            observer.disconnect();\n",
       "        }}\n",
       "}});\n",
       "\n",
       "// Listen for the removal of the full notebook cells\n",
       "var notebookContainer = gd.closest('#notebook-container');\n",
       "if (notebookContainer) {{\n",
       "    x.observe(notebookContainer, {childList: true});\n",
       "}}\n",
       "\n",
       "// Listen for the clearing of the current output cell\n",
       "var outputEl = gd.closest('.output');\n",
       "if (outputEl) {{\n",
       "    x.observe(outputEl, {childList: true});\n",
       "}}\n",
       "\n",
       "                        })\n",
       "                };\n",
       "                });\n",
       "            </script>\n",
       "        </div>"
      ]
     },
     "metadata": {},
     "output_type": "display_data"
    }
   ],
   "source": [
    "px.line(x=list(calendar.day_abbr), y=df_v2.groupby(df_v2.index.weekday).Total.mean(), color_discrete_sequence=[\"darkgreen\"])"
   ]
  },
  {
   "cell_type": "code",
   "execution_count": null,
   "metadata": {},
   "outputs": [],
   "source": []
  },
  {
   "cell_type": "code",
   "execution_count": 20,
   "metadata": {},
   "outputs": [
    {
     "data": {
      "text/plain": [
       "['Mon', 'Tue', 'Wed', 'Thu', 'Fri', 'Sat', 'Sun']"
      ]
     },
     "execution_count": 20,
     "metadata": {},
     "output_type": "execute_result"
    }
   ],
   "source": [
    "list(calendar.day_abbr)"
   ]
  },
  {
   "cell_type": "code",
   "execution_count": null,
   "metadata": {},
   "outputs": [],
   "source": []
  },
  {
   "cell_type": "code",
   "execution_count": 21,
   "metadata": {},
   "outputs": [],
   "source": [
    "df_verkehr.to_pickle(\"../data/clean/df_verkehr.pkl\")"
   ]
  },
  {
   "cell_type": "code",
   "execution_count": 22,
   "metadata": {},
   "outputs": [],
   "source": [
    "df_verkehr_stjohann.to_pickle(\"../data/clean/df_verkehr_stjohann.pkl\")"
   ]
  },
  {
   "cell_type": "code",
   "execution_count": null,
   "metadata": {},
   "outputs": [],
   "source": []
  },
  {
   "cell_type": "code",
   "execution_count": 23,
   "metadata": {},
   "outputs": [],
   "source": [
    "df_verkehr_stjohann_index = df_verkehr_stjohann.set_index(\"timestamp\")"
   ]
  },
  {
   "cell_type": "code",
   "execution_count": 24,
   "metadata": {},
   "outputs": [],
   "source": [
    "df_christmas = df_verkehr_stjohann_index[df_verkehr_stjohann_index.LaneName == \"Spur 1\"].loc['2014-12-23 01:00:00' : '2014-12-27 23:00:00'].Total.reset_index()"
   ]
  },
  {
   "cell_type": "code",
   "execution_count": 25,
   "metadata": {},
   "outputs": [
    {
     "data": {
      "text/plain": [
       "(119, 2)"
      ]
     },
     "execution_count": 25,
     "metadata": {},
     "output_type": "execute_result"
    }
   ],
   "source": [
    "df_christmas.shape"
   ]
  },
  {
   "cell_type": "code",
   "execution_count": 36,
   "metadata": {},
   "outputs": [
    {
     "data": {
      "application/vnd.plotly.v1+json": {
       "config": {
        "plotlyServerURL": "https://plot.ly"
       },
       "data": [
        {
         "hovertemplate": "timestamp=%{x}<br>Total=%{y}<extra></extra>",
         "legendgroup": "",
         "marker": {
          "color": "darkred",
          "symbol": "circle"
         },
         "mode": "markers",
         "name": "",
         "showlegend": false,
         "type": "scatter",
         "x": [
          "2014-12-23T01:00:00",
          "2014-12-23T02:00:00",
          "2014-12-23T03:00:00",
          "2014-12-23T04:00:00",
          "2014-12-23T05:00:00",
          "2014-12-23T06:00:00",
          "2014-12-23T07:00:00",
          "2014-12-23T08:00:00",
          "2014-12-23T09:00:00",
          "2014-12-23T10:00:00",
          "2014-12-23T11:00:00",
          "2014-12-23T12:00:00",
          "2014-12-23T13:00:00",
          "2014-12-23T14:00:00",
          "2014-12-23T15:00:00",
          "2014-12-23T16:00:00",
          "2014-12-23T17:00:00",
          "2014-12-23T18:00:00",
          "2014-12-23T19:00:00",
          "2014-12-23T20:00:00",
          "2014-12-23T21:00:00",
          "2014-12-23T22:00:00",
          "2014-12-23T23:00:00",
          "2014-12-24T01:00:00",
          "2014-12-24T02:00:00",
          "2014-12-24T03:00:00",
          "2014-12-24T04:00:00",
          "2014-12-24T05:00:00",
          "2014-12-24T06:00:00",
          "2014-12-24T07:00:00",
          "2014-12-24T08:00:00",
          "2014-12-24T09:00:00",
          "2014-12-24T10:00:00",
          "2014-12-24T11:00:00",
          "2014-12-24T12:00:00",
          "2014-12-24T13:00:00",
          "2014-12-24T14:00:00",
          "2014-12-24T15:00:00",
          "2014-12-24T16:00:00",
          "2014-12-24T17:00:00",
          "2014-12-24T18:00:00",
          "2014-12-24T19:00:00",
          "2014-12-24T20:00:00",
          "2014-12-24T21:00:00",
          "2014-12-24T22:00:00",
          "2014-12-24T23:00:00",
          "2014-12-24T00:00:00",
          "2014-12-25T01:00:00",
          "2014-12-25T02:00:00",
          "2014-12-25T03:00:00",
          "2014-12-25T04:00:00",
          "2014-12-25T05:00:00",
          "2014-12-25T06:00:00",
          "2014-12-25T07:00:00",
          "2014-12-25T08:00:00",
          "2014-12-25T09:00:00",
          "2014-12-25T10:00:00",
          "2014-12-25T11:00:00",
          "2014-12-25T12:00:00",
          "2014-12-25T13:00:00",
          "2014-12-25T14:00:00",
          "2014-12-25T15:00:00",
          "2014-12-25T16:00:00",
          "2014-12-25T17:00:00",
          "2014-12-25T18:00:00",
          "2014-12-25T19:00:00",
          "2014-12-25T20:00:00",
          "2014-12-25T21:00:00",
          "2014-12-25T22:00:00",
          "2014-12-25T23:00:00",
          "2014-12-25T00:00:00",
          "2014-12-26T01:00:00",
          "2014-12-26T02:00:00",
          "2014-12-26T03:00:00",
          "2014-12-26T04:00:00",
          "2014-12-26T05:00:00",
          "2014-12-26T06:00:00",
          "2014-12-26T07:00:00",
          "2014-12-26T08:00:00",
          "2014-12-26T09:00:00",
          "2014-12-26T10:00:00",
          "2014-12-26T11:00:00",
          "2014-12-26T12:00:00",
          "2014-12-26T13:00:00",
          "2014-12-26T14:00:00",
          "2014-12-26T15:00:00",
          "2014-12-26T16:00:00",
          "2014-12-26T17:00:00",
          "2014-12-26T18:00:00",
          "2014-12-26T19:00:00",
          "2014-12-26T20:00:00",
          "2014-12-26T21:00:00",
          "2014-12-26T22:00:00",
          "2014-12-26T23:00:00",
          "2014-12-26T00:00:00",
          "2014-12-27T01:00:00",
          "2014-12-27T02:00:00",
          "2014-12-27T03:00:00",
          "2014-12-27T04:00:00",
          "2014-12-27T05:00:00",
          "2014-12-27T06:00:00",
          "2014-12-27T07:00:00",
          "2014-12-27T08:00:00",
          "2014-12-27T09:00:00",
          "2014-12-27T10:00:00",
          "2014-12-27T11:00:00",
          "2014-12-27T12:00:00",
          "2014-12-27T13:00:00",
          "2014-12-27T14:00:00",
          "2014-12-27T15:00:00",
          "2014-12-27T16:00:00",
          "2014-12-27T17:00:00",
          "2014-12-27T18:00:00",
          "2014-12-27T19:00:00",
          "2014-12-27T20:00:00",
          "2014-12-27T21:00:00",
          "2014-12-27T22:00:00",
          "2014-12-27T23:00:00",
          "2014-12-27T00:00:00"
         ],
         "xaxis": "x",
         "y": [
          38,
          7,
          6,
          13,
          104,
          172,
          101,
          113,
          139,
          153,
          238,
          295,
          306,
          250,
          261,
          239,
          321,
          384,
          238,
          184,
          134,
          129,
          337,
          26,
          9,
          7,
          20,
          97,
          233,
          152,
          132,
          168,
          157,
          220,
          395,
          490,
          365,
          426,
          337,
          213,
          212,
          91,
          82,
          233,
          116,
          18,
          10,
          8,
          2,
          1,
          6,
          11,
          37,
          24,
          69,
          67,
          68,
          83,
          189,
          169,
          86,
          86,
          91,
          125,
          153,
          188,
          137,
          124,
          86,
          183,
          85,
          10,
          5,
          2,
          9,
          89,
          163,
          80,
          85,
          172,
          180,
          334,
          218,
          277,
          172,
          248,
          334,
          255,
          360,
          224,
          166,
          125,
          172,
          202,
          108,
          18,
          7,
          9,
          7,
          82,
          198,
          92,
          69,
          108,
          181,
          131,
          202,
          194,
          260,
          330,
          256,
          145,
          155,
          196,
          125,
          95,
          150,
          86,
          181
         ],
         "yaxis": "y"
        }
       ],
       "layout": {
        "legend": {
         "tracegroupgap": 0
        },
        "margin": {
         "t": 60
        },
        "template": {
         "data": {
          "bar": [
           {
            "error_x": {
             "color": "#2a3f5f"
            },
            "error_y": {
             "color": "#2a3f5f"
            },
            "marker": {
             "line": {
              "color": "#E5ECF6",
              "width": 0.5
             }
            },
            "type": "bar"
           }
          ],
          "barpolar": [
           {
            "marker": {
             "line": {
              "color": "#E5ECF6",
              "width": 0.5
             }
            },
            "type": "barpolar"
           }
          ],
          "carpet": [
           {
            "aaxis": {
             "endlinecolor": "#2a3f5f",
             "gridcolor": "white",
             "linecolor": "white",
             "minorgridcolor": "white",
             "startlinecolor": "#2a3f5f"
            },
            "baxis": {
             "endlinecolor": "#2a3f5f",
             "gridcolor": "white",
             "linecolor": "white",
             "minorgridcolor": "white",
             "startlinecolor": "#2a3f5f"
            },
            "type": "carpet"
           }
          ],
          "choropleth": [
           {
            "colorbar": {
             "outlinewidth": 0,
             "ticks": ""
            },
            "type": "choropleth"
           }
          ],
          "contour": [
           {
            "colorbar": {
             "outlinewidth": 0,
             "ticks": ""
            },
            "colorscale": [
             [
              0,
              "#0d0887"
             ],
             [
              0.1111111111111111,
              "#46039f"
             ],
             [
              0.2222222222222222,
              "#7201a8"
             ],
             [
              0.3333333333333333,
              "#9c179e"
             ],
             [
              0.4444444444444444,
              "#bd3786"
             ],
             [
              0.5555555555555556,
              "#d8576b"
             ],
             [
              0.6666666666666666,
              "#ed7953"
             ],
             [
              0.7777777777777778,
              "#fb9f3a"
             ],
             [
              0.8888888888888888,
              "#fdca26"
             ],
             [
              1,
              "#f0f921"
             ]
            ],
            "type": "contour"
           }
          ],
          "contourcarpet": [
           {
            "colorbar": {
             "outlinewidth": 0,
             "ticks": ""
            },
            "type": "contourcarpet"
           }
          ],
          "heatmap": [
           {
            "colorbar": {
             "outlinewidth": 0,
             "ticks": ""
            },
            "colorscale": [
             [
              0,
              "#0d0887"
             ],
             [
              0.1111111111111111,
              "#46039f"
             ],
             [
              0.2222222222222222,
              "#7201a8"
             ],
             [
              0.3333333333333333,
              "#9c179e"
             ],
             [
              0.4444444444444444,
              "#bd3786"
             ],
             [
              0.5555555555555556,
              "#d8576b"
             ],
             [
              0.6666666666666666,
              "#ed7953"
             ],
             [
              0.7777777777777778,
              "#fb9f3a"
             ],
             [
              0.8888888888888888,
              "#fdca26"
             ],
             [
              1,
              "#f0f921"
             ]
            ],
            "type": "heatmap"
           }
          ],
          "heatmapgl": [
           {
            "colorbar": {
             "outlinewidth": 0,
             "ticks": ""
            },
            "colorscale": [
             [
              0,
              "#0d0887"
             ],
             [
              0.1111111111111111,
              "#46039f"
             ],
             [
              0.2222222222222222,
              "#7201a8"
             ],
             [
              0.3333333333333333,
              "#9c179e"
             ],
             [
              0.4444444444444444,
              "#bd3786"
             ],
             [
              0.5555555555555556,
              "#d8576b"
             ],
             [
              0.6666666666666666,
              "#ed7953"
             ],
             [
              0.7777777777777778,
              "#fb9f3a"
             ],
             [
              0.8888888888888888,
              "#fdca26"
             ],
             [
              1,
              "#f0f921"
             ]
            ],
            "type": "heatmapgl"
           }
          ],
          "histogram": [
           {
            "marker": {
             "colorbar": {
              "outlinewidth": 0,
              "ticks": ""
             }
            },
            "type": "histogram"
           }
          ],
          "histogram2d": [
           {
            "colorbar": {
             "outlinewidth": 0,
             "ticks": ""
            },
            "colorscale": [
             [
              0,
              "#0d0887"
             ],
             [
              0.1111111111111111,
              "#46039f"
             ],
             [
              0.2222222222222222,
              "#7201a8"
             ],
             [
              0.3333333333333333,
              "#9c179e"
             ],
             [
              0.4444444444444444,
              "#bd3786"
             ],
             [
              0.5555555555555556,
              "#d8576b"
             ],
             [
              0.6666666666666666,
              "#ed7953"
             ],
             [
              0.7777777777777778,
              "#fb9f3a"
             ],
             [
              0.8888888888888888,
              "#fdca26"
             ],
             [
              1,
              "#f0f921"
             ]
            ],
            "type": "histogram2d"
           }
          ],
          "histogram2dcontour": [
           {
            "colorbar": {
             "outlinewidth": 0,
             "ticks": ""
            },
            "colorscale": [
             [
              0,
              "#0d0887"
             ],
             [
              0.1111111111111111,
              "#46039f"
             ],
             [
              0.2222222222222222,
              "#7201a8"
             ],
             [
              0.3333333333333333,
              "#9c179e"
             ],
             [
              0.4444444444444444,
              "#bd3786"
             ],
             [
              0.5555555555555556,
              "#d8576b"
             ],
             [
              0.6666666666666666,
              "#ed7953"
             ],
             [
              0.7777777777777778,
              "#fb9f3a"
             ],
             [
              0.8888888888888888,
              "#fdca26"
             ],
             [
              1,
              "#f0f921"
             ]
            ],
            "type": "histogram2dcontour"
           }
          ],
          "mesh3d": [
           {
            "colorbar": {
             "outlinewidth": 0,
             "ticks": ""
            },
            "type": "mesh3d"
           }
          ],
          "parcoords": [
           {
            "line": {
             "colorbar": {
              "outlinewidth": 0,
              "ticks": ""
             }
            },
            "type": "parcoords"
           }
          ],
          "pie": [
           {
            "automargin": true,
            "type": "pie"
           }
          ],
          "scatter": [
           {
            "marker": {
             "colorbar": {
              "outlinewidth": 0,
              "ticks": ""
             }
            },
            "type": "scatter"
           }
          ],
          "scatter3d": [
           {
            "line": {
             "colorbar": {
              "outlinewidth": 0,
              "ticks": ""
             }
            },
            "marker": {
             "colorbar": {
              "outlinewidth": 0,
              "ticks": ""
             }
            },
            "type": "scatter3d"
           }
          ],
          "scattercarpet": [
           {
            "marker": {
             "colorbar": {
              "outlinewidth": 0,
              "ticks": ""
             }
            },
            "type": "scattercarpet"
           }
          ],
          "scattergeo": [
           {
            "marker": {
             "colorbar": {
              "outlinewidth": 0,
              "ticks": ""
             }
            },
            "type": "scattergeo"
           }
          ],
          "scattergl": [
           {
            "marker": {
             "colorbar": {
              "outlinewidth": 0,
              "ticks": ""
             }
            },
            "type": "scattergl"
           }
          ],
          "scattermapbox": [
           {
            "marker": {
             "colorbar": {
              "outlinewidth": 0,
              "ticks": ""
             }
            },
            "type": "scattermapbox"
           }
          ],
          "scatterpolar": [
           {
            "marker": {
             "colorbar": {
              "outlinewidth": 0,
              "ticks": ""
             }
            },
            "type": "scatterpolar"
           }
          ],
          "scatterpolargl": [
           {
            "marker": {
             "colorbar": {
              "outlinewidth": 0,
              "ticks": ""
             }
            },
            "type": "scatterpolargl"
           }
          ],
          "scatterternary": [
           {
            "marker": {
             "colorbar": {
              "outlinewidth": 0,
              "ticks": ""
             }
            },
            "type": "scatterternary"
           }
          ],
          "surface": [
           {
            "colorbar": {
             "outlinewidth": 0,
             "ticks": ""
            },
            "colorscale": [
             [
              0,
              "#0d0887"
             ],
             [
              0.1111111111111111,
              "#46039f"
             ],
             [
              0.2222222222222222,
              "#7201a8"
             ],
             [
              0.3333333333333333,
              "#9c179e"
             ],
             [
              0.4444444444444444,
              "#bd3786"
             ],
             [
              0.5555555555555556,
              "#d8576b"
             ],
             [
              0.6666666666666666,
              "#ed7953"
             ],
             [
              0.7777777777777778,
              "#fb9f3a"
             ],
             [
              0.8888888888888888,
              "#fdca26"
             ],
             [
              1,
              "#f0f921"
             ]
            ],
            "type": "surface"
           }
          ],
          "table": [
           {
            "cells": {
             "fill": {
              "color": "#EBF0F8"
             },
             "line": {
              "color": "white"
             }
            },
            "header": {
             "fill": {
              "color": "#C8D4E3"
             },
             "line": {
              "color": "white"
             }
            },
            "type": "table"
           }
          ]
         },
         "layout": {
          "annotationdefaults": {
           "arrowcolor": "#2a3f5f",
           "arrowhead": 0,
           "arrowwidth": 1
          },
          "coloraxis": {
           "colorbar": {
            "outlinewidth": 0,
            "ticks": ""
           }
          },
          "colorscale": {
           "diverging": [
            [
             0,
             "#8e0152"
            ],
            [
             0.1,
             "#c51b7d"
            ],
            [
             0.2,
             "#de77ae"
            ],
            [
             0.3,
             "#f1b6da"
            ],
            [
             0.4,
             "#fde0ef"
            ],
            [
             0.5,
             "#f7f7f7"
            ],
            [
             0.6,
             "#e6f5d0"
            ],
            [
             0.7,
             "#b8e186"
            ],
            [
             0.8,
             "#7fbc41"
            ],
            [
             0.9,
             "#4d9221"
            ],
            [
             1,
             "#276419"
            ]
           ],
           "sequential": [
            [
             0,
             "#0d0887"
            ],
            [
             0.1111111111111111,
             "#46039f"
            ],
            [
             0.2222222222222222,
             "#7201a8"
            ],
            [
             0.3333333333333333,
             "#9c179e"
            ],
            [
             0.4444444444444444,
             "#bd3786"
            ],
            [
             0.5555555555555556,
             "#d8576b"
            ],
            [
             0.6666666666666666,
             "#ed7953"
            ],
            [
             0.7777777777777778,
             "#fb9f3a"
            ],
            [
             0.8888888888888888,
             "#fdca26"
            ],
            [
             1,
             "#f0f921"
            ]
           ],
           "sequentialminus": [
            [
             0,
             "#0d0887"
            ],
            [
             0.1111111111111111,
             "#46039f"
            ],
            [
             0.2222222222222222,
             "#7201a8"
            ],
            [
             0.3333333333333333,
             "#9c179e"
            ],
            [
             0.4444444444444444,
             "#bd3786"
            ],
            [
             0.5555555555555556,
             "#d8576b"
            ],
            [
             0.6666666666666666,
             "#ed7953"
            ],
            [
             0.7777777777777778,
             "#fb9f3a"
            ],
            [
             0.8888888888888888,
             "#fdca26"
            ],
            [
             1,
             "#f0f921"
            ]
           ]
          },
          "colorway": [
           "#636efa",
           "#EF553B",
           "#00cc96",
           "#ab63fa",
           "#FFA15A",
           "#19d3f3",
           "#FF6692",
           "#B6E880",
           "#FF97FF",
           "#FECB52"
          ],
          "font": {
           "color": "#2a3f5f"
          },
          "geo": {
           "bgcolor": "white",
           "lakecolor": "white",
           "landcolor": "#E5ECF6",
           "showlakes": true,
           "showland": true,
           "subunitcolor": "white"
          },
          "hoverlabel": {
           "align": "left"
          },
          "hovermode": "closest",
          "mapbox": {
           "style": "light"
          },
          "paper_bgcolor": "white",
          "plot_bgcolor": "#E5ECF6",
          "polar": {
           "angularaxis": {
            "gridcolor": "white",
            "linecolor": "white",
            "ticks": ""
           },
           "bgcolor": "#E5ECF6",
           "radialaxis": {
            "gridcolor": "white",
            "linecolor": "white",
            "ticks": ""
           }
          },
          "scene": {
           "xaxis": {
            "backgroundcolor": "#E5ECF6",
            "gridcolor": "white",
            "gridwidth": 2,
            "linecolor": "white",
            "showbackground": true,
            "ticks": "",
            "zerolinecolor": "white"
           },
           "yaxis": {
            "backgroundcolor": "#E5ECF6",
            "gridcolor": "white",
            "gridwidth": 2,
            "linecolor": "white",
            "showbackground": true,
            "ticks": "",
            "zerolinecolor": "white"
           },
           "zaxis": {
            "backgroundcolor": "#E5ECF6",
            "gridcolor": "white",
            "gridwidth": 2,
            "linecolor": "white",
            "showbackground": true,
            "ticks": "",
            "zerolinecolor": "white"
           }
          },
          "shapedefaults": {
           "line": {
            "color": "#2a3f5f"
           }
          },
          "ternary": {
           "aaxis": {
            "gridcolor": "white",
            "linecolor": "white",
            "ticks": ""
           },
           "baxis": {
            "gridcolor": "white",
            "linecolor": "white",
            "ticks": ""
           },
           "bgcolor": "#E5ECF6",
           "caxis": {
            "gridcolor": "white",
            "linecolor": "white",
            "ticks": ""
           }
          },
          "title": {
           "x": 0.05
          },
          "xaxis": {
           "automargin": true,
           "gridcolor": "white",
           "linecolor": "white",
           "ticks": "",
           "title": {
            "standoff": 15
           },
           "zerolinecolor": "white",
           "zerolinewidth": 2
          },
          "yaxis": {
           "automargin": true,
           "gridcolor": "white",
           "linecolor": "white",
           "ticks": "",
           "title": {
            "standoff": 15
           },
           "zerolinecolor": "white",
           "zerolinewidth": 2
          }
         }
        },
        "xaxis": {
         "anchor": "y",
         "domain": [
          0,
          1
         ],
         "title": {
          "text": "timestamp"
         }
        },
        "yaxis": {
         "anchor": "x",
         "domain": [
          0,
          1
         ],
         "title": {
          "text": "Total"
         }
        }
       }
      },
      "text/html": [
       "<div>\n",
       "        \n",
       "        \n",
       "            <div id=\"9f1f5d71-710a-4180-bb7a-a1375ea58123\" class=\"plotly-graph-div\" style=\"height:525px; width:100%;\"></div>\n",
       "            <script type=\"text/javascript\">\n",
       "                require([\"plotly\"], function(Plotly) {\n",
       "                    window.PLOTLYENV=window.PLOTLYENV || {};\n",
       "                    \n",
       "                if (document.getElementById(\"9f1f5d71-710a-4180-bb7a-a1375ea58123\")) {\n",
       "                    Plotly.newPlot(\n",
       "                        '9f1f5d71-710a-4180-bb7a-a1375ea58123',\n",
       "                        [{\"hovertemplate\": \"timestamp=%{x}<br>Total=%{y}<extra></extra>\", \"legendgroup\": \"\", \"marker\": {\"color\": \"darkred\", \"symbol\": \"circle\"}, \"mode\": \"markers\", \"name\": \"\", \"showlegend\": false, \"type\": \"scatter\", \"x\": [\"2014-12-23T01:00:00\", \"2014-12-23T02:00:00\", \"2014-12-23T03:00:00\", \"2014-12-23T04:00:00\", \"2014-12-23T05:00:00\", \"2014-12-23T06:00:00\", \"2014-12-23T07:00:00\", \"2014-12-23T08:00:00\", \"2014-12-23T09:00:00\", \"2014-12-23T10:00:00\", \"2014-12-23T11:00:00\", \"2014-12-23T12:00:00\", \"2014-12-23T13:00:00\", \"2014-12-23T14:00:00\", \"2014-12-23T15:00:00\", \"2014-12-23T16:00:00\", \"2014-12-23T17:00:00\", \"2014-12-23T18:00:00\", \"2014-12-23T19:00:00\", \"2014-12-23T20:00:00\", \"2014-12-23T21:00:00\", \"2014-12-23T22:00:00\", \"2014-12-23T23:00:00\", \"2014-12-24T01:00:00\", \"2014-12-24T02:00:00\", \"2014-12-24T03:00:00\", \"2014-12-24T04:00:00\", \"2014-12-24T05:00:00\", \"2014-12-24T06:00:00\", \"2014-12-24T07:00:00\", \"2014-12-24T08:00:00\", \"2014-12-24T09:00:00\", \"2014-12-24T10:00:00\", \"2014-12-24T11:00:00\", \"2014-12-24T12:00:00\", \"2014-12-24T13:00:00\", \"2014-12-24T14:00:00\", \"2014-12-24T15:00:00\", \"2014-12-24T16:00:00\", \"2014-12-24T17:00:00\", \"2014-12-24T18:00:00\", \"2014-12-24T19:00:00\", \"2014-12-24T20:00:00\", \"2014-12-24T21:00:00\", \"2014-12-24T22:00:00\", \"2014-12-24T23:00:00\", \"2014-12-24T00:00:00\", \"2014-12-25T01:00:00\", \"2014-12-25T02:00:00\", \"2014-12-25T03:00:00\", \"2014-12-25T04:00:00\", \"2014-12-25T05:00:00\", \"2014-12-25T06:00:00\", \"2014-12-25T07:00:00\", \"2014-12-25T08:00:00\", \"2014-12-25T09:00:00\", \"2014-12-25T10:00:00\", \"2014-12-25T11:00:00\", \"2014-12-25T12:00:00\", \"2014-12-25T13:00:00\", \"2014-12-25T14:00:00\", \"2014-12-25T15:00:00\", \"2014-12-25T16:00:00\", \"2014-12-25T17:00:00\", \"2014-12-25T18:00:00\", \"2014-12-25T19:00:00\", \"2014-12-25T20:00:00\", \"2014-12-25T21:00:00\", \"2014-12-25T22:00:00\", \"2014-12-25T23:00:00\", \"2014-12-25T00:00:00\", \"2014-12-26T01:00:00\", \"2014-12-26T02:00:00\", \"2014-12-26T03:00:00\", \"2014-12-26T04:00:00\", \"2014-12-26T05:00:00\", \"2014-12-26T06:00:00\", \"2014-12-26T07:00:00\", \"2014-12-26T08:00:00\", \"2014-12-26T09:00:00\", \"2014-12-26T10:00:00\", \"2014-12-26T11:00:00\", \"2014-12-26T12:00:00\", \"2014-12-26T13:00:00\", \"2014-12-26T14:00:00\", \"2014-12-26T15:00:00\", \"2014-12-26T16:00:00\", \"2014-12-26T17:00:00\", \"2014-12-26T18:00:00\", \"2014-12-26T19:00:00\", \"2014-12-26T20:00:00\", \"2014-12-26T21:00:00\", \"2014-12-26T22:00:00\", \"2014-12-26T23:00:00\", \"2014-12-26T00:00:00\", \"2014-12-27T01:00:00\", \"2014-12-27T02:00:00\", \"2014-12-27T03:00:00\", \"2014-12-27T04:00:00\", \"2014-12-27T05:00:00\", \"2014-12-27T06:00:00\", \"2014-12-27T07:00:00\", \"2014-12-27T08:00:00\", \"2014-12-27T09:00:00\", \"2014-12-27T10:00:00\", \"2014-12-27T11:00:00\", \"2014-12-27T12:00:00\", \"2014-12-27T13:00:00\", \"2014-12-27T14:00:00\", \"2014-12-27T15:00:00\", \"2014-12-27T16:00:00\", \"2014-12-27T17:00:00\", \"2014-12-27T18:00:00\", \"2014-12-27T19:00:00\", \"2014-12-27T20:00:00\", \"2014-12-27T21:00:00\", \"2014-12-27T22:00:00\", \"2014-12-27T23:00:00\", \"2014-12-27T00:00:00\"], \"xaxis\": \"x\", \"y\": [38, 7, 6, 13, 104, 172, 101, 113, 139, 153, 238, 295, 306, 250, 261, 239, 321, 384, 238, 184, 134, 129, 337, 26, 9, 7, 20, 97, 233, 152, 132, 168, 157, 220, 395, 490, 365, 426, 337, 213, 212, 91, 82, 233, 116, 18, 10, 8, 2, 1, 6, 11, 37, 24, 69, 67, 68, 83, 189, 169, 86, 86, 91, 125, 153, 188, 137, 124, 86, 183, 85, 10, 5, 2, 9, 89, 163, 80, 85, 172, 180, 334, 218, 277, 172, 248, 334, 255, 360, 224, 166, 125, 172, 202, 108, 18, 7, 9, 7, 82, 198, 92, 69, 108, 181, 131, 202, 194, 260, 330, 256, 145, 155, 196, 125, 95, 150, 86, 181], \"yaxis\": \"y\"}],\n",
       "                        {\"legend\": {\"tracegroupgap\": 0}, \"margin\": {\"t\": 60}, \"template\": {\"data\": {\"bar\": [{\"error_x\": {\"color\": \"#2a3f5f\"}, \"error_y\": {\"color\": \"#2a3f5f\"}, \"marker\": {\"line\": {\"color\": \"#E5ECF6\", \"width\": 0.5}}, \"type\": \"bar\"}], \"barpolar\": [{\"marker\": {\"line\": {\"color\": \"#E5ECF6\", \"width\": 0.5}}, \"type\": \"barpolar\"}], \"carpet\": [{\"aaxis\": {\"endlinecolor\": \"#2a3f5f\", \"gridcolor\": \"white\", \"linecolor\": \"white\", \"minorgridcolor\": \"white\", \"startlinecolor\": \"#2a3f5f\"}, \"baxis\": {\"endlinecolor\": \"#2a3f5f\", \"gridcolor\": \"white\", \"linecolor\": \"white\", \"minorgridcolor\": \"white\", \"startlinecolor\": \"#2a3f5f\"}, \"type\": \"carpet\"}], \"choropleth\": [{\"colorbar\": {\"outlinewidth\": 0, \"ticks\": \"\"}, \"type\": \"choropleth\"}], \"contour\": [{\"colorbar\": {\"outlinewidth\": 0, \"ticks\": \"\"}, \"colorscale\": [[0.0, \"#0d0887\"], [0.1111111111111111, \"#46039f\"], [0.2222222222222222, \"#7201a8\"], [0.3333333333333333, \"#9c179e\"], [0.4444444444444444, \"#bd3786\"], [0.5555555555555556, \"#d8576b\"], [0.6666666666666666, \"#ed7953\"], [0.7777777777777778, \"#fb9f3a\"], [0.8888888888888888, \"#fdca26\"], [1.0, \"#f0f921\"]], \"type\": \"contour\"}], \"contourcarpet\": [{\"colorbar\": {\"outlinewidth\": 0, \"ticks\": \"\"}, \"type\": \"contourcarpet\"}], \"heatmap\": [{\"colorbar\": {\"outlinewidth\": 0, \"ticks\": \"\"}, \"colorscale\": [[0.0, \"#0d0887\"], [0.1111111111111111, \"#46039f\"], [0.2222222222222222, \"#7201a8\"], [0.3333333333333333, \"#9c179e\"], [0.4444444444444444, \"#bd3786\"], [0.5555555555555556, \"#d8576b\"], [0.6666666666666666, \"#ed7953\"], [0.7777777777777778, \"#fb9f3a\"], [0.8888888888888888, \"#fdca26\"], [1.0, \"#f0f921\"]], \"type\": \"heatmap\"}], \"heatmapgl\": [{\"colorbar\": {\"outlinewidth\": 0, \"ticks\": \"\"}, \"colorscale\": [[0.0, \"#0d0887\"], [0.1111111111111111, \"#46039f\"], [0.2222222222222222, \"#7201a8\"], [0.3333333333333333, \"#9c179e\"], [0.4444444444444444, \"#bd3786\"], [0.5555555555555556, \"#d8576b\"], [0.6666666666666666, \"#ed7953\"], [0.7777777777777778, \"#fb9f3a\"], [0.8888888888888888, \"#fdca26\"], [1.0, \"#f0f921\"]], \"type\": \"heatmapgl\"}], \"histogram\": [{\"marker\": {\"colorbar\": {\"outlinewidth\": 0, \"ticks\": \"\"}}, \"type\": \"histogram\"}], \"histogram2d\": [{\"colorbar\": {\"outlinewidth\": 0, \"ticks\": \"\"}, \"colorscale\": [[0.0, \"#0d0887\"], [0.1111111111111111, \"#46039f\"], [0.2222222222222222, \"#7201a8\"], [0.3333333333333333, \"#9c179e\"], [0.4444444444444444, \"#bd3786\"], [0.5555555555555556, \"#d8576b\"], [0.6666666666666666, \"#ed7953\"], [0.7777777777777778, \"#fb9f3a\"], [0.8888888888888888, \"#fdca26\"], [1.0, \"#f0f921\"]], \"type\": \"histogram2d\"}], \"histogram2dcontour\": [{\"colorbar\": {\"outlinewidth\": 0, \"ticks\": \"\"}, \"colorscale\": [[0.0, \"#0d0887\"], [0.1111111111111111, \"#46039f\"], [0.2222222222222222, \"#7201a8\"], [0.3333333333333333, \"#9c179e\"], [0.4444444444444444, \"#bd3786\"], [0.5555555555555556, \"#d8576b\"], [0.6666666666666666, \"#ed7953\"], [0.7777777777777778, \"#fb9f3a\"], [0.8888888888888888, \"#fdca26\"], [1.0, \"#f0f921\"]], \"type\": \"histogram2dcontour\"}], \"mesh3d\": [{\"colorbar\": {\"outlinewidth\": 0, \"ticks\": \"\"}, \"type\": \"mesh3d\"}], \"parcoords\": [{\"line\": {\"colorbar\": {\"outlinewidth\": 0, \"ticks\": \"\"}}, \"type\": \"parcoords\"}], \"pie\": [{\"automargin\": true, \"type\": \"pie\"}], \"scatter\": [{\"marker\": {\"colorbar\": {\"outlinewidth\": 0, \"ticks\": \"\"}}, \"type\": \"scatter\"}], \"scatter3d\": [{\"line\": {\"colorbar\": {\"outlinewidth\": 0, \"ticks\": \"\"}}, \"marker\": {\"colorbar\": {\"outlinewidth\": 0, \"ticks\": \"\"}}, \"type\": \"scatter3d\"}], \"scattercarpet\": [{\"marker\": {\"colorbar\": {\"outlinewidth\": 0, \"ticks\": \"\"}}, \"type\": \"scattercarpet\"}], \"scattergeo\": [{\"marker\": {\"colorbar\": {\"outlinewidth\": 0, \"ticks\": \"\"}}, \"type\": \"scattergeo\"}], \"scattergl\": [{\"marker\": {\"colorbar\": {\"outlinewidth\": 0, \"ticks\": \"\"}}, \"type\": \"scattergl\"}], \"scattermapbox\": [{\"marker\": {\"colorbar\": {\"outlinewidth\": 0, \"ticks\": \"\"}}, \"type\": \"scattermapbox\"}], \"scatterpolar\": [{\"marker\": {\"colorbar\": {\"outlinewidth\": 0, \"ticks\": \"\"}}, \"type\": \"scatterpolar\"}], \"scatterpolargl\": [{\"marker\": {\"colorbar\": {\"outlinewidth\": 0, \"ticks\": \"\"}}, \"type\": \"scatterpolargl\"}], \"scatterternary\": [{\"marker\": {\"colorbar\": {\"outlinewidth\": 0, \"ticks\": \"\"}}, \"type\": \"scatterternary\"}], \"surface\": [{\"colorbar\": {\"outlinewidth\": 0, \"ticks\": \"\"}, \"colorscale\": [[0.0, \"#0d0887\"], [0.1111111111111111, \"#46039f\"], [0.2222222222222222, \"#7201a8\"], [0.3333333333333333, \"#9c179e\"], [0.4444444444444444, \"#bd3786\"], [0.5555555555555556, \"#d8576b\"], [0.6666666666666666, \"#ed7953\"], [0.7777777777777778, \"#fb9f3a\"], [0.8888888888888888, \"#fdca26\"], [1.0, \"#f0f921\"]], \"type\": \"surface\"}], \"table\": [{\"cells\": {\"fill\": {\"color\": \"#EBF0F8\"}, \"line\": {\"color\": \"white\"}}, \"header\": {\"fill\": {\"color\": \"#C8D4E3\"}, \"line\": {\"color\": \"white\"}}, \"type\": \"table\"}]}, \"layout\": {\"annotationdefaults\": {\"arrowcolor\": \"#2a3f5f\", \"arrowhead\": 0, \"arrowwidth\": 1}, \"coloraxis\": {\"colorbar\": {\"outlinewidth\": 0, \"ticks\": \"\"}}, \"colorscale\": {\"diverging\": [[0, \"#8e0152\"], [0.1, \"#c51b7d\"], [0.2, \"#de77ae\"], [0.3, \"#f1b6da\"], [0.4, \"#fde0ef\"], [0.5, \"#f7f7f7\"], [0.6, \"#e6f5d0\"], [0.7, \"#b8e186\"], [0.8, \"#7fbc41\"], [0.9, \"#4d9221\"], [1, \"#276419\"]], \"sequential\": [[0.0, \"#0d0887\"], [0.1111111111111111, \"#46039f\"], [0.2222222222222222, \"#7201a8\"], [0.3333333333333333, \"#9c179e\"], [0.4444444444444444, \"#bd3786\"], [0.5555555555555556, \"#d8576b\"], [0.6666666666666666, \"#ed7953\"], [0.7777777777777778, \"#fb9f3a\"], [0.8888888888888888, \"#fdca26\"], [1.0, \"#f0f921\"]], \"sequentialminus\": [[0.0, \"#0d0887\"], [0.1111111111111111, \"#46039f\"], [0.2222222222222222, \"#7201a8\"], [0.3333333333333333, \"#9c179e\"], [0.4444444444444444, \"#bd3786\"], [0.5555555555555556, \"#d8576b\"], [0.6666666666666666, \"#ed7953\"], [0.7777777777777778, \"#fb9f3a\"], [0.8888888888888888, \"#fdca26\"], [1.0, \"#f0f921\"]]}, \"colorway\": [\"#636efa\", \"#EF553B\", \"#00cc96\", \"#ab63fa\", \"#FFA15A\", \"#19d3f3\", \"#FF6692\", \"#B6E880\", \"#FF97FF\", \"#FECB52\"], \"font\": {\"color\": \"#2a3f5f\"}, \"geo\": {\"bgcolor\": \"white\", \"lakecolor\": \"white\", \"landcolor\": \"#E5ECF6\", \"showlakes\": true, \"showland\": true, \"subunitcolor\": \"white\"}, \"hoverlabel\": {\"align\": \"left\"}, \"hovermode\": \"closest\", \"mapbox\": {\"style\": \"light\"}, \"paper_bgcolor\": \"white\", \"plot_bgcolor\": \"#E5ECF6\", \"polar\": {\"angularaxis\": {\"gridcolor\": \"white\", \"linecolor\": \"white\", \"ticks\": \"\"}, \"bgcolor\": \"#E5ECF6\", \"radialaxis\": {\"gridcolor\": \"white\", \"linecolor\": \"white\", \"ticks\": \"\"}}, \"scene\": {\"xaxis\": {\"backgroundcolor\": \"#E5ECF6\", \"gridcolor\": \"white\", \"gridwidth\": 2, \"linecolor\": \"white\", \"showbackground\": true, \"ticks\": \"\", \"zerolinecolor\": \"white\"}, \"yaxis\": {\"backgroundcolor\": \"#E5ECF6\", \"gridcolor\": \"white\", \"gridwidth\": 2, \"linecolor\": \"white\", \"showbackground\": true, \"ticks\": \"\", \"zerolinecolor\": \"white\"}, \"zaxis\": {\"backgroundcolor\": \"#E5ECF6\", \"gridcolor\": \"white\", \"gridwidth\": 2, \"linecolor\": \"white\", \"showbackground\": true, \"ticks\": \"\", \"zerolinecolor\": \"white\"}}, \"shapedefaults\": {\"line\": {\"color\": \"#2a3f5f\"}}, \"ternary\": {\"aaxis\": {\"gridcolor\": \"white\", \"linecolor\": \"white\", \"ticks\": \"\"}, \"baxis\": {\"gridcolor\": \"white\", \"linecolor\": \"white\", \"ticks\": \"\"}, \"bgcolor\": \"#E5ECF6\", \"caxis\": {\"gridcolor\": \"white\", \"linecolor\": \"white\", \"ticks\": \"\"}}, \"title\": {\"x\": 0.05}, \"xaxis\": {\"automargin\": true, \"gridcolor\": \"white\", \"linecolor\": \"white\", \"ticks\": \"\", \"title\": {\"standoff\": 15}, \"zerolinecolor\": \"white\", \"zerolinewidth\": 2}, \"yaxis\": {\"automargin\": true, \"gridcolor\": \"white\", \"linecolor\": \"white\", \"ticks\": \"\", \"title\": {\"standoff\": 15}, \"zerolinecolor\": \"white\", \"zerolinewidth\": 2}}}, \"xaxis\": {\"anchor\": \"y\", \"domain\": [0.0, 1.0], \"title\": {\"text\": \"timestamp\"}}, \"yaxis\": {\"anchor\": \"x\", \"domain\": [0.0, 1.0], \"title\": {\"text\": \"Total\"}}},\n",
       "                        {\"responsive\": true}\n",
       "                    ).then(function(){\n",
       "                            \n",
       "var gd = document.getElementById('9f1f5d71-710a-4180-bb7a-a1375ea58123');\n",
       "var x = new MutationObserver(function (mutations, observer) {{\n",
       "        var display = window.getComputedStyle(gd).display;\n",
       "        if (!display || display === 'none') {{\n",
       "            console.log([gd, 'removed!']);\n",
       "            Plotly.purge(gd);\n",
       "            observer.disconnect();\n",
       "        }}\n",
       "}});\n",
       "\n",
       "// Listen for the removal of the full notebook cells\n",
       "var notebookContainer = gd.closest('#notebook-container');\n",
       "if (notebookContainer) {{\n",
       "    x.observe(notebookContainer, {childList: true});\n",
       "}}\n",
       "\n",
       "// Listen for the clearing of the current output cell\n",
       "var outputEl = gd.closest('.output');\n",
       "if (outputEl) {{\n",
       "    x.observe(outputEl, {childList: true});\n",
       "}}\n",
       "\n",
       "                        })\n",
       "                };\n",
       "                });\n",
       "            </script>\n",
       "        </div>"
      ]
     },
     "metadata": {},
     "output_type": "display_data"
    }
   ],
   "source": [
    "px.scatter(df_christmas.sort_index(), x=\"timestamp\", y=\"Total\", color_discrete_sequence=[\"darkred\"])"
   ]
  },
  {
   "cell_type": "code",
   "execution_count": null,
   "metadata": {},
   "outputs": [],
   "source": []
  },
  {
   "cell_type": "code",
   "execution_count": null,
   "metadata": {},
   "outputs": [],
   "source": []
  }
 ],
 "metadata": {
  "kernelspec": {
   "display_name": "Python 3",
   "language": "python",
   "name": "python3"
  },
  "language_info": {
   "codemirror_mode": {
    "name": "ipython",
    "version": 3
   },
   "file_extension": ".py",
   "mimetype": "text/x-python",
   "name": "python",
   "nbconvert_exporter": "python",
   "pygments_lexer": "ipython3",
   "version": "3.7.5"
  }
 },
 "nbformat": 4,
 "nbformat_minor": 2
}
